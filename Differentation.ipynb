{
 "cells": [
  {
   "cell_type": "markdown",
   "metadata": {
    "id": "-OS3Ac017T1i"
   },
   "source": [
    "# Implementacja automatycznego różniczkowania w języku Julia\n",
    "\n",
    "- Porównanie różniczkowania w przód i w tył funkcji jednej zmiennej\n",
    "- Porównanie różniczkowania w przód i w tył funkcji wielu zmiennych\n",
    "- Implementacja prostej sieci neuronowej\n"
   ]
  },
  {
   "cell_type": "markdown",
   "metadata": {},
   "source": [
    "###### M.Foltys, Algorytmy w Inżynierii Danych. Czerwiec 2021"
   ]
  },
  {
   "cell_type": "code",
   "execution_count": null,
   "metadata": {
    "colab": {
     "base_uri": "https://localhost:8080/"
    },
    "executionInfo": {
     "elapsed": 1767,
     "status": "ok",
     "timestamp": 1617026452426,
     "user": {
      "displayName": "Michał Foltys",
      "photoUrl": "https://lh3.googleusercontent.com/a-/AOh14Gj0ODp4Mw304Kucn_UTUgXPE-AYJYlWR41vm_BFY90=s64",
      "userId": "07703327373343228158"
     },
     "user_tz": -120
    },
    "id": "EEzvvzCl1i0F",
    "outputId": "daadd594-990b-4b4e-8bb3-00c0344c749f"
   },
   "outputs": [],
   "source": [
    "# Sprawdzenie poprawności działania kernela Julii oraz dodanie bibliotek zewnętrznych\n",
    "# Testowane na wersji Julii 1.5.3\n",
    "\n",
    "using Plots # Tworzenie wykresów\n",
    "using BenchmarkTools # Pomiar czasu wykonania kodu i alokowana pamięć\n",
    "using DelimitedFiles # zapis do CSV \n",
    "import LinearAlgebra: diagm\n",
    "\n",
    "versioninfo()"
   ]
  },
  {
   "cell_type": "markdown",
   "metadata": {},
   "source": [
    "# Przygotowanie do różniczkowania w przód"
   ]
  },
  {
   "cell_type": "markdown",
   "metadata": {
    "id": "pIvRBjc4TH-_"
   },
   "source": [
    "#### Inicjalizacja liczb dualnych"
   ]
  },
  {
   "cell_type": "code",
   "execution_count": null,
   "metadata": {},
   "outputs": [],
   "source": [
    "# zdefiniowanie struktury liczby Dualnej\n",
    "# Taka liczba przechowuje wartość or wartość pochodnej\n",
    "struct Dual{T <:Number} <:Number\n",
    "  v::T\n",
    "  dv::T\n",
    "end"
   ]
  },
  {
   "cell_type": "code",
   "execution_count": null,
   "metadata": {},
   "outputs": [],
   "source": [
    "# Część odpowiedzialna za przeciążenia podstawowych operatorów\n",
    "import Base: +, -, *, /, ^\n",
    "-(x::Dual) = Dual(-x.v, -x.dv)\n",
    "+(x::Dual, y::Dual) = Dual( x.v + y.v, x.dv + y.dv)\n",
    "-(x::Dual, y::Dual) = Dual( x.v - y.v, x.dv - y.dv)\n",
    "*(x::Dual, y::Dual) = Dual( x.v * y.v, x.dv * y.v + x.v * y.dv)\n",
    "/(x::Dual, y::Dual) = Dual( x.v / y.v, (x.dv * y.v - x.v * y.dv)/y.v^2)\n",
    "^(x::Dual, y::Dual) = Dual( x.v ^ y.v, x^y*log(x))\n",
    "\n",
    "# Definicja podstawowych funkcji, gdy na wejściu dostaną liczbę dualną\n",
    "import Base: abs, sin, cos, tan, exp, sqrt, isless\n",
    "abs(x::Dual) = Dual(abs(x.v),sign(x.v)*x.dv)\n",
    "sin(x::Dual) = Dual(sin(x.v), cos(x.v)*x.dv)\n",
    "cos(x::Dual) = Dual(cos(x.v),-sin(x.v)*x.dv)\n",
    "tan(x::Dual) = Dual(tan(x.v), one(x.v)*x.dv + tan(x.v)^2*x.dv)\n",
    "exp(x::Dual) = Dual(exp(x.v), exp(x.v)*x.dv)\n",
    "log(x::Dual) = Dual(log(x.v), (1/x.v)*x.dv)\n",
    "sqrt(x::Dual) = Dual(sqrt(x.v),.5/sqrt(x.v) * x.dv)\n",
    "softmax(x::Dual) = Dual(softmax(x.v), softmax_d(x.v)*x.dv)\n",
    "isless(x::Dual, y::Dual) = x.v < y.v;"
   ]
  },
  {
   "cell_type": "code",
   "execution_count": null,
   "metadata": {},
   "outputs": [],
   "source": [
    "# Funkcje pomocnicze ułatwiające pracę z liczbami dualnymi\n",
    "import Base: show\n",
    "show(io::IO, x::Dual) = print(io, \"(\", x.v, \") + [\", x.dv, \"ϵ]\");\n",
    "value(x::Dual) = x.v;\n",
    "partials(x::Dual) = x.dv;"
   ]
  },
  {
   "cell_type": "code",
   "execution_count": null,
   "metadata": {},
   "outputs": [],
   "source": [
    "# Promocja typów i konwersja\n",
    "import Base: convert, promote_rule\n",
    "convert(::Type{Dual{T}}, x::Dual) where T = Dual(convert(T, x.v), convert(T, x.dv))\n",
    "\n",
    "convert(::Type{Dual{T}}, x::Number) where T = Dual(convert(T, x), zero(T))\n",
    "\n",
    "convert(::Type{Dual{T}}, x::Float64) where T = Dual(convert(T, x), zero(T))\n",
    "\n",
    "promote_rule(::Type{Dual{T}}, ::Type{R}) where {T,R} = Dual{promote_type(T,R)}"
   ]
  },
  {
   "cell_type": "code",
   "execution_count": null,
   "metadata": {},
   "outputs": [],
   "source": [
    "# Zdefiniowanie zarodka \n",
    "ϵ = Dual(0., 1.)"
   ]
  },
  {
   "cell_type": "markdown",
   "metadata": {},
   "source": [
    "# Definiowanie funkcji jednej zmiennej\n",
    "###### Funkcje te będą różniczkowane w kolejnych segmentach programu"
   ]
  },
  {
   "cell_type": "code",
   "execution_count": null,
   "metadata": {
    "colab": {
     "base_uri": "https://localhost:8080/"
    },
    "executionInfo": {
     "elapsed": 1474,
     "status": "ok",
     "timestamp": 1617026186946,
     "user": {
      "displayName": "Patryk Sulej",
      "photoUrl": "https://lh3.googleusercontent.com/a-/AOh14GgFkNPW23RjwOB3uM6xEIrRv7YrCwotuxylVbcr=s64",
      "userId": "06563575771875730126"
     },
     "user_tz": -120
    },
    "id": "9Pt20tMITfEo",
    "outputId": "01c87486-938e-4521-b5cd-e2d7eb1f81df"
   },
   "outputs": [],
   "source": [
    "σ(x) = one(x) / (one(x) + exp(-x));\n",
    "softmax(x) = exp.(x) ./ sum(exp.(x));\n",
    "# definicja funkcji softmax to funkcja exponentalna podzielona przez sumę poszczególnych exponentali z x\n",
    "tanh(x) = 2.0 / (one(x) +exp(-2.0x)) - one(x);\n",
    "f(x) = x > zero(x) ? x : zero(x);\n",
    "sink(x) = (sin(x)*sin(x)); #sinus kwadrat\n",
    "sinexp(x) = sin(exp(x)); # sin(exp(x)^2))\n",
    "RELU(x) = max(zero(x),x)"
   ]
  },
  {
   "cell_type": "code",
   "execution_count": null,
   "metadata": {},
   "outputs": [],
   "source": [
    "# pochodna funkcji softmax nie jest prosta, do jej wyliczania konieczne jest utworzenie pipeline'a.\n",
    "diagonal(m) = diagm(0 => vec(m))\n",
    "# vec() przekształca macierz w jedną kolumnę, następnie za pomocą diagm tworzona jest macierz diagonalna.\n",
    "# W resztę miejsc wpisywane są zera\n",
    "softmax_d(x) = (softmax(x) |> diagonal) .- softmax(x) * (softmax(x) |> transpose);\n",
    "# Wejście zostaje zamienione na macierz diagonalną, \n",
    "# następnie odejmowane są od niej wartości macierzy pomnożonej przez jej transpozycję"
   ]
  },
  {
   "cell_type": "markdown",
   "metadata": {},
   "source": [
    "# Inicjalizacja funkcji do różniczkowania w tył\n",
    "##### Zastosowano rozwiązanie implementujące sieć węzłów"
   ]
  },
  {
   "cell_type": "code",
   "execution_count": null,
   "metadata": {},
   "outputs": [],
   "source": [
    "# niezbędniki do konstrukcji grafu\n",
    "abstract type Node end\n",
    "abstract type Operator end\n",
    "abstract type LeafNode <: Node end"
   ]
  },
  {
   "cell_type": "code",
   "execution_count": null,
   "metadata": {},
   "outputs": [],
   "source": [
    "# zmienna przechowująca wartość i pochodną\n",
    "mutable struct Variable{T} <: LeafNode\n",
    "    value::T\n",
    "    grad::T\n",
    "    Variable(val::T) where T          = new{T}(val, zero(val))\n",
    "    Variable(val::T, grad::T) where T = new{T}(val, grad)\n",
    "end"
   ]
  },
  {
   "cell_type": "code",
   "execution_count": null,
   "metadata": {},
   "outputs": [],
   "source": [
    "struct Method{OT} <: Operator\n",
    "    f::OT\n",
    "end\n",
    "\n",
    "struct Broadcasted{OT} <: Operator\n",
    "    f::OT\n",
    "end"
   ]
  },
  {
   "cell_type": "code",
   "execution_count": null,
   "metadata": {},
   "outputs": [],
   "source": [
    "# reprezentacja operacji\n",
    "struct ComputableNode{OT <: Operator, AT <: Tuple, KT <: NamedTuple} <: Node\n",
    "    op::OT\n",
    "    args::AT\n",
    "    kwargs::KT\n",
    "end\n",
    "ComputableNode(op::Function, args, kwargs) = ComputableNode(Method(op), args, kwargs)\n",
    "ComputableNode(op, args)                   = ComputableNode(op, args, NamedTuple())"
   ]
  },
  {
   "cell_type": "code",
   "execution_count": null,
   "metadata": {},
   "outputs": [],
   "source": [
    "# CachedNode owija ComputableNode, zapamiętuje wynik i pozwala na jednorazowe wykonanie\n",
    "\n",
    "mutable struct CachedNode{NT <: Node, OUT} <: Node\n",
    "    node::NT\n",
    "    out::OUT\n",
    "end\n",
    "\n",
    "function CachedNode(op, args...; kwargs...)\n",
    "    node = ComputableNode(op, args, kwargs.data)\n",
    "    out  = forward(node)\n",
    "    CachedNode(node, out)\n",
    "end"
   ]
  },
  {
   "cell_type": "code",
   "execution_count": null,
   "metadata": {},
   "outputs": [],
   "source": [
    "arg(x::ComputableNode, i::Int) = x.args[i]\n",
    "args(x::ComputableNode) = x.args\n",
    "kwargs(x::ComputableNode) = x.kwargs\n",
    "operator(x::ComputableNode) = x.f\n",
    "\n",
    "arg(x::CachedNode, i::Int) = x.node.args[i]\n",
    "args(x::CachedNode) = x.node.args\n",
    "kwargs(x::CachedNode) = x.node.kwargs\n",
    "operator(x::CachedNode) = x.node.f"
   ]
  },
  {
   "cell_type": "code",
   "execution_count": null,
   "metadata": {},
   "outputs": [],
   "source": [
    "# definicja metody show, co ma się pokazać, gdy za parametr podamy jedną z nowo utworzonych struktur.\n",
    "import Base: show\n",
    "show(io::IO, x::Method)         = print(io, \"fn \",  x.f);\n",
    "show(io::IO, x::Operator)       = print(io, \"op \",  x.f);\n",
    "show(io::IO, x::Variable)       = print(io, \"var \", x.value);\n",
    "show(io::IO, x::CachedNode)     = print(io, \"{cached (\", x.node, \") => \", x.out, \"}\");\n",
    "show(io::IO, x::ComputableNode) = print(io, \"[\", x.op, \"](\", x.args, \")\");"
   ]
  },
  {
   "cell_type": "code",
   "execution_count": null,
   "metadata": {},
   "outputs": [],
   "source": [
    "# przechodzenie grafu \"w przód\"\n",
    "forward(x) = x\n",
    "forward(leaf::LeafNode) = value(leaf)\n",
    "forward(node::ComputableNode) = forward(node.op, map(forward, node.args)...; map(forward, node.kwargs)...)\n",
    "forward(cached::CachedNode) = (cached.out = forward(cached.node))\n",
    "forward(op::Broadcasted, args...) = Broadcast.broadcasted(op.f, args...)\n",
    "forward(op::Operator, args...; kwargs...) = op.f(args...; kwargs...)\n",
    "forward(x::NT) where {NT <: Node} = error(\"forward method is not implemented for node type: $NT\")"
   ]
  },
  {
   "cell_type": "code",
   "execution_count": null,
   "metadata": {},
   "outputs": [],
   "source": [
    "# funkcje potrzebne do korzystania z wartości stworzonych struktur\n",
    "value(x) = x\n",
    "value(x::Variable) = x.value\n",
    "value(x::CachedNode) = value(x.out)\n",
    "value(x::T) where {T <: Node} = error(\"Expected value in this node $x of type $T\n",
    " check if you defined a non-cached node\n",
    " or overload value function for your node.\")"
   ]
  },
  {
   "cell_type": "code",
   "execution_count": null,
   "metadata": {},
   "outputs": [],
   "source": [
    "# przechodzenie grafu \"w tył\"\n",
    "\n",
    "function backward(x::Variable, grad)\n",
    "    if isdefined(x, :grad)\n",
    "        x.grad+= grad\n",
    "    else\n",
    "        x.grad = grad\n",
    "    end\n",
    "    nothing\n",
    "end\n",
    "\n",
    "function backward(node::CachedNode, f, grad)\n",
    "    grad_inputs = gradient(node, grad)\n",
    "    for (each, each_grad) in zip(args(node), grad_inputs)\n",
    "        backward(each, each_grad)\n",
    "    end\n",
    "    nothing\n",
    "end\n",
    "\n",
    "function backward(cached::CachedNode, op::Broadcasted, grad)\n",
    "    grad_inputs = gradient(cached, grad)\n",
    "    for (each, each_grad) in zip(args(cached), grad_inputs)\n",
    "        backward(each, each_grad)\n",
    "    end\n",
    "    nothing\n",
    "end\n",
    "\n",
    "backward(cached::CachedNode) = backward(cached, 1.0)\n",
    "backward(cached::CachedNode, grad) = backward(cached, cached.node.op, grad)\n",
    "backward(cached::CachedNode, op::Method, grad) = backward(cached, op.f, grad)\n",
    "backward(cached::CachedNode, ::typeof(Broadcast.materialize), grad) = backward(arg(cached, 1), grad)"
   ]
  },
  {
   "cell_type": "code",
   "execution_count": null,
   "metadata": {},
   "outputs": [],
   "source": [
    "# funkcje potrzebne do korzystania z gradientów struktur\n",
    "\n",
    "gradient(x::CachedNode, grad) = gradient(x.node.op, grad, x.out, map(value, x.node.args)...; map(value, x.node.kwargs)...)\n",
    "gradient(x::Operator,   grad, out, args...; kwargs...) = gradient(x.f, grad, out, args...; kwargs...)\n",
    "gradient(op, grad, out, args...; kwargs...) = error(\"gradient of operator $op is not defined\\n\n",
    " Possible Fix:\\n\n",
    " define one of the following:\\n\n",
    " 1. gradient(::typeof($op), grad, out, args...; kwargs...)\\n\n",
    " 2. gradient(op::Method{typeof($op)}, grad, out, args...; kwargs...)\\n\n",
    " 3. gradient(op::Broadcasted{typeof($op)}, grad, out, args...; kwargs...)\\n\")"
   ]
  },
  {
   "cell_type": "code",
   "execution_count": null,
   "metadata": {},
   "outputs": [],
   "source": [
    "# definicja podstawowych operatorów\n",
    "\n",
    "import Base: +, -, *, /\n",
    "+(x::Node) = CachedNode(+, x)\n",
    "-(x::Node) = CachedNode(-, x)\n",
    "gradient(::typeof(+), grad, output, x) = (grad * 1, )\n",
    "gradient(::typeof(-), grad, output, x) = (grad *-1, )\n",
    "+(x::Node, y::Node) = CachedNode(+, x, y)\n",
    "-(x::Node, y::Node) = CachedNode(-, x, y)\n",
    "*(x::Node, y::Node) = CachedNode(*, x, y)\n",
    "/(x::Node, y::Node) = CachedNode(/, x, y)\n",
    "gradient(::typeof(+), grad, output, x, y) = (grad * one(x),   grad * one(y))\n",
    "gradient(::typeof(-), grad, output, x, y) = (grad * one(x),   grad *-one(y))\n",
    "gradient(::typeof(*), grad, output, x, y) = (grad * y,        grad * x)\n",
    "gradient(::typeof(/), grad, output, x, y) = (grad * one(x)/y, grad *-x/y/y)"
   ]
  },
  {
   "cell_type": "code",
   "execution_count": null,
   "metadata": {},
   "outputs": [],
   "source": [
    "# definicja podstawowych funkcji i ich pochodnych\n",
    "import Base: abs, sin, cos, tan, exp, sqrt, isless\n",
    "abs(x::Node)  = CachedNode(abs, x)\n",
    "sin(x::Node)  = CachedNode(sin, x)\n",
    "cos(x::Node)  = CachedNode(cos, x)\n",
    "tan(x::Node)  = CachedNode(tan, x)\n",
    "exp(x::Node)  = CachedNode(exp, x)\n",
    "sqrt(x::Node) = CachedNode(sqrt, x)\n",
    "softmax(x::Node) = CachedNode(softmax, x)\n",
    "isless(x::Node, y::Node) = isless(value(x), value(y))\n",
    "gradient(::typeof(abs), grad, output, x)  = (grad * sign(x), )\n",
    "gradient(::typeof(sin), grad, output, x)  = (grad * cos(x), )\n",
    "gradient(::typeof(sink), grad, output, x)  = (grad *2*sin(x) * cos(x), )\n",
    "gradient(::typeof(cos), grad, output, x)  = (grad *-sin(x), )\n",
    "gradient(::typeof(tan), grad, output, x)  = (grad *(tan(x)^2 + 1), )\n",
    "gradient(::typeof(exp), grad, output, x)  = (grad * exp(x), )\n",
    "gradient(::typeof(sqrt), grad, output, x) = (grad * 0.5/sqrt(x), )\n",
    "gradient(::typeof(tanh), grad, output, x)  = (grad * (1/cosh(x)^2), )\n",
    "gradient(::typeof(cosh), grad, output, x)  = (grad * (sinh(x)), )\n",
    "gradient(::typeof(softmax), grad, output, x)  = (grad * softmax_d(x), )\n",
    "gradient(::typeof(RELU), grad, output, x)  = ifelse.(x<zero(x), (grad * zero(x), ), (grad * one(x), ))\n",
    "gradient(::typeof(sinexp), grad, output, x) = (grad * exp(x) * cos(exp(x)), )\n",
    "gradient(::typeof(relu), grad, output, x)  = (grad * relu_d(x), )\n",
    "gradient(::typeof(σ), grad, output, x) = (grad * σ(x) *(1-σ(x)), )\n",
    "gradient(::typeof(log), grad, output, x)  = (grad *(1/x), )"
   ]
  },
  {
   "cell_type": "code",
   "execution_count": null,
   "metadata": {},
   "outputs": [],
   "source": [
    "# reguły konwersji i promocji\n",
    "import Base: convert, promote_rule\n",
    "convert(::Type{Variable{T}}, x::Number) where T   = Variable(convert(T, x))\n",
    "convert(::Type{Variable{T}}, x::Float64) where T = Variable(convert(T, x), zero(T))\n",
    "convert(::Type{Variable{T}}, x::Variable) where T = Variable(convert(T, x.value), convert(T, x.grad))\n",
    "\n",
    "promote_rule(::Type{Variable{T}}, ::Type{R}) where {T,R} = Variable{promote_type(R,T)}"
   ]
  },
  {
   "cell_type": "code",
   "execution_count": null,
   "metadata": {},
   "outputs": [],
   "source": [
    "struct ComputGraphStyle <: Broadcast.BroadcastStyle end\n",
    "Base.BroadcastStyle(::Type{<:Node}) = ComputGraphStyle()\n",
    "Broadcast.BroadcastStyle(s::ComputGraphStyle, x::Broadcast.BroadcastStyle) = s\n",
    "Broadcast.broadcasted(::ComputGraphStyle, f, args...) = CachedNode(Broadcasted(f), args...)\n",
    "Broadcast.broadcastable(x::Node) = x\n",
    "Broadcast.materialize(x::Node) = CachedNode(Broadcast.materialize, x)\n",
    "Base.similar(x::Node)                                      = Variable(similar(value(x)))\n",
    "Base.similar(x::Node, dims::Dims)                          = Variable(similar(value(x), dims))\n",
    "Base.similar(x::Node, eltype::Type{S}, dims::Dims) where S = Variable(similar(value(x), eltype, dims))"
   ]
  },
  {
   "cell_type": "code",
   "execution_count": null,
   "metadata": {},
   "outputs": [],
   "source": [
    "# gradienty rejestrowanych operacji\n",
    "gradient(::Broadcasted{typeof(+)}, grad, output, x)    = @. (grad * 1, )\n",
    "gradient(::Broadcasted{typeof(-)}, grad, output, x)    = @. (grad *-1, )\n",
    "gradient(::Broadcasted{typeof(+)}, grad, output, x, y) = @. (grad * one(x),   grad * one(y))\n",
    "gradient(::Broadcasted{typeof(-)}, grad, output, x, y) = @. (grad * one(x),   grad *-one(y))\n",
    "gradient(::Broadcasted{typeof(*)}, grad, output, x, y) = @. (grad * y,        grad * x)\n",
    "gradient(::Broadcasted{typeof(/)}, grad, output, x, y) = @. (grad * one(x)/y, grad *-x/y/y)\n",
    "gradient(::Broadcasted{typeof(abs)}, grad, output, x)  = @. (grad * sign(x), )\n",
    "gradient(::Broadcasted{typeof(sin)}, grad, output, x)  = @. (grad *  cos(x),  )\n",
    "gradient(::Broadcasted{typeof(sin)}, grad, output, x)  = @. (grad *  cos(x),  )\n",
    "gradient(::Broadcasted{typeof(sink)}, grad, output, x)  = @. (grad *  2* sin(x) * cos(x),  )\n",
    "gradient(::Broadcasted{typeof(cos)}, grad, output, x)  = @. (grad * -sin(x), )\n",
    "gradient(::Broadcasted{typeof(tan)}, grad, output, x)  = @. (grad * (tan(x)^2 + 1), )\n",
    "gradient(::Broadcasted{typeof(exp)}, grad, output, x)  = @. (grad *  exp(x), )\n",
    "gradient(::Broadcasted{typeof(sqrt)}, grad, output, x) = @. (grad *.5/sqrt(x), )\n",
    "gradient(::Broadcasted{typeof(tanh)}, grad, output, x)  = @. (grad * (1/cosh(x)^2), )\n",
    "gradient(::Broadcasted{typeof(cosh)}, grad, output, x)  = @. (grad * (sinh(x)), )\n",
    "gradient(::Broadcasted{typeof(softmax)}, grad, output, x)  = @. (grad * softmax_d(x), )\n",
    "#gradient(::Broadcasted{typeof(RELU)}, grad, output, x)  = x.>zero(x) ? (@. (grad * zero(x), )) : (@. (grad * one(x), )) \n",
    "gradient(::Broadcasted{typeof(RELU)}, grad, output, x)  = ifelse.(x<zero(x), (@. (grad * zero(x), )),( @. (grad * one(x), ))) \n",
    "gradient(::Broadcasted{typeof(relu)}, grad, output, x)  = @. (grad * relu_d(x), )\n",
    "gradient(::Broadcasted{typeof(sinexp)}, grad, output, x) = @. (grad * exp(x) * cos(exp(x)), )\n",
    "gradient(::Broadcasted{typeof(σ)}, grad, output, x) = @. (grad * σ(x) *(1-σ(x)), )\n",
    "gradient(::Broadcasted{typeof(log)}, grad, output, x)  = @. (grad * (1/x), )"
   ]
  },
  {
   "cell_type": "markdown",
   "metadata": {},
   "source": [
    "# Weryfikacja różniczkowania w przód"
   ]
  },
  {
   "cell_type": "code",
   "execution_count": null,
   "metadata": {},
   "outputs": [],
   "source": [
    "# funkcja, która pokazuje oryginalna funkcję i jej pochodną obliczoną za pomocą różniczkowania w przód\n",
    "function forward_d(name, x)\n",
    "    y = partials.(name.(x .+ϵ));\n",
    "    yf = value.(name.(x.+ϵ));\n",
    "    plot(x, yf, marker=:circle, markersize=2., label = \"Original function\")\n",
    "    plot!(x, y, marker=:square, markersize=2., label = \"Forward differentation\")\n",
    "    \n",
    "    xaxis!(\"x\")\n",
    "    yaxis!(\"y\")\n",
    "end\n"
   ]
  },
  {
   "cell_type": "markdown",
   "metadata": {},
   "source": [
    "##### W komórce poniżej należy wybrać jedną funkcję z dostępnych "
   ]
  },
  {
   "cell_type": "code",
   "execution_count": null,
   "metadata": {},
   "outputs": [],
   "source": [
    "x = collect(-10.0:0.1:+10.0)\n",
    "forward_d(σ, x) # możliwe funkcje: sin, cos, tan, tanh, sink, sinexp, σ, itd...\n"
   ]
  },
  {
   "cell_type": "markdown",
   "metadata": {},
   "source": [
    "# Weryfikacja różniczkowania w tył"
   ]
  },
  {
   "cell_type": "markdown",
   "metadata": {},
   "source": [
    "##### W komórce poniżej należy wybrać jedną funkcję z dostępnych "
   ]
  },
  {
   "cell_type": "code",
   "execution_count": null,
   "metadata": {},
   "outputs": [],
   "source": [
    "# ukazanie funkcji i jej pochodnej wyliczonej za pomocą różniczkowania w tył\n",
    "x = Variable(collect(-π:0.05:+π))\n",
    "z = σ.(x) # możliwe funkcje: sin, cos, tan, tanh, sink, sinexp, σ, itd...\n",
    "backward(z)\n",
    "plot(value(x), value(z), label = \"funkcja\")\n",
    "plot!(value(x), x.grad, label = \"pochodna\")\n"
   ]
  },
  {
   "cell_type": "markdown",
   "metadata": {},
   "source": [
    "# Porównanie obu sposobów różniczkowania automatycznego"
   ]
  },
  {
   "cell_type": "code",
   "execution_count": null,
   "metadata": {},
   "outputs": [],
   "source": [
    "f_do_porownania = σ # do wyboru sin, cos, sink, expk, sinexp, RELU, softmax\n",
    "\n",
    "# zakres \n",
    "x = -π:0.01:+π\n",
    "#x = 0.001:0.001:+1\n",
    "# backward\n",
    "w = Variable(collect(x))\n",
    "q = f_do_porownania.(w)  # tutaj podmiana\n",
    "#q = sin.(exp.(w))\n",
    "backward(q) # uzupełnia wartości pochodnych\n",
    "\n",
    "#forward\n",
    "\n",
    "y = partials.(f_do_porownania.(x.+ϵ)); # TUTAJ PODMIANA\n",
    "c = value.(f_do_porownania.(x.+ϵ))\n",
    "zmienna = w.grad\n",
    "\n",
    "plot(value(w), zmienna,  markersize=1., label = \"Backward differentation\")\n",
    "plot!(x, y,  markersize=1., label = \"Forward differentation\")\n",
    "plot!(x, c,  markersize=0.1, label = \"Original function\")\n",
    "xaxis!(\"x\")\n",
    "yaxis!(\"y\")"
   ]
  },
  {
   "cell_type": "code",
   "execution_count": null,
   "metadata": {},
   "outputs": [],
   "source": [
    "# Sprawdzamy czy obie metody dały ten sam wynik \n",
    "roznica = zmienna - y;"
   ]
  },
  {
   "cell_type": "code",
   "execution_count": null,
   "metadata": {},
   "outputs": [],
   "source": [
    "# Zgodnie z teorią jest linia na zerze - dokładnie takie same wyniki\n",
    "plot(x, roznica, line=nothing, marker=:circle, markersize=1., ylims = (0, 1e-010), label = \"Roznica wartości pochodnej i wartości funkcji\")\n",
    "xaxis!(\"x\")\n",
    "yaxis!(\"Błąd\")"
   ]
  },
  {
   "cell_type": "markdown",
   "metadata": {},
   "source": [
    "#### Porównanie wydajności"
   ]
  },
  {
   "cell_type": "code",
   "execution_count": null,
   "metadata": {},
   "outputs": [],
   "source": [
    "# forward\n",
    "@benchmark partials.(f_do_porownania.(x.+ϵ)) setup=(x=-5:0.01:+5)"
   ]
  },
  {
   "cell_type": "code",
   "execution_count": null,
   "metadata": {},
   "outputs": [],
   "source": [
    "# backward\n",
    "@benchmark backward(q) setup=(q = f_do_porownania.(w))"
   ]
  },
  {
   "cell_type": "markdown",
   "metadata": {},
   "source": [
    "##### poniżej możliwość zapisania danych do pliku w celach dalszej obróbki"
   ]
  },
  {
   "cell_type": "code",
   "execution_count": null,
   "metadata": {},
   "outputs": [],
   "source": [
    "# writedlm( \"tanh.csv\",  zmienna, ',') # należy odkomentować aby zapisać plik csv"
   ]
  },
  {
   "cell_type": "markdown",
   "metadata": {},
   "source": [
    "#### Porównanie ilości kodu"
   ]
  },
  {
   "cell_type": "code",
   "execution_count": null,
   "metadata": {},
   "outputs": [],
   "source": [
    "function code_forward(f, x)\n",
    "    partials.(f.(x.+ϵ))\n",
    "end\n",
    "\n",
    "function code_backward(f, x)\n",
    "    w = Variable(collect(x))\n",
    "    q = f.(x)\n",
    "    backward(q)\n",
    "end\n"
   ]
  },
  {
   "cell_type": "code",
   "execution_count": null,
   "metadata": {},
   "outputs": [],
   "source": [
    "x=-5:0.01:+5\n",
    "@code_native code_backward(sin, x)"
   ]
  },
  {
   "cell_type": "code",
   "execution_count": null,
   "metadata": {},
   "outputs": [],
   "source": [
    "# sprawdzenie wielokrotnego różniczkowania tej samej funkcji\n",
    "D = derivative(f, x) = partials(f(Dual(x, one(x))))\n",
    "f(x) = x^3\n",
    "f′(x) = derivative(f,  x)\n",
    "f″(x) = derivative(f′, x)\n",
    "f‴(x) = derivative(f″, x)\n",
    "x = -5:0.1:+5\n",
    "\n",
    "plot(x,  f.(x),  label=\"x^3\")\n",
    "plot!(x, f′.(x), label=\"3x^2\")\n",
    "plot!(x, f″.(x), label=\"6x\")\n",
    "plot!(x, f‴.(x), label=\"6\")"
   ]
  },
  {
   "cell_type": "markdown",
   "metadata": {},
   "source": [
    "# Różniczkowanie funkcji wielu zmiennych "
   ]
  },
  {
   "cell_type": "markdown",
   "metadata": {},
   "source": [
    "#### Weryfikacja poprawności działania implementacji funkcji obliczających Jakobiany i Hesjany"
   ]
  },
  {
   "cell_type": "code",
   "execution_count": null,
   "metadata": {},
   "outputs": [],
   "source": [
    "# definicja funkcji do liczenia macierzy Jacobiego\n",
    "# za pomocą różniczkowania w przód \n",
    "J = function jacobian(f, args::Vector{T}) where {T <:Number}\n",
    "    jacobian_columns = Matrix{T}[]\n",
    "    \n",
    "    for i=1:length(args)\n",
    "        x = Dual{T}[]\n",
    "        for j=1:length(args)\n",
    "            seed = (i == j)\n",
    "            push!(x, seed ?\n",
    "                Dual(args[j], one(args[j])) :\n",
    "                Dual(args[j],zero(args[j])) )\n",
    "        end\n",
    "        column = partials.([f(x)...])\n",
    "        push!(jacobian_columns, column[:,:])\n",
    "    end\n",
    "    hcat(jacobian_columns...)\n",
    "end"
   ]
  },
  {
   "cell_type": "code",
   "execution_count": null,
   "metadata": {},
   "outputs": [],
   "source": [
    "# Funkcja obliczająca Jakobian z Jakobianu = Hesjan\n",
    "H = function hessian(f, args::Vector)\n",
    "    ∇f(x::Vector) = J(f, x)\n",
    "    J(∇f, args)\n",
    "end"
   ]
  },
  {
   "cell_type": "code",
   "execution_count": null,
   "metadata": {},
   "outputs": [],
   "source": [
    "# Test działania funkcji wyliczającej Hesjan\n",
    "f(x::Vector) = sum(cos, x) + prod(tanh, x) * sum(exp, x);\n",
    "a = [0.6, 0.2, 0.3, 0.7, 0.68] ## lub a = rand(5)\n",
    "H(f, a)\n",
    "# -0.883588   0.712691   0.468028   0.179327   0.185705\n",
    "#  0.712691  -1.01311    1.53009    0.595529   0.616022\n",
    "#  0.468028   1.53009   -1.01615    0.390734   0.404258\n",
    "#  0.179327   0.595529   0.390734  -0.813369   0.15411\n",
    "#  0.185705   0.616022   0.404258   0.15411   -0.828181"
   ]
  },
  {
   "cell_type": "code",
   "execution_count": null,
   "metadata": {},
   "outputs": [],
   "source": [
    "# Kolejny test działania funkcji wyliczającej Hesjan\n",
    "f(x::Vector) = x[1]^5 + x[1]*x[2]^2\n",
    "a = [5.0, 6.0] ## lub a = rand(2)\n",
    "H(f, a)\n",
    "# 2500.0  12.0\n",
    "# 12.0  10.0"
   ]
  },
  {
   "cell_type": "code",
   "execution_count": null,
   "metadata": {},
   "outputs": [],
   "source": [
    "# Test działania funkcji wyliczającej Jakobian\n",
    "f(x::Vector) = [2x[1]*x[2]*4x[5], -x[4]/3x[2]*x[3]]\n",
    "J(f, [1.0, 2.0, 3.0, 4.0, 5.0])\n",
    "# 80.0  40.0   0.0        0.0  16.0\n",
    "#  0.0   1.0  -0.666667  -0.5   0.0"
   ]
  },
  {
   "cell_type": "markdown",
   "metadata": {},
   "source": [
    "# Porównanie dwóch trybów różniczkowania."
   ]
  },
  {
   "cell_type": "markdown",
   "metadata": {},
   "source": [
    "### Funkcje o wielu wejściach i wyjściach"
   ]
  },
  {
   "cell_type": "code",
   "execution_count": null,
   "metadata": {},
   "outputs": [],
   "source": [
    "# biblioteki użyte do porównań\n",
    "using ReverseDiff\n",
    "using ForwardDiff"
   ]
  },
  {
   "cell_type": "code",
   "execution_count": null,
   "metadata": {},
   "outputs": [],
   "source": [
    "# wektor wejściowy (maksymalnie będziemy liczyć pochodne funkcji o 101 zmiennych wejściowych)\n",
    "u = Array{Float64,1}[]\n",
    "for i in 1:101\n",
    "   w = rand(i)\n",
    "   push!(u, w)\n",
    "end"
   ]
  },
  {
   "cell_type": "code",
   "execution_count": null,
   "metadata": {},
   "outputs": [],
   "source": [
    "# definicja funkcji do różniczkowania\n",
    "# nie było to pisane ręcznie ;)\n",
    "# Arkusz excel za pomocą którego został wygenerowany kod został załączony razem z tym plikiem\n",
    "func1(x...) = [2*x[1]-x[2]]\n",
    "func2(x...) = [2*x[1]-x[2], 6x[2]*5x[1]]\n",
    "func3(x...) = [2*x[1]-x[2], 6x[2]*5x[1], 6*x[3]-1*x[2]]\n",
    "func4(x...) = [2*x[1]-x[2], 6x[2]*5x[1], 6*x[3]-3*x[2], 6*x[4]-2*x[3]]\n",
    "func5(x...) = [2*x[1]-x[2], 6x[2]*5x[1], 6*x[3]-3*x[2], 6*x[4]-2*x[3], 6*x[5]-1*x[4]]\n",
    "func6(x...) = [2*x[1]-x[2], 6x[2]*5x[1], 6*x[3]-3*x[2], 6*x[4]-2*x[3], 6*x[5]-1*x[4], 8*x[6]-2*x[5]]\n",
    "func7(x...) = [2*x[1]-x[2], 6x[2]*5x[1], 6*x[3]-3*x[2], 6*x[4]-2*x[3], 6*x[5]-1*x[4], 8*x[6]-2*x[5], 7*x[7]-2*x[6]]\n",
    "func8(x...) = [2*x[1]-x[2], 6x[2]*5x[1], 6*x[3]-3*x[2], 6*x[4]-2*x[3], 6*x[5]-1*x[4], 8*x[6]-2*x[5], 7*x[7]-2*x[6], 0*x[8]-4*x[7]]\n",
    "func9(x...) = [2*x[1]-x[2], 6x[2]*5x[1], 6*x[3]-3*x[2], 6*x[4]-2*x[3], 6*x[5]-1*x[4], 8*x[6]-2*x[5], 7*x[7]-2*x[6], 0*x[8]-4*x[7], 8*x[9]-4*x[8]]\n",
    "func10(x...) = [2*x[1]-x[2], 6x[2]*5x[1], 6*x[3]-3*x[2], 6*x[4]-2*x[3], 6*x[5]-1*x[4], 8*x[6]-2*x[5], 7*x[7]-2*x[6], 0*x[8]-4*x[7], 8*x[9]-4*x[8], 5*x[10]-5*x[9]]\n",
    "func11(x...) = [2*x[1]-x[2], 6x[2]*5x[1], 6*x[3]-3*x[2], 6*x[4]-2*x[3], 6*x[5]-1*x[4], 8*x[6]-2*x[5], 7*x[7]-2*x[6], 0*x[8]-4*x[7], 8*x[9]-4*x[8], 5*x[10]-5*x[9], 0*x[11]-7*x[10]]\n",
    "func12(x...) = [2*x[1]-x[2], 6x[2]*5x[1], 6*x[3]-3*x[2], 6*x[4]-2*x[3], 6*x[5]-1*x[4], 8*x[6]-2*x[5], 7*x[7]-2*x[6], 0*x[8]-4*x[7], 8*x[9]-4*x[8], 5*x[10]-5*x[9], 0*x[11]-7*x[10], 4*x[12]-0*x[11]]\n",
    "func13(x...) = [2*x[1]-x[2], 6x[2]*5x[1], 6*x[3]-3*x[2], 6*x[4]-2*x[3], 6*x[5]-1*x[4], 8*x[6]-2*x[5], 7*x[7]-2*x[6], 0*x[8]-4*x[7], 8*x[9]-4*x[8], 5*x[10]-5*x[9], 0*x[11]-7*x[10], 4*x[12]-0*x[11], 7*x[13]-0*x[12]]\n",
    "func14(x...) = [2*x[1]-x[2], 6x[2]*5x[1], 6*x[3]-3*x[2], 6*x[4]-2*x[3], 6*x[5]-1*x[4], 8*x[6]-2*x[5], 7*x[7]-2*x[6], 0*x[8]-4*x[7], 8*x[9]-4*x[8], 5*x[10]-5*x[9], 0*x[11]-7*x[10], 4*x[12]-0*x[11], 7*x[13]-0*x[12], 5*x[14]-5*x[13]]\n",
    "func15(x...) = [2*x[1]-x[2], 6x[2]*5x[1], 6*x[3]-3*x[2], 6*x[4]-2*x[3], 6*x[5]-1*x[4], 8*x[6]-2*x[5], 7*x[7]-2*x[6], 0*x[8]-4*x[7], 8*x[9]-4*x[8], 5*x[10]-5*x[9], 0*x[11]-7*x[10], 4*x[12]-0*x[11], 7*x[13]-0*x[12], 5*x[14]-5*x[13], 8*x[15]-5*x[14]]\n",
    "func16(x...) = [2*x[1]-x[2], 6x[2]*5x[1], 6*x[3]-3*x[2], 6*x[4]-2*x[3], 6*x[5]-1*x[4], 8*x[6]-2*x[5], 7*x[7]-2*x[6], 0*x[8]-4*x[7], 8*x[9]-4*x[8], 5*x[10]-5*x[9], 0*x[11]-7*x[10], 4*x[12]-0*x[11], 7*x[13]-0*x[12], 5*x[14]-5*x[13], 8*x[15]-5*x[14], 6*x[16]-9*x[15]]\n",
    "func17(x...) = [2*x[1]-x[2], 6x[2]*5x[1], 6*x[3]-3*x[2], 6*x[4]-2*x[3], 6*x[5]-1*x[4], 8*x[6]-2*x[5], 7*x[7]-2*x[6], 0*x[8]-4*x[7], 8*x[9]-4*x[8], 5*x[10]-5*x[9], 0*x[11]-7*x[10], 4*x[12]-0*x[11], 7*x[13]-0*x[12], 5*x[14]-5*x[13], 8*x[15]-5*x[14], 6*x[16]-9*x[15], 7*x[17]-3*x[16]]\n",
    "func18(x...) = [2*x[1]-x[2], 6x[2]*5x[1], 6*x[3]-3*x[2], 6*x[4]-2*x[3], 6*x[5]-1*x[4], 8*x[6]-2*x[5], 7*x[7]-2*x[6], 0*x[8]-4*x[7], 8*x[9]-4*x[8], 5*x[10]-5*x[9], 0*x[11]-7*x[10], 4*x[12]-0*x[11], 7*x[13]-0*x[12], 5*x[14]-5*x[13], 8*x[15]-5*x[14], 6*x[16]-9*x[15], 7*x[17]-3*x[16], 1*x[18]-6*x[17]]\n",
    "func19(x...) = [2*x[1]-x[2], 6x[2]*5x[1], 6*x[3]-3*x[2], 6*x[4]-2*x[3], 6*x[5]-1*x[4], 8*x[6]-2*x[5], 7*x[7]-2*x[6], 0*x[8]-4*x[7], 8*x[9]-4*x[8], 5*x[10]-5*x[9], 0*x[11]-7*x[10], 4*x[12]-0*x[11], 7*x[13]-0*x[12], 5*x[14]-5*x[13], 8*x[15]-5*x[14], 6*x[16]-9*x[15], 7*x[17]-3*x[16], 1*x[18]-6*x[17], 7*x[19]-3*x[18]]\n",
    "func20(x...) = [2*x[1]-x[2], 6x[2]*5x[1], 6*x[3]-3*x[2], 6*x[4]-2*x[3], 6*x[5]-1*x[4], 8*x[6]-2*x[5], 7*x[7]-2*x[6], 0*x[8]-4*x[7], 8*x[9]-4*x[8], 5*x[10]-5*x[9], 0*x[11]-7*x[10], 4*x[12]-0*x[11], 7*x[13]-0*x[12], 5*x[14]-5*x[13], 8*x[15]-5*x[14], 6*x[16]-9*x[15], 7*x[17]-3*x[16], 1*x[18]-6*x[17], 7*x[19]-3*x[18], 8*x[20]-0*x[19]]\n",
    "func21(x...) = [2*x[1]-x[2], 6x[2]*5x[1], 6*x[3]-3*x[2], 6*x[4]-2*x[3], 6*x[5]-1*x[4], 8*x[6]-2*x[5], 7*x[7]-2*x[6], 0*x[8]-4*x[7], 8*x[9]-4*x[8], 5*x[10]-5*x[9], 0*x[11]-7*x[10], 4*x[12]-0*x[11], 7*x[13]-0*x[12], 5*x[14]-5*x[13], 8*x[15]-5*x[14], 6*x[16]-9*x[15], 7*x[17]-3*x[16], 1*x[18]-6*x[17], 7*x[19]-3*x[18], 8*x[20]-0*x[19], 2*x[21]-5*x[20]]\n",
    "func22(x...) = [2*x[1]-x[2], 6x[2]*5x[1], 6*x[3]-3*x[2], 6*x[4]-2*x[3], 6*x[5]-1*x[4], 8*x[6]-2*x[5], 7*x[7]-2*x[6], 0*x[8]-4*x[7], 8*x[9]-4*x[8], 5*x[10]-5*x[9], 0*x[11]-7*x[10], 4*x[12]-0*x[11], 7*x[13]-0*x[12], 5*x[14]-5*x[13], 8*x[15]-5*x[14], 6*x[16]-9*x[15], 7*x[17]-3*x[16], 1*x[18]-6*x[17], 7*x[19]-3*x[18], 8*x[20]-0*x[19], 2*x[21]-5*x[20], 2*x[22]-2*x[21]]\n",
    "func23(x...) = [2*x[1]-x[2], 6x[2]*5x[1], 6*x[3]-3*x[2], 6*x[4]-2*x[3], 6*x[5]-1*x[4], 8*x[6]-2*x[5], 7*x[7]-2*x[6], 0*x[8]-4*x[7], 8*x[9]-4*x[8], 5*x[10]-5*x[9], 0*x[11]-7*x[10], 4*x[12]-0*x[11], 7*x[13]-0*x[12], 5*x[14]-5*x[13], 8*x[15]-5*x[14], 6*x[16]-9*x[15], 7*x[17]-3*x[16], 1*x[18]-6*x[17], 7*x[19]-3*x[18], 8*x[20]-0*x[19], 2*x[21]-5*x[20], 2*x[22]-2*x[21], 9*x[23]-5*x[22]]\n",
    "func24(x...) = [2*x[1]-x[2], 6x[2]*5x[1], 6*x[3]-3*x[2], 6*x[4]-2*x[3], 6*x[5]-1*x[4], 8*x[6]-2*x[5], 7*x[7]-2*x[6], 0*x[8]-4*x[7], 8*x[9]-4*x[8], 5*x[10]-5*x[9], 0*x[11]-7*x[10], 4*x[12]-0*x[11], 7*x[13]-0*x[12], 5*x[14]-5*x[13], 8*x[15]-5*x[14], 6*x[16]-9*x[15], 7*x[17]-3*x[16], 1*x[18]-6*x[17], 7*x[19]-3*x[18], 8*x[20]-0*x[19], 2*x[21]-5*x[20], 2*x[22]-2*x[21], 9*x[23]-5*x[22], 9*x[24]-8*x[23]]\n",
    "func25(x...) = [2*x[1]-x[2], 6x[2]*5x[1], 6*x[3]-3*x[2], 6*x[4]-2*x[3], 6*x[5]-1*x[4], 8*x[6]-2*x[5], 7*x[7]-2*x[6], 0*x[8]-4*x[7], 8*x[9]-4*x[8], 5*x[10]-5*x[9], 0*x[11]-7*x[10], 4*x[12]-0*x[11], 7*x[13]-0*x[12], 5*x[14]-5*x[13], 8*x[15]-5*x[14], 6*x[16]-9*x[15], 7*x[17]-3*x[16], 1*x[18]-6*x[17], 7*x[19]-3*x[18], 8*x[20]-0*x[19], 2*x[21]-5*x[20], 2*x[22]-2*x[21], 9*x[23]-5*x[22], 9*x[24]-8*x[23], 1*x[25]-0*x[24]]\n",
    "func26(x...) = [2*x[1]-x[2], 6x[2]*5x[1], 6*x[3]-3*x[2], 6*x[4]-2*x[3], 6*x[5]-1*x[4], 8*x[6]-2*x[5], 7*x[7]-2*x[6], 0*x[8]-4*x[7], 8*x[9]-4*x[8], 5*x[10]-5*x[9], 0*x[11]-7*x[10], 4*x[12]-0*x[11], 7*x[13]-0*x[12], 5*x[14]-5*x[13], 8*x[15]-5*x[14], 6*x[16]-9*x[15], 7*x[17]-3*x[16], 1*x[18]-6*x[17], 7*x[19]-3*x[18], 8*x[20]-0*x[19], 2*x[21]-5*x[20], 2*x[22]-2*x[21], 9*x[23]-5*x[22], 9*x[24]-8*x[23], 1*x[25]-0*x[24], 4*x[26]-4*x[25]]\n",
    "func27(x...) = [2*x[1]-x[2], 6x[2]*5x[1], 6*x[3]-3*x[2], 6*x[4]-2*x[3], 6*x[5]-1*x[4], 8*x[6]-2*x[5], 7*x[7]-2*x[6], 0*x[8]-4*x[7], 8*x[9]-4*x[8], 5*x[10]-5*x[9], 0*x[11]-7*x[10], 4*x[12]-0*x[11], 7*x[13]-0*x[12], 5*x[14]-5*x[13], 8*x[15]-5*x[14], 6*x[16]-9*x[15], 7*x[17]-3*x[16], 1*x[18]-6*x[17], 7*x[19]-3*x[18], 8*x[20]-0*x[19], 2*x[21]-5*x[20], 2*x[22]-2*x[21], 9*x[23]-5*x[22], 9*x[24]-8*x[23], 1*x[25]-0*x[24], 4*x[26]-4*x[25], 0*x[27]-2*x[26]]\n",
    "func28(x...) = [2*x[1]-x[2], 6x[2]*5x[1], 6*x[3]-3*x[2], 6*x[4]-2*x[3], 6*x[5]-1*x[4], 8*x[6]-2*x[5], 7*x[7]-2*x[6], 0*x[8]-4*x[7], 8*x[9]-4*x[8], 5*x[10]-5*x[9], 0*x[11]-7*x[10], 4*x[12]-0*x[11], 7*x[13]-0*x[12], 5*x[14]-5*x[13], 8*x[15]-5*x[14], 6*x[16]-9*x[15], 7*x[17]-3*x[16], 1*x[18]-6*x[17], 7*x[19]-3*x[18], 8*x[20]-0*x[19], 2*x[21]-5*x[20], 2*x[22]-2*x[21], 9*x[23]-5*x[22], 9*x[24]-8*x[23], 1*x[25]-0*x[24], 4*x[26]-4*x[25], 0*x[27]-2*x[26], 3*x[28]-6*x[27]]\n",
    "func29(x...) = [2*x[1]-x[2], 6x[2]*5x[1], 6*x[3]-3*x[2], 6*x[4]-2*x[3], 6*x[5]-1*x[4], 8*x[6]-2*x[5], 7*x[7]-2*x[6], 0*x[8]-4*x[7], 8*x[9]-4*x[8], 5*x[10]-5*x[9], 0*x[11]-7*x[10], 4*x[12]-0*x[11], 7*x[13]-0*x[12], 5*x[14]-5*x[13], 8*x[15]-5*x[14], 6*x[16]-9*x[15], 7*x[17]-3*x[16], 1*x[18]-6*x[17], 7*x[19]-3*x[18], 8*x[20]-0*x[19], 2*x[21]-5*x[20], 2*x[22]-2*x[21], 9*x[23]-5*x[22], 9*x[24]-8*x[23], 1*x[25]-0*x[24], 4*x[26]-4*x[25], 0*x[27]-2*x[26], 3*x[28]-6*x[27], 6*x[29]-5*x[28]]\n",
    "func30(x...) = [2*x[1]-x[2], 6x[2]*5x[1], 6*x[3]-3*x[2], 6*x[4]-2*x[3], 6*x[5]-1*x[4], 8*x[6]-2*x[5], 7*x[7]-2*x[6], 0*x[8]-4*x[7], 8*x[9]-4*x[8], 5*x[10]-5*x[9], 0*x[11]-7*x[10], 4*x[12]-0*x[11], 7*x[13]-0*x[12], 5*x[14]-5*x[13], 8*x[15]-5*x[14], 6*x[16]-9*x[15], 7*x[17]-3*x[16], 1*x[18]-6*x[17], 7*x[19]-3*x[18], 8*x[20]-0*x[19], 2*x[21]-5*x[20], 2*x[22]-2*x[21], 9*x[23]-5*x[22], 9*x[24]-8*x[23], 1*x[25]-0*x[24], 4*x[26]-4*x[25], 0*x[27]-2*x[26], 3*x[28]-6*x[27], 6*x[29]-5*x[28], 8*x[30]-6*x[29]]\n",
    "func31(x...) = [2*x[1]-x[2], 6x[2]*5x[1], 6*x[3]-3*x[2], 6*x[4]-2*x[3], 6*x[5]-1*x[4], 8*x[6]-2*x[5], 7*x[7]-2*x[6], 0*x[8]-4*x[7], 8*x[9]-4*x[8], 5*x[10]-5*x[9], 0*x[11]-7*x[10], 4*x[12]-0*x[11], 7*x[13]-0*x[12], 5*x[14]-5*x[13], 8*x[15]-5*x[14], 6*x[16]-9*x[15], 7*x[17]-3*x[16], 1*x[18]-6*x[17], 7*x[19]-3*x[18], 8*x[20]-0*x[19], 2*x[21]-5*x[20], 2*x[22]-2*x[21], 9*x[23]-5*x[22], 9*x[24]-8*x[23], 1*x[25]-0*x[24], 4*x[26]-4*x[25], 0*x[27]-2*x[26], 3*x[28]-6*x[27], 6*x[29]-5*x[28], 8*x[30]-6*x[29], 6*x[31]-2*x[30]]\n",
    "func32(x...) = [2*x[1]-x[2], 6x[2]*5x[1], 6*x[3]-3*x[2], 6*x[4]-2*x[3], 6*x[5]-1*x[4], 8*x[6]-2*x[5], 7*x[7]-2*x[6], 0*x[8]-4*x[7], 8*x[9]-4*x[8], 5*x[10]-5*x[9], 0*x[11]-7*x[10], 4*x[12]-0*x[11], 7*x[13]-0*x[12], 5*x[14]-5*x[13], 8*x[15]-5*x[14], 6*x[16]-9*x[15], 7*x[17]-3*x[16], 1*x[18]-6*x[17], 7*x[19]-3*x[18], 8*x[20]-0*x[19], 2*x[21]-5*x[20], 2*x[22]-2*x[21], 9*x[23]-5*x[22], 9*x[24]-8*x[23], 1*x[25]-0*x[24], 4*x[26]-4*x[25], 0*x[27]-2*x[26], 3*x[28]-6*x[27], 6*x[29]-5*x[28], 8*x[30]-6*x[29], 6*x[31]-2*x[30], 6*x[32]-2*x[31]]\n",
    "func33(x...) = [2*x[1]-x[2], 6x[2]*5x[1], 6*x[3]-3*x[2], 6*x[4]-2*x[3], 6*x[5]-1*x[4], 8*x[6]-2*x[5], 7*x[7]-2*x[6], 0*x[8]-4*x[7], 8*x[9]-4*x[8], 5*x[10]-5*x[9], 0*x[11]-7*x[10], 4*x[12]-0*x[11], 7*x[13]-0*x[12], 5*x[14]-5*x[13], 8*x[15]-5*x[14], 6*x[16]-9*x[15], 7*x[17]-3*x[16], 1*x[18]-6*x[17], 7*x[19]-3*x[18], 8*x[20]-0*x[19], 2*x[21]-5*x[20], 2*x[22]-2*x[21], 9*x[23]-5*x[22], 9*x[24]-8*x[23], 1*x[25]-0*x[24], 4*x[26]-4*x[25], 0*x[27]-2*x[26], 3*x[28]-6*x[27], 6*x[29]-5*x[28], 8*x[30]-6*x[29], 6*x[31]-2*x[30], 6*x[32]-2*x[31], 8*x[33]-1*x[32]]\n",
    "func34(x...) = [2*x[1]-x[2], 6x[2]*5x[1], 6*x[3]-3*x[2], 6*x[4]-2*x[3], 6*x[5]-1*x[4], 8*x[6]-2*x[5], 7*x[7]-2*x[6], 0*x[8]-4*x[7], 8*x[9]-4*x[8], 5*x[10]-5*x[9], 0*x[11]-7*x[10], 4*x[12]-0*x[11], 7*x[13]-0*x[12], 5*x[14]-5*x[13], 8*x[15]-5*x[14], 6*x[16]-9*x[15], 7*x[17]-3*x[16], 1*x[18]-6*x[17], 7*x[19]-3*x[18], 8*x[20]-0*x[19], 2*x[21]-5*x[20], 2*x[22]-2*x[21], 9*x[23]-5*x[22], 9*x[24]-8*x[23], 1*x[25]-0*x[24], 4*x[26]-4*x[25], 0*x[27]-2*x[26], 3*x[28]-6*x[27], 6*x[29]-5*x[28], 8*x[30]-6*x[29], 6*x[31]-2*x[30], 6*x[32]-2*x[31], 8*x[33]-1*x[32], 4*x[34]-6*x[33]]\n",
    "func35(x...) = [2*x[1]-x[2], 6x[2]*5x[1], 6*x[3]-3*x[2], 6*x[4]-2*x[3], 6*x[5]-1*x[4], 8*x[6]-2*x[5], 7*x[7]-2*x[6], 0*x[8]-4*x[7], 8*x[9]-4*x[8], 5*x[10]-5*x[9], 0*x[11]-7*x[10], 4*x[12]-0*x[11], 7*x[13]-0*x[12], 5*x[14]-5*x[13], 8*x[15]-5*x[14], 6*x[16]-9*x[15], 7*x[17]-3*x[16], 1*x[18]-6*x[17], 7*x[19]-3*x[18], 8*x[20]-0*x[19], 2*x[21]-5*x[20], 2*x[22]-2*x[21], 9*x[23]-5*x[22], 9*x[24]-8*x[23], 1*x[25]-0*x[24], 4*x[26]-4*x[25], 0*x[27]-2*x[26], 3*x[28]-6*x[27], 6*x[29]-5*x[28], 8*x[30]-6*x[29], 6*x[31]-2*x[30], 6*x[32]-2*x[31], 8*x[33]-1*x[32], 4*x[34]-6*x[33], 1*x[35]-3*x[34]]\n",
    "func36(x...) = [2*x[1]-x[2], 6x[2]*5x[1], 6*x[3]-3*x[2], 6*x[4]-2*x[3], 6*x[5]-1*x[4], 8*x[6]-2*x[5], 7*x[7]-2*x[6], 0*x[8]-4*x[7], 8*x[9]-4*x[8], 5*x[10]-5*x[9], 0*x[11]-7*x[10], 4*x[12]-0*x[11], 7*x[13]-0*x[12], 5*x[14]-5*x[13], 8*x[15]-5*x[14], 6*x[16]-9*x[15], 7*x[17]-3*x[16], 1*x[18]-6*x[17], 7*x[19]-3*x[18], 8*x[20]-0*x[19], 2*x[21]-5*x[20], 2*x[22]-2*x[21], 9*x[23]-5*x[22], 9*x[24]-8*x[23], 1*x[25]-0*x[24], 4*x[26]-4*x[25], 0*x[27]-2*x[26], 3*x[28]-6*x[27], 6*x[29]-5*x[28], 8*x[30]-6*x[29], 6*x[31]-2*x[30], 6*x[32]-2*x[31], 8*x[33]-1*x[32], 4*x[34]-6*x[33], 1*x[35]-3*x[34], 4*x[36]-2*x[35]]\n",
    "func37(x...) = [2*x[1]-x[2], 6x[2]*5x[1], 6*x[3]-3*x[2], 6*x[4]-2*x[3], 6*x[5]-1*x[4], 8*x[6]-2*x[5], 7*x[7]-2*x[6], 0*x[8]-4*x[7], 8*x[9]-4*x[8], 5*x[10]-5*x[9], 0*x[11]-7*x[10], 4*x[12]-0*x[11], 7*x[13]-0*x[12], 5*x[14]-5*x[13], 8*x[15]-5*x[14], 6*x[16]-9*x[15], 7*x[17]-3*x[16], 1*x[18]-6*x[17], 7*x[19]-3*x[18], 8*x[20]-0*x[19], 2*x[21]-5*x[20], 2*x[22]-2*x[21], 9*x[23]-5*x[22], 9*x[24]-8*x[23], 1*x[25]-0*x[24], 4*x[26]-4*x[25], 0*x[27]-2*x[26], 3*x[28]-6*x[27], 6*x[29]-5*x[28], 8*x[30]-6*x[29], 6*x[31]-2*x[30], 6*x[32]-2*x[31], 8*x[33]-1*x[32], 4*x[34]-6*x[33], 1*x[35]-3*x[34], 4*x[36]-2*x[35], 9*x[37]-4*x[36]]\n",
    "func38(x...) = [2*x[1]-x[2], 6x[2]*5x[1], 6*x[3]-3*x[2], 6*x[4]-2*x[3], 6*x[5]-1*x[4], 8*x[6]-2*x[5], 7*x[7]-2*x[6], 0*x[8]-4*x[7], 8*x[9]-4*x[8], 5*x[10]-5*x[9], 0*x[11]-7*x[10], 4*x[12]-0*x[11], 7*x[13]-0*x[12], 5*x[14]-5*x[13], 8*x[15]-5*x[14], 6*x[16]-9*x[15], 7*x[17]-3*x[16], 1*x[18]-6*x[17], 7*x[19]-3*x[18], 8*x[20]-0*x[19], 2*x[21]-5*x[20], 2*x[22]-2*x[21], 9*x[23]-5*x[22], 9*x[24]-8*x[23], 1*x[25]-0*x[24], 4*x[26]-4*x[25], 0*x[27]-2*x[26], 3*x[28]-6*x[27], 6*x[29]-5*x[28], 8*x[30]-6*x[29], 6*x[31]-2*x[30], 6*x[32]-2*x[31], 8*x[33]-1*x[32], 4*x[34]-6*x[33], 1*x[35]-3*x[34], 4*x[36]-2*x[35], 9*x[37]-4*x[36], 2*x[38]-1*x[37]]\n",
    "func39(x...) = [2*x[1]-x[2], 6x[2]*5x[1], 6*x[3]-3*x[2], 6*x[4]-2*x[3], 6*x[5]-1*x[4], 8*x[6]-2*x[5], 7*x[7]-2*x[6], 0*x[8]-4*x[7], 8*x[9]-4*x[8], 5*x[10]-5*x[9], 0*x[11]-7*x[10], 4*x[12]-0*x[11], 7*x[13]-0*x[12], 5*x[14]-5*x[13], 8*x[15]-5*x[14], 6*x[16]-9*x[15], 7*x[17]-3*x[16], 1*x[18]-6*x[17], 7*x[19]-3*x[18], 8*x[20]-0*x[19], 2*x[21]-5*x[20], 2*x[22]-2*x[21], 9*x[23]-5*x[22], 9*x[24]-8*x[23], 1*x[25]-0*x[24], 4*x[26]-4*x[25], 0*x[27]-2*x[26], 3*x[28]-6*x[27], 6*x[29]-5*x[28], 8*x[30]-6*x[29], 6*x[31]-2*x[30], 6*x[32]-2*x[31], 8*x[33]-1*x[32], 4*x[34]-6*x[33], 1*x[35]-3*x[34], 4*x[36]-2*x[35], 9*x[37]-4*x[36], 2*x[38]-1*x[37], 9*x[39]-9*x[38]]\n",
    "func40(x...) = [2*x[1]-x[2], 6x[2]*5x[1], 6*x[3]-3*x[2], 6*x[4]-2*x[3], 6*x[5]-1*x[4], 8*x[6]-2*x[5], 7*x[7]-2*x[6], 0*x[8]-4*x[7], 8*x[9]-4*x[8], 5*x[10]-5*x[9], 0*x[11]-7*x[10], 4*x[12]-0*x[11], 7*x[13]-0*x[12], 5*x[14]-5*x[13], 8*x[15]-5*x[14], 6*x[16]-9*x[15], 7*x[17]-3*x[16], 1*x[18]-6*x[17], 7*x[19]-3*x[18], 8*x[20]-0*x[19], 2*x[21]-5*x[20], 2*x[22]-2*x[21], 9*x[23]-5*x[22], 9*x[24]-8*x[23], 1*x[25]-0*x[24], 4*x[26]-4*x[25], 0*x[27]-2*x[26], 3*x[28]-6*x[27], 6*x[29]-5*x[28], 8*x[30]-6*x[29], 6*x[31]-2*x[30], 6*x[32]-2*x[31], 8*x[33]-1*x[32], 4*x[34]-6*x[33], 1*x[35]-3*x[34], 4*x[36]-2*x[35], 9*x[37]-4*x[36], 2*x[38]-1*x[37], 9*x[39]-9*x[38], 2*x[40]-8*x[39]]\n",
    "func41(x...) = [2*x[1]-x[2], 6x[2]*5x[1], 6*x[3]-3*x[2], 6*x[4]-2*x[3], 6*x[5]-1*x[4], 8*x[6]-2*x[5], 7*x[7]-2*x[6], 0*x[8]-4*x[7], 8*x[9]-4*x[8], 5*x[10]-5*x[9], 0*x[11]-7*x[10], 4*x[12]-0*x[11], 7*x[13]-0*x[12], 5*x[14]-5*x[13], 8*x[15]-5*x[14], 6*x[16]-9*x[15], 7*x[17]-3*x[16], 1*x[18]-6*x[17], 7*x[19]-3*x[18], 8*x[20]-0*x[19], 2*x[21]-5*x[20], 2*x[22]-2*x[21], 9*x[23]-5*x[22], 9*x[24]-8*x[23], 1*x[25]-0*x[24], 4*x[26]-4*x[25], 0*x[27]-2*x[26], 3*x[28]-6*x[27], 6*x[29]-5*x[28], 8*x[30]-6*x[29], 6*x[31]-2*x[30], 6*x[32]-2*x[31], 8*x[33]-1*x[32], 4*x[34]-6*x[33], 1*x[35]-3*x[34], 4*x[36]-2*x[35], 9*x[37]-4*x[36], 2*x[38]-1*x[37], 9*x[39]-9*x[38], 2*x[40]-8*x[39], 3*x[41]-4*x[40]]\n",
    "func42(x...) = [2*x[1]-x[2], 6x[2]*5x[1], 6*x[3]-3*x[2], 6*x[4]-2*x[3], 6*x[5]-1*x[4], 8*x[6]-2*x[5], 7*x[7]-2*x[6], 0*x[8]-4*x[7], 8*x[9]-4*x[8], 5*x[10]-5*x[9], 0*x[11]-7*x[10], 4*x[12]-0*x[11], 7*x[13]-0*x[12], 5*x[14]-5*x[13], 8*x[15]-5*x[14], 6*x[16]-9*x[15], 7*x[17]-3*x[16], 1*x[18]-6*x[17], 7*x[19]-3*x[18], 8*x[20]-0*x[19], 2*x[21]-5*x[20], 2*x[22]-2*x[21], 9*x[23]-5*x[22], 9*x[24]-8*x[23], 1*x[25]-0*x[24], 4*x[26]-4*x[25], 0*x[27]-2*x[26], 3*x[28]-6*x[27], 6*x[29]-5*x[28], 8*x[30]-6*x[29], 6*x[31]-2*x[30], 6*x[32]-2*x[31], 8*x[33]-1*x[32], 4*x[34]-6*x[33], 1*x[35]-3*x[34], 4*x[36]-2*x[35], 9*x[37]-4*x[36], 2*x[38]-1*x[37], 9*x[39]-9*x[38], 2*x[40]-8*x[39], 3*x[41]-4*x[40], 2*x[42]-2*x[41]]\n",
    "func43(x...) = [2*x[1]-x[2], 6x[2]*5x[1], 6*x[3]-3*x[2], 6*x[4]-2*x[3], 6*x[5]-1*x[4], 8*x[6]-2*x[5], 7*x[7]-2*x[6], 0*x[8]-4*x[7], 8*x[9]-4*x[8], 5*x[10]-5*x[9], 0*x[11]-7*x[10], 4*x[12]-0*x[11], 7*x[13]-0*x[12], 5*x[14]-5*x[13], 8*x[15]-5*x[14], 6*x[16]-9*x[15], 7*x[17]-3*x[16], 1*x[18]-6*x[17], 7*x[19]-3*x[18], 8*x[20]-0*x[19], 2*x[21]-5*x[20], 2*x[22]-2*x[21], 9*x[23]-5*x[22], 9*x[24]-8*x[23], 1*x[25]-0*x[24], 4*x[26]-4*x[25], 0*x[27]-2*x[26], 3*x[28]-6*x[27], 6*x[29]-5*x[28], 8*x[30]-6*x[29], 6*x[31]-2*x[30], 6*x[32]-2*x[31], 8*x[33]-1*x[32], 4*x[34]-6*x[33], 1*x[35]-3*x[34], 4*x[36]-2*x[35], 9*x[37]-4*x[36], 2*x[38]-1*x[37], 9*x[39]-9*x[38], 2*x[40]-8*x[39], 3*x[41]-4*x[40], 2*x[42]-2*x[41], 7*x[43]-3*x[42]]\n",
    "func44(x...) = [2*x[1]-x[2], 6x[2]*5x[1], 6*x[3]-3*x[2], 6*x[4]-2*x[3], 6*x[5]-1*x[4], 8*x[6]-2*x[5], 7*x[7]-2*x[6], 0*x[8]-4*x[7], 8*x[9]-4*x[8], 5*x[10]-5*x[9], 0*x[11]-7*x[10], 4*x[12]-0*x[11], 7*x[13]-0*x[12], 5*x[14]-5*x[13], 8*x[15]-5*x[14], 6*x[16]-9*x[15], 7*x[17]-3*x[16], 1*x[18]-6*x[17], 7*x[19]-3*x[18], 8*x[20]-0*x[19], 2*x[21]-5*x[20], 2*x[22]-2*x[21], 9*x[23]-5*x[22], 9*x[24]-8*x[23], 1*x[25]-0*x[24], 4*x[26]-4*x[25], 0*x[27]-2*x[26], 3*x[28]-6*x[27], 6*x[29]-5*x[28], 8*x[30]-6*x[29], 6*x[31]-2*x[30], 6*x[32]-2*x[31], 8*x[33]-1*x[32], 4*x[34]-6*x[33], 1*x[35]-3*x[34], 4*x[36]-2*x[35], 9*x[37]-4*x[36], 2*x[38]-1*x[37], 9*x[39]-9*x[38], 2*x[40]-8*x[39], 3*x[41]-4*x[40], 2*x[42]-2*x[41], 7*x[43]-3*x[42], 1*x[44]-3*x[43]]\n",
    "func45(x...) = [2*x[1]-x[2], 6x[2]*5x[1], 6*x[3]-3*x[2], 6*x[4]-2*x[3], 6*x[5]-1*x[4], 8*x[6]-2*x[5], 7*x[7]-2*x[6], 0*x[8]-4*x[7], 8*x[9]-4*x[8], 5*x[10]-5*x[9], 0*x[11]-7*x[10], 4*x[12]-0*x[11], 7*x[13]-0*x[12], 5*x[14]-5*x[13], 8*x[15]-5*x[14], 6*x[16]-9*x[15], 7*x[17]-3*x[16], 1*x[18]-6*x[17], 7*x[19]-3*x[18], 8*x[20]-0*x[19], 2*x[21]-5*x[20], 2*x[22]-2*x[21], 9*x[23]-5*x[22], 9*x[24]-8*x[23], 1*x[25]-0*x[24], 4*x[26]-4*x[25], 0*x[27]-2*x[26], 3*x[28]-6*x[27], 6*x[29]-5*x[28], 8*x[30]-6*x[29], 6*x[31]-2*x[30], 6*x[32]-2*x[31], 8*x[33]-1*x[32], 4*x[34]-6*x[33], 1*x[35]-3*x[34], 4*x[36]-2*x[35], 9*x[37]-4*x[36], 2*x[38]-1*x[37], 9*x[39]-9*x[38], 2*x[40]-8*x[39], 3*x[41]-4*x[40], 2*x[42]-2*x[41], 7*x[43]-3*x[42], 1*x[44]-3*x[43], 3*x[45]-0*x[44]]\n",
    "func46(x...) = [2*x[1]-x[2], 6x[2]*5x[1], 6*x[3]-3*x[2], 6*x[4]-2*x[3], 6*x[5]-1*x[4], 8*x[6]-2*x[5], 7*x[7]-2*x[6], 0*x[8]-4*x[7], 8*x[9]-4*x[8], 5*x[10]-5*x[9], 0*x[11]-7*x[10], 4*x[12]-0*x[11], 7*x[13]-0*x[12], 5*x[14]-5*x[13], 8*x[15]-5*x[14], 6*x[16]-9*x[15], 7*x[17]-3*x[16], 1*x[18]-6*x[17], 7*x[19]-3*x[18], 8*x[20]-0*x[19], 2*x[21]-5*x[20], 2*x[22]-2*x[21], 9*x[23]-5*x[22], 9*x[24]-8*x[23], 1*x[25]-0*x[24], 4*x[26]-4*x[25], 0*x[27]-2*x[26], 3*x[28]-6*x[27], 6*x[29]-5*x[28], 8*x[30]-6*x[29], 6*x[31]-2*x[30], 6*x[32]-2*x[31], 8*x[33]-1*x[32], 4*x[34]-6*x[33], 1*x[35]-3*x[34], 4*x[36]-2*x[35], 9*x[37]-4*x[36], 2*x[38]-1*x[37], 9*x[39]-9*x[38], 2*x[40]-8*x[39], 3*x[41]-4*x[40], 2*x[42]-2*x[41], 7*x[43]-3*x[42], 1*x[44]-3*x[43], 3*x[45]-0*x[44], 7*x[46]-9*x[45]]\n",
    "func47(x...) = [2*x[1]-x[2], 6x[2]*5x[1], 6*x[3]-3*x[2], 6*x[4]-2*x[3], 6*x[5]-1*x[4], 8*x[6]-2*x[5], 7*x[7]-2*x[6], 0*x[8]-4*x[7], 8*x[9]-4*x[8], 5*x[10]-5*x[9], 0*x[11]-7*x[10], 4*x[12]-0*x[11], 7*x[13]-0*x[12], 5*x[14]-5*x[13], 8*x[15]-5*x[14], 6*x[16]-9*x[15], 7*x[17]-3*x[16], 1*x[18]-6*x[17], 7*x[19]-3*x[18], 8*x[20]-0*x[19], 2*x[21]-5*x[20], 2*x[22]-2*x[21], 9*x[23]-5*x[22], 9*x[24]-8*x[23], 1*x[25]-0*x[24], 4*x[26]-4*x[25], 0*x[27]-2*x[26], 3*x[28]-6*x[27], 6*x[29]-5*x[28], 8*x[30]-6*x[29], 6*x[31]-2*x[30], 6*x[32]-2*x[31], 8*x[33]-1*x[32], 4*x[34]-6*x[33], 1*x[35]-3*x[34], 4*x[36]-2*x[35], 9*x[37]-4*x[36], 2*x[38]-1*x[37], 9*x[39]-9*x[38], 2*x[40]-8*x[39], 3*x[41]-4*x[40], 2*x[42]-2*x[41], 7*x[43]-3*x[42], 1*x[44]-3*x[43], 3*x[45]-0*x[44], 7*x[46]-9*x[45], 6*x[47]-2*x[46]]\n",
    "func48(x...) = [2*x[1]-x[2], 6x[2]*5x[1], 6*x[3]-3*x[2], 6*x[4]-2*x[3], 6*x[5]-1*x[4], 8*x[6]-2*x[5], 7*x[7]-2*x[6], 0*x[8]-4*x[7], 8*x[9]-4*x[8], 5*x[10]-5*x[9], 0*x[11]-7*x[10], 4*x[12]-0*x[11], 7*x[13]-0*x[12], 5*x[14]-5*x[13], 8*x[15]-5*x[14], 6*x[16]-9*x[15], 7*x[17]-3*x[16], 1*x[18]-6*x[17], 7*x[19]-3*x[18], 8*x[20]-0*x[19], 2*x[21]-5*x[20], 2*x[22]-2*x[21], 9*x[23]-5*x[22], 9*x[24]-8*x[23], 1*x[25]-0*x[24], 4*x[26]-4*x[25], 0*x[27]-2*x[26], 3*x[28]-6*x[27], 6*x[29]-5*x[28], 8*x[30]-6*x[29], 6*x[31]-2*x[30], 6*x[32]-2*x[31], 8*x[33]-1*x[32], 4*x[34]-6*x[33], 1*x[35]-3*x[34], 4*x[36]-2*x[35], 9*x[37]-4*x[36], 2*x[38]-1*x[37], 9*x[39]-9*x[38], 2*x[40]-8*x[39], 3*x[41]-4*x[40], 2*x[42]-2*x[41], 7*x[43]-3*x[42], 1*x[44]-3*x[43], 3*x[45]-0*x[44], 7*x[46]-9*x[45], 6*x[47]-2*x[46], 9*x[48]-0*x[47]]\n",
    "func49(x...) = [2*x[1]-x[2], 6x[2]*5x[1], 6*x[3]-3*x[2], 6*x[4]-2*x[3], 6*x[5]-1*x[4], 8*x[6]-2*x[5], 7*x[7]-2*x[6], 0*x[8]-4*x[7], 8*x[9]-4*x[8], 5*x[10]-5*x[9], 0*x[11]-7*x[10], 4*x[12]-0*x[11], 7*x[13]-0*x[12], 5*x[14]-5*x[13], 8*x[15]-5*x[14], 6*x[16]-9*x[15], 7*x[17]-3*x[16], 1*x[18]-6*x[17], 7*x[19]-3*x[18], 8*x[20]-0*x[19], 2*x[21]-5*x[20], 2*x[22]-2*x[21], 9*x[23]-5*x[22], 9*x[24]-8*x[23], 1*x[25]-0*x[24], 4*x[26]-4*x[25], 0*x[27]-2*x[26], 3*x[28]-6*x[27], 6*x[29]-5*x[28], 8*x[30]-6*x[29], 6*x[31]-2*x[30], 6*x[32]-2*x[31], 8*x[33]-1*x[32], 4*x[34]-6*x[33], 1*x[35]-3*x[34], 4*x[36]-2*x[35], 9*x[37]-4*x[36], 2*x[38]-1*x[37], 9*x[39]-9*x[38], 2*x[40]-8*x[39], 3*x[41]-4*x[40], 2*x[42]-2*x[41], 7*x[43]-3*x[42], 1*x[44]-3*x[43], 3*x[45]-0*x[44], 7*x[46]-9*x[45], 6*x[47]-2*x[46], 9*x[48]-0*x[47], 0*x[49]-3*x[48]]\n",
    "func50(x...) = [2*x[1]-x[2], 6x[2]*5x[1], 6*x[3]-3*x[2], 6*x[4]-2*x[3], 6*x[5]-1*x[4], 8*x[6]-2*x[5], 7*x[7]-2*x[6], 0*x[8]-4*x[7], 8*x[9]-4*x[8], 5*x[10]-5*x[9], 0*x[11]-7*x[10], 4*x[12]-0*x[11], 7*x[13]-0*x[12], 5*x[14]-5*x[13], 8*x[15]-5*x[14], 6*x[16]-9*x[15], 7*x[17]-3*x[16], 1*x[18]-6*x[17], 7*x[19]-3*x[18], 8*x[20]-0*x[19], 2*x[21]-5*x[20], 2*x[22]-2*x[21], 9*x[23]-5*x[22], 9*x[24]-8*x[23], 1*x[25]-0*x[24], 4*x[26]-4*x[25], 0*x[27]-2*x[26], 3*x[28]-6*x[27], 6*x[29]-5*x[28], 8*x[30]-6*x[29], 6*x[31]-2*x[30], 6*x[32]-2*x[31], 8*x[33]-1*x[32], 4*x[34]-6*x[33], 1*x[35]-3*x[34], 4*x[36]-2*x[35], 9*x[37]-4*x[36], 2*x[38]-1*x[37], 9*x[39]-9*x[38], 2*x[40]-8*x[39], 3*x[41]-4*x[40], 2*x[42]-2*x[41], 7*x[43]-3*x[42], 1*x[44]-3*x[43], 3*x[45]-0*x[44], 7*x[46]-9*x[45], 6*x[47]-2*x[46], 9*x[48]-0*x[47], 0*x[49]-3*x[48], 2*x[50]-7*x[49]]\n",
    "func51(x...) = [2*x[1]-x[2], 6x[2]*5x[1], 3*x[3]-1*x[2], 0*x[4]-6*x[3], 4*x[5]-3*x[4], 1*x[6]-3*x[5], 9*x[7]-4*x[6], 8*x[8]-9*x[7], 0*x[9]-7*x[8], 1*x[10]-5*x[9], 8*x[11]-1*x[10], 7*x[12]-5*x[11], 2*x[13]-2*x[12], 3*x[14]-9*x[13], 8*x[15]-5*x[14], 8*x[16]-0*x[15], 3*x[17]-5*x[16], 0*x[18]-4*x[17], 8*x[19]-3*x[18], 2*x[20]-9*x[19], 3*x[21]-5*x[20], 4*x[22]-6*x[21], 6*x[23]-6*x[22], 8*x[24]-6*x[23], 7*x[25]-0*x[24], 9*x[26]-5*x[25], 9*x[27]-1*x[26], 3*x[28]-0*x[27], 4*x[29]-4*x[28], 7*x[30]-6*x[29], 5*x[31]-3*x[30], 9*x[32]-5*x[31], 0*x[33]-7*x[32], 2*x[34]-3*x[33], 4*x[35]-2*x[34], 2*x[36]-9*x[35], 3*x[37]-2*x[36], 7*x[38]-8*x[37], 3*x[39]-6*x[38], 8*x[40]-6*x[39], 0*x[41]-8*x[40], 1*x[42]-5*x[41], 7*x[43]-8*x[42], 2*x[44]-7*x[43], 7*x[45]-1*x[44], 1*x[46]-7*x[45], 4*x[47]-1*x[46], 2*x[48]-1*x[47], 1*x[49]-8*x[48], 0*x[50]-1*x[49], 0*x[51]-2*x[50]]\n",
    "func52(x...) = [2*x[1]-x[2], 6x[2]*5x[1], 3*x[3]-1*x[2], 0*x[4]-6*x[3], 4*x[5]-3*x[4], 1*x[6]-3*x[5], 9*x[7]-4*x[6], 8*x[8]-9*x[7], 0*x[9]-7*x[8], 1*x[10]-5*x[9], 8*x[11]-1*x[10], 7*x[12]-5*x[11], 2*x[13]-2*x[12], 3*x[14]-9*x[13], 8*x[15]-5*x[14], 8*x[16]-0*x[15], 3*x[17]-5*x[16], 0*x[18]-4*x[17], 8*x[19]-3*x[18], 2*x[20]-9*x[19], 3*x[21]-5*x[20], 4*x[22]-6*x[21], 6*x[23]-6*x[22], 8*x[24]-6*x[23], 7*x[25]-0*x[24], 9*x[26]-5*x[25], 9*x[27]-1*x[26], 3*x[28]-0*x[27], 4*x[29]-4*x[28], 7*x[30]-6*x[29], 5*x[31]-3*x[30], 9*x[32]-5*x[31], 0*x[33]-7*x[32], 2*x[34]-3*x[33], 4*x[35]-2*x[34], 2*x[36]-9*x[35], 3*x[37]-2*x[36], 7*x[38]-8*x[37], 3*x[39]-6*x[38], 8*x[40]-6*x[39], 0*x[41]-8*x[40], 1*x[42]-5*x[41], 7*x[43]-8*x[42], 2*x[44]-7*x[43], 7*x[45]-1*x[44], 1*x[46]-7*x[45], 4*x[47]-1*x[46], 2*x[48]-1*x[47], 1*x[49]-8*x[48], 0*x[50]-1*x[49], 0*x[51]-2*x[50], 0*x[52]-0*x[51]]\n",
    "func53(x...) = [2*x[1]-x[2], 6x[2]*5x[1], 3*x[3]-1*x[2], 0*x[4]-6*x[3], 4*x[5]-3*x[4], 1*x[6]-3*x[5], 9*x[7]-4*x[6], 8*x[8]-9*x[7], 0*x[9]-7*x[8], 1*x[10]-5*x[9], 8*x[11]-1*x[10], 7*x[12]-5*x[11], 2*x[13]-2*x[12], 3*x[14]-9*x[13], 8*x[15]-5*x[14], 8*x[16]-0*x[15], 3*x[17]-5*x[16], 0*x[18]-4*x[17], 8*x[19]-3*x[18], 2*x[20]-9*x[19], 3*x[21]-5*x[20], 4*x[22]-6*x[21], 6*x[23]-6*x[22], 8*x[24]-6*x[23], 7*x[25]-0*x[24], 9*x[26]-5*x[25], 9*x[27]-1*x[26], 3*x[28]-0*x[27], 4*x[29]-4*x[28], 7*x[30]-6*x[29], 5*x[31]-3*x[30], 9*x[32]-5*x[31], 0*x[33]-7*x[32], 2*x[34]-3*x[33], 4*x[35]-2*x[34], 2*x[36]-9*x[35], 3*x[37]-2*x[36], 7*x[38]-8*x[37], 3*x[39]-6*x[38], 8*x[40]-6*x[39], 0*x[41]-8*x[40], 1*x[42]-5*x[41], 7*x[43]-8*x[42], 2*x[44]-7*x[43], 7*x[45]-1*x[44], 1*x[46]-7*x[45], 4*x[47]-1*x[46], 2*x[48]-1*x[47], 1*x[49]-8*x[48], 0*x[50]-1*x[49], 0*x[51]-2*x[50], 0*x[52]-0*x[51], 5*x[53]-8*x[52]]\n",
    "func54(x...) = [2*x[1]-x[2], 6x[2]*5x[1], 3*x[3]-1*x[2], 0*x[4]-6*x[3], 4*x[5]-3*x[4], 1*x[6]-3*x[5], 9*x[7]-4*x[6], 8*x[8]-9*x[7], 0*x[9]-7*x[8], 1*x[10]-5*x[9], 8*x[11]-1*x[10], 7*x[12]-5*x[11], 2*x[13]-2*x[12], 3*x[14]-9*x[13], 8*x[15]-5*x[14], 8*x[16]-0*x[15], 3*x[17]-5*x[16], 0*x[18]-4*x[17], 8*x[19]-3*x[18], 2*x[20]-9*x[19], 3*x[21]-5*x[20], 4*x[22]-6*x[21], 6*x[23]-6*x[22], 8*x[24]-6*x[23], 7*x[25]-0*x[24], 9*x[26]-5*x[25], 9*x[27]-1*x[26], 3*x[28]-0*x[27], 4*x[29]-4*x[28], 7*x[30]-6*x[29], 5*x[31]-3*x[30], 9*x[32]-5*x[31], 0*x[33]-7*x[32], 2*x[34]-3*x[33], 4*x[35]-2*x[34], 2*x[36]-9*x[35], 3*x[37]-2*x[36], 7*x[38]-8*x[37], 3*x[39]-6*x[38], 8*x[40]-6*x[39], 0*x[41]-8*x[40], 1*x[42]-5*x[41], 7*x[43]-8*x[42], 2*x[44]-7*x[43], 7*x[45]-1*x[44], 1*x[46]-7*x[45], 4*x[47]-1*x[46], 2*x[48]-1*x[47], 1*x[49]-8*x[48], 0*x[50]-1*x[49], 0*x[51]-2*x[50], 0*x[52]-0*x[51], 5*x[53]-8*x[52], 0*x[54]-5*x[53]]\n",
    "func55(x...) = [2*x[1]-x[2], 6x[2]*5x[1], 3*x[3]-1*x[2], 0*x[4]-6*x[3], 4*x[5]-3*x[4], 1*x[6]-3*x[5], 9*x[7]-4*x[6], 8*x[8]-9*x[7], 0*x[9]-7*x[8], 1*x[10]-5*x[9], 8*x[11]-1*x[10], 7*x[12]-5*x[11], 2*x[13]-2*x[12], 3*x[14]-9*x[13], 8*x[15]-5*x[14], 8*x[16]-0*x[15], 3*x[17]-5*x[16], 0*x[18]-4*x[17], 8*x[19]-3*x[18], 2*x[20]-9*x[19], 3*x[21]-5*x[20], 4*x[22]-6*x[21], 6*x[23]-6*x[22], 8*x[24]-6*x[23], 7*x[25]-0*x[24], 9*x[26]-5*x[25], 9*x[27]-1*x[26], 3*x[28]-0*x[27], 4*x[29]-4*x[28], 7*x[30]-6*x[29], 5*x[31]-3*x[30], 9*x[32]-5*x[31], 0*x[33]-7*x[32], 2*x[34]-3*x[33], 4*x[35]-2*x[34], 2*x[36]-9*x[35], 3*x[37]-2*x[36], 7*x[38]-8*x[37], 3*x[39]-6*x[38], 8*x[40]-6*x[39], 0*x[41]-8*x[40], 1*x[42]-5*x[41], 7*x[43]-8*x[42], 2*x[44]-7*x[43], 7*x[45]-1*x[44], 1*x[46]-7*x[45], 4*x[47]-1*x[46], 2*x[48]-1*x[47], 1*x[49]-8*x[48], 0*x[50]-1*x[49], 0*x[51]-2*x[50], 0*x[52]-0*x[51], 5*x[53]-8*x[52], 0*x[54]-5*x[53], 2*x[55]-9*x[54]]\n",
    "func56(x...) = [2*x[1]-x[2], 6x[2]*5x[1], 3*x[3]-1*x[2], 0*x[4]-6*x[3], 4*x[5]-3*x[4], 1*x[6]-3*x[5], 9*x[7]-4*x[6], 8*x[8]-9*x[7], 0*x[9]-7*x[8], 1*x[10]-5*x[9], 8*x[11]-1*x[10], 7*x[12]-5*x[11], 2*x[13]-2*x[12], 3*x[14]-9*x[13], 8*x[15]-5*x[14], 8*x[16]-0*x[15], 3*x[17]-5*x[16], 0*x[18]-4*x[17], 8*x[19]-3*x[18], 2*x[20]-9*x[19], 3*x[21]-5*x[20], 4*x[22]-6*x[21], 6*x[23]-6*x[22], 8*x[24]-6*x[23], 7*x[25]-0*x[24], 9*x[26]-5*x[25], 9*x[27]-1*x[26], 3*x[28]-0*x[27], 4*x[29]-4*x[28], 7*x[30]-6*x[29], 5*x[31]-3*x[30], 9*x[32]-5*x[31], 0*x[33]-7*x[32], 2*x[34]-3*x[33], 4*x[35]-2*x[34], 2*x[36]-9*x[35], 3*x[37]-2*x[36], 7*x[38]-8*x[37], 3*x[39]-6*x[38], 8*x[40]-6*x[39], 0*x[41]-8*x[40], 1*x[42]-5*x[41], 7*x[43]-8*x[42], 2*x[44]-7*x[43], 7*x[45]-1*x[44], 1*x[46]-7*x[45], 4*x[47]-1*x[46], 2*x[48]-1*x[47], 1*x[49]-8*x[48], 0*x[50]-1*x[49], 0*x[51]-2*x[50], 0*x[52]-0*x[51], 5*x[53]-8*x[52], 0*x[54]-5*x[53], 2*x[55]-9*x[54], 6*x[56]-3*x[55]]\n",
    "func57(x...) = [2*x[1]-x[2], 6x[2]*5x[1], 3*x[3]-1*x[2], 0*x[4]-6*x[3], 4*x[5]-3*x[4], 1*x[6]-3*x[5], 9*x[7]-4*x[6], 8*x[8]-9*x[7], 0*x[9]-7*x[8], 1*x[10]-5*x[9], 8*x[11]-1*x[10], 7*x[12]-5*x[11], 2*x[13]-2*x[12], 3*x[14]-9*x[13], 8*x[15]-5*x[14], 8*x[16]-0*x[15], 3*x[17]-5*x[16], 0*x[18]-4*x[17], 8*x[19]-3*x[18], 2*x[20]-9*x[19], 3*x[21]-5*x[20], 4*x[22]-6*x[21], 6*x[23]-6*x[22], 8*x[24]-6*x[23], 7*x[25]-0*x[24], 9*x[26]-5*x[25], 9*x[27]-1*x[26], 3*x[28]-0*x[27], 4*x[29]-4*x[28], 7*x[30]-6*x[29], 5*x[31]-3*x[30], 9*x[32]-5*x[31], 0*x[33]-7*x[32], 2*x[34]-3*x[33], 4*x[35]-2*x[34], 2*x[36]-9*x[35], 3*x[37]-2*x[36], 7*x[38]-8*x[37], 3*x[39]-6*x[38], 8*x[40]-6*x[39], 0*x[41]-8*x[40], 1*x[42]-5*x[41], 7*x[43]-8*x[42], 2*x[44]-7*x[43], 7*x[45]-1*x[44], 1*x[46]-7*x[45], 4*x[47]-1*x[46], 2*x[48]-1*x[47], 1*x[49]-8*x[48], 0*x[50]-1*x[49], 0*x[51]-2*x[50], 0*x[52]-0*x[51], 5*x[53]-8*x[52], 0*x[54]-5*x[53], 2*x[55]-9*x[54], 6*x[56]-3*x[55], 1*x[57]-2*x[56]]\n",
    "func58(x...) = [2*x[1]-x[2], 6x[2]*5x[1], 3*x[3]-1*x[2], 0*x[4]-6*x[3], 4*x[5]-3*x[4], 1*x[6]-3*x[5], 9*x[7]-4*x[6], 8*x[8]-9*x[7], 0*x[9]-7*x[8], 1*x[10]-5*x[9], 8*x[11]-1*x[10], 7*x[12]-5*x[11], 2*x[13]-2*x[12], 3*x[14]-9*x[13], 8*x[15]-5*x[14], 8*x[16]-0*x[15], 3*x[17]-5*x[16], 0*x[18]-4*x[17], 8*x[19]-3*x[18], 2*x[20]-9*x[19], 3*x[21]-5*x[20], 4*x[22]-6*x[21], 6*x[23]-6*x[22], 8*x[24]-6*x[23], 7*x[25]-0*x[24], 9*x[26]-5*x[25], 9*x[27]-1*x[26], 3*x[28]-0*x[27], 4*x[29]-4*x[28], 7*x[30]-6*x[29], 5*x[31]-3*x[30], 9*x[32]-5*x[31], 0*x[33]-7*x[32], 2*x[34]-3*x[33], 4*x[35]-2*x[34], 2*x[36]-9*x[35], 3*x[37]-2*x[36], 7*x[38]-8*x[37], 3*x[39]-6*x[38], 8*x[40]-6*x[39], 0*x[41]-8*x[40], 1*x[42]-5*x[41], 7*x[43]-8*x[42], 2*x[44]-7*x[43], 7*x[45]-1*x[44], 1*x[46]-7*x[45], 4*x[47]-1*x[46], 2*x[48]-1*x[47], 1*x[49]-8*x[48], 0*x[50]-1*x[49], 0*x[51]-2*x[50], 0*x[52]-0*x[51], 5*x[53]-8*x[52], 0*x[54]-5*x[53], 2*x[55]-9*x[54], 6*x[56]-3*x[55], 1*x[57]-2*x[56], 8*x[58]-5*x[57]]\n",
    "func59(x...) = [2*x[1]-x[2], 6x[2]*5x[1], 3*x[3]-1*x[2], 0*x[4]-6*x[3], 4*x[5]-3*x[4], 1*x[6]-3*x[5], 9*x[7]-4*x[6], 8*x[8]-9*x[7], 0*x[9]-7*x[8], 1*x[10]-5*x[9], 8*x[11]-1*x[10], 7*x[12]-5*x[11], 2*x[13]-2*x[12], 3*x[14]-9*x[13], 8*x[15]-5*x[14], 8*x[16]-0*x[15], 3*x[17]-5*x[16], 0*x[18]-4*x[17], 8*x[19]-3*x[18], 2*x[20]-9*x[19], 3*x[21]-5*x[20], 4*x[22]-6*x[21], 6*x[23]-6*x[22], 8*x[24]-6*x[23], 7*x[25]-0*x[24], 9*x[26]-5*x[25], 9*x[27]-1*x[26], 3*x[28]-0*x[27], 4*x[29]-4*x[28], 7*x[30]-6*x[29], 5*x[31]-3*x[30], 9*x[32]-5*x[31], 0*x[33]-7*x[32], 2*x[34]-3*x[33], 4*x[35]-2*x[34], 2*x[36]-9*x[35], 3*x[37]-2*x[36], 7*x[38]-8*x[37], 3*x[39]-6*x[38], 8*x[40]-6*x[39], 0*x[41]-8*x[40], 1*x[42]-5*x[41], 7*x[43]-8*x[42], 2*x[44]-7*x[43], 7*x[45]-1*x[44], 1*x[46]-7*x[45], 4*x[47]-1*x[46], 2*x[48]-1*x[47], 1*x[49]-8*x[48], 0*x[50]-1*x[49], 0*x[51]-2*x[50], 0*x[52]-0*x[51], 5*x[53]-8*x[52], 0*x[54]-5*x[53], 2*x[55]-9*x[54], 6*x[56]-3*x[55], 1*x[57]-2*x[56], 8*x[58]-5*x[57], 8*x[59]-9*x[58]]\n",
    "func60(x...) = [2*x[1]-x[2], 6x[2]*5x[1], 3*x[3]-1*x[2], 0*x[4]-6*x[3], 4*x[5]-3*x[4], 1*x[6]-3*x[5], 9*x[7]-4*x[6], 8*x[8]-9*x[7], 0*x[9]-7*x[8], 1*x[10]-5*x[9], 8*x[11]-1*x[10], 7*x[12]-5*x[11], 2*x[13]-2*x[12], 3*x[14]-9*x[13], 8*x[15]-5*x[14], 8*x[16]-0*x[15], 3*x[17]-5*x[16], 0*x[18]-4*x[17], 8*x[19]-3*x[18], 2*x[20]-9*x[19], 3*x[21]-5*x[20], 4*x[22]-6*x[21], 6*x[23]-6*x[22], 8*x[24]-6*x[23], 7*x[25]-0*x[24], 9*x[26]-5*x[25], 9*x[27]-1*x[26], 3*x[28]-0*x[27], 4*x[29]-4*x[28], 7*x[30]-6*x[29], 5*x[31]-3*x[30], 9*x[32]-5*x[31], 0*x[33]-7*x[32], 2*x[34]-3*x[33], 4*x[35]-2*x[34], 2*x[36]-9*x[35], 3*x[37]-2*x[36], 7*x[38]-8*x[37], 3*x[39]-6*x[38], 8*x[40]-6*x[39], 0*x[41]-8*x[40], 1*x[42]-5*x[41], 7*x[43]-8*x[42], 2*x[44]-7*x[43], 7*x[45]-1*x[44], 1*x[46]-7*x[45], 4*x[47]-1*x[46], 2*x[48]-1*x[47], 1*x[49]-8*x[48], 0*x[50]-1*x[49], 0*x[51]-2*x[50], 0*x[52]-0*x[51], 5*x[53]-8*x[52], 0*x[54]-5*x[53], 2*x[55]-9*x[54], 6*x[56]-3*x[55], 1*x[57]-2*x[56], 8*x[58]-5*x[57], 8*x[59]-9*x[58], 2*x[60]-1*x[59]]\n",
    "func61(x...) = [2*x[1]-x[2], 6x[2]*5x[1], 3*x[3]-1*x[2], 0*x[4]-6*x[3], 4*x[5]-3*x[4], 1*x[6]-3*x[5], 9*x[7]-4*x[6], 8*x[8]-9*x[7], 0*x[9]-7*x[8], 1*x[10]-5*x[9], 8*x[11]-1*x[10], 7*x[12]-5*x[11], 2*x[13]-2*x[12], 3*x[14]-9*x[13], 8*x[15]-5*x[14], 8*x[16]-0*x[15], 3*x[17]-5*x[16], 0*x[18]-4*x[17], 8*x[19]-3*x[18], 2*x[20]-9*x[19], 3*x[21]-5*x[20], 4*x[22]-6*x[21], 6*x[23]-6*x[22], 8*x[24]-6*x[23], 7*x[25]-0*x[24], 9*x[26]-5*x[25], 9*x[27]-1*x[26], 3*x[28]-0*x[27], 4*x[29]-4*x[28], 7*x[30]-6*x[29], 5*x[31]-3*x[30], 9*x[32]-5*x[31], 0*x[33]-7*x[32], 2*x[34]-3*x[33], 4*x[35]-2*x[34], 2*x[36]-9*x[35], 3*x[37]-2*x[36], 7*x[38]-8*x[37], 3*x[39]-6*x[38], 8*x[40]-6*x[39], 0*x[41]-8*x[40], 1*x[42]-5*x[41], 7*x[43]-8*x[42], 2*x[44]-7*x[43], 7*x[45]-1*x[44], 1*x[46]-7*x[45], 4*x[47]-1*x[46], 2*x[48]-1*x[47], 1*x[49]-8*x[48], 0*x[50]-1*x[49], 0*x[51]-2*x[50], 0*x[52]-0*x[51], 5*x[53]-8*x[52], 0*x[54]-5*x[53], 2*x[55]-9*x[54], 6*x[56]-3*x[55], 1*x[57]-2*x[56], 8*x[58]-5*x[57], 8*x[59]-9*x[58], 2*x[60]-1*x[59], 0*x[61]-5*x[60]]\n",
    "func62(x...) = [2*x[1]-x[2], 6x[2]*5x[1], 3*x[3]-1*x[2], 0*x[4]-6*x[3], 4*x[5]-3*x[4], 1*x[6]-3*x[5], 9*x[7]-4*x[6], 8*x[8]-9*x[7], 0*x[9]-7*x[8], 1*x[10]-5*x[9], 8*x[11]-1*x[10], 7*x[12]-5*x[11], 2*x[13]-2*x[12], 3*x[14]-9*x[13], 8*x[15]-5*x[14], 8*x[16]-0*x[15], 3*x[17]-5*x[16], 0*x[18]-4*x[17], 8*x[19]-3*x[18], 2*x[20]-9*x[19], 3*x[21]-5*x[20], 4*x[22]-6*x[21], 6*x[23]-6*x[22], 8*x[24]-6*x[23], 7*x[25]-0*x[24], 9*x[26]-5*x[25], 9*x[27]-1*x[26], 3*x[28]-0*x[27], 4*x[29]-4*x[28], 7*x[30]-6*x[29], 5*x[31]-3*x[30], 9*x[32]-5*x[31], 0*x[33]-7*x[32], 2*x[34]-3*x[33], 4*x[35]-2*x[34], 2*x[36]-9*x[35], 3*x[37]-2*x[36], 7*x[38]-8*x[37], 3*x[39]-6*x[38], 8*x[40]-6*x[39], 0*x[41]-8*x[40], 1*x[42]-5*x[41], 7*x[43]-8*x[42], 2*x[44]-7*x[43], 7*x[45]-1*x[44], 1*x[46]-7*x[45], 4*x[47]-1*x[46], 2*x[48]-1*x[47], 1*x[49]-8*x[48], 0*x[50]-1*x[49], 0*x[51]-2*x[50], 0*x[52]-0*x[51], 5*x[53]-8*x[52], 0*x[54]-5*x[53], 2*x[55]-9*x[54], 6*x[56]-3*x[55], 1*x[57]-2*x[56], 8*x[58]-5*x[57], 8*x[59]-9*x[58], 2*x[60]-1*x[59], 0*x[61]-5*x[60], 7*x[62]-6*x[61]]\n",
    "func63(x...) = [2*x[1]-x[2], 6x[2]*5x[1], 3*x[3]-1*x[2], 0*x[4]-6*x[3], 4*x[5]-3*x[4], 1*x[6]-3*x[5], 9*x[7]-4*x[6], 8*x[8]-9*x[7], 0*x[9]-7*x[8], 1*x[10]-5*x[9], 8*x[11]-1*x[10], 7*x[12]-5*x[11], 2*x[13]-2*x[12], 3*x[14]-9*x[13], 8*x[15]-5*x[14], 8*x[16]-0*x[15], 3*x[17]-5*x[16], 0*x[18]-4*x[17], 8*x[19]-3*x[18], 2*x[20]-9*x[19], 3*x[21]-5*x[20], 4*x[22]-6*x[21], 6*x[23]-6*x[22], 8*x[24]-6*x[23], 7*x[25]-0*x[24], 9*x[26]-5*x[25], 9*x[27]-1*x[26], 3*x[28]-0*x[27], 4*x[29]-4*x[28], 7*x[30]-6*x[29], 5*x[31]-3*x[30], 9*x[32]-5*x[31], 0*x[33]-7*x[32], 2*x[34]-3*x[33], 4*x[35]-2*x[34], 2*x[36]-9*x[35], 3*x[37]-2*x[36], 7*x[38]-8*x[37], 3*x[39]-6*x[38], 8*x[40]-6*x[39], 0*x[41]-8*x[40], 1*x[42]-5*x[41], 7*x[43]-8*x[42], 2*x[44]-7*x[43], 7*x[45]-1*x[44], 1*x[46]-7*x[45], 4*x[47]-1*x[46], 2*x[48]-1*x[47], 1*x[49]-8*x[48], 0*x[50]-1*x[49], 0*x[51]-2*x[50], 0*x[52]-0*x[51], 5*x[53]-8*x[52], 0*x[54]-5*x[53], 2*x[55]-9*x[54], 6*x[56]-3*x[55], 1*x[57]-2*x[56], 8*x[58]-5*x[57], 8*x[59]-9*x[58], 2*x[60]-1*x[59], 0*x[61]-5*x[60], 7*x[62]-6*x[61], 1*x[63]-5*x[62]]\n",
    "func64(x...) = [2*x[1]-x[2], 6x[2]*5x[1], 3*x[3]-1*x[2], 0*x[4]-6*x[3], 4*x[5]-3*x[4], 1*x[6]-3*x[5], 9*x[7]-4*x[6], 8*x[8]-9*x[7], 0*x[9]-7*x[8], 1*x[10]-5*x[9], 8*x[11]-1*x[10], 7*x[12]-5*x[11], 2*x[13]-2*x[12], 3*x[14]-9*x[13], 8*x[15]-5*x[14], 8*x[16]-0*x[15], 3*x[17]-5*x[16], 0*x[18]-4*x[17], 8*x[19]-3*x[18], 2*x[20]-9*x[19], 3*x[21]-5*x[20], 4*x[22]-6*x[21], 6*x[23]-6*x[22], 8*x[24]-6*x[23], 7*x[25]-0*x[24], 9*x[26]-5*x[25], 9*x[27]-1*x[26], 3*x[28]-0*x[27], 4*x[29]-4*x[28], 7*x[30]-6*x[29], 5*x[31]-3*x[30], 9*x[32]-5*x[31], 0*x[33]-7*x[32], 2*x[34]-3*x[33], 4*x[35]-2*x[34], 2*x[36]-9*x[35], 3*x[37]-2*x[36], 7*x[38]-8*x[37], 3*x[39]-6*x[38], 8*x[40]-6*x[39], 0*x[41]-8*x[40], 1*x[42]-5*x[41], 7*x[43]-8*x[42], 2*x[44]-7*x[43], 7*x[45]-1*x[44], 1*x[46]-7*x[45], 4*x[47]-1*x[46], 2*x[48]-1*x[47], 1*x[49]-8*x[48], 0*x[50]-1*x[49], 0*x[51]-2*x[50], 0*x[52]-0*x[51], 5*x[53]-8*x[52], 0*x[54]-5*x[53], 2*x[55]-9*x[54], 6*x[56]-3*x[55], 1*x[57]-2*x[56], 8*x[58]-5*x[57], 8*x[59]-9*x[58], 2*x[60]-1*x[59], 0*x[61]-5*x[60], 7*x[62]-6*x[61], 1*x[63]-5*x[62], 0*x[64]-3*x[63]]\n",
    "func65(x...) = [2*x[1]-x[2], 6x[2]*5x[1], 3*x[3]-1*x[2], 0*x[4]-6*x[3], 4*x[5]-3*x[4], 1*x[6]-3*x[5], 9*x[7]-4*x[6], 8*x[8]-9*x[7], 0*x[9]-7*x[8], 1*x[10]-5*x[9], 8*x[11]-1*x[10], 7*x[12]-5*x[11], 2*x[13]-2*x[12], 3*x[14]-9*x[13], 8*x[15]-5*x[14], 8*x[16]-0*x[15], 3*x[17]-5*x[16], 0*x[18]-4*x[17], 8*x[19]-3*x[18], 2*x[20]-9*x[19], 3*x[21]-5*x[20], 4*x[22]-6*x[21], 6*x[23]-6*x[22], 8*x[24]-6*x[23], 7*x[25]-0*x[24], 9*x[26]-5*x[25], 9*x[27]-1*x[26], 3*x[28]-0*x[27], 4*x[29]-4*x[28], 7*x[30]-6*x[29], 5*x[31]-3*x[30], 9*x[32]-5*x[31], 0*x[33]-7*x[32], 2*x[34]-3*x[33], 4*x[35]-2*x[34], 2*x[36]-9*x[35], 3*x[37]-2*x[36], 7*x[38]-8*x[37], 3*x[39]-6*x[38], 8*x[40]-6*x[39], 0*x[41]-8*x[40], 1*x[42]-5*x[41], 7*x[43]-8*x[42], 2*x[44]-7*x[43], 7*x[45]-1*x[44], 1*x[46]-7*x[45], 4*x[47]-1*x[46], 2*x[48]-1*x[47], 1*x[49]-8*x[48], 0*x[50]-1*x[49], 0*x[51]-2*x[50], 0*x[52]-0*x[51], 5*x[53]-8*x[52], 0*x[54]-5*x[53], 2*x[55]-9*x[54], 6*x[56]-3*x[55], 1*x[57]-2*x[56], 8*x[58]-5*x[57], 8*x[59]-9*x[58], 2*x[60]-1*x[59], 0*x[61]-5*x[60], 7*x[62]-6*x[61], 1*x[63]-5*x[62], 0*x[64]-3*x[63], 9*x[65]-0*x[64]]\n",
    "func66(x...) = [2*x[1]-x[2], 6x[2]*5x[1], 3*x[3]-1*x[2], 0*x[4]-6*x[3], 4*x[5]-3*x[4], 1*x[6]-3*x[5], 9*x[7]-4*x[6], 8*x[8]-9*x[7], 0*x[9]-7*x[8], 1*x[10]-5*x[9], 8*x[11]-1*x[10], 7*x[12]-5*x[11], 2*x[13]-2*x[12], 3*x[14]-9*x[13], 8*x[15]-5*x[14], 8*x[16]-0*x[15], 3*x[17]-5*x[16], 0*x[18]-4*x[17], 8*x[19]-3*x[18], 2*x[20]-9*x[19], 3*x[21]-5*x[20], 4*x[22]-6*x[21], 6*x[23]-6*x[22], 8*x[24]-6*x[23], 7*x[25]-0*x[24], 9*x[26]-5*x[25], 9*x[27]-1*x[26], 3*x[28]-0*x[27], 4*x[29]-4*x[28], 7*x[30]-6*x[29], 5*x[31]-3*x[30], 9*x[32]-5*x[31], 0*x[33]-7*x[32], 2*x[34]-3*x[33], 4*x[35]-2*x[34], 2*x[36]-9*x[35], 3*x[37]-2*x[36], 7*x[38]-8*x[37], 3*x[39]-6*x[38], 8*x[40]-6*x[39], 0*x[41]-8*x[40], 1*x[42]-5*x[41], 7*x[43]-8*x[42], 2*x[44]-7*x[43], 7*x[45]-1*x[44], 1*x[46]-7*x[45], 4*x[47]-1*x[46], 2*x[48]-1*x[47], 1*x[49]-8*x[48], 0*x[50]-1*x[49], 0*x[51]-2*x[50], 0*x[52]-0*x[51], 5*x[53]-8*x[52], 0*x[54]-5*x[53], 2*x[55]-9*x[54], 6*x[56]-3*x[55], 1*x[57]-2*x[56], 8*x[58]-5*x[57], 8*x[59]-9*x[58], 2*x[60]-1*x[59], 0*x[61]-5*x[60], 7*x[62]-6*x[61], 1*x[63]-5*x[62], 0*x[64]-3*x[63], 9*x[65]-0*x[64], 1*x[66]-4*x[65]]\n",
    "func67(x...) = [2*x[1]-x[2], 6x[2]*5x[1], 3*x[3]-1*x[2], 0*x[4]-6*x[3], 4*x[5]-3*x[4], 1*x[6]-3*x[5], 9*x[7]-4*x[6], 8*x[8]-9*x[7], 0*x[9]-7*x[8], 1*x[10]-5*x[9], 8*x[11]-1*x[10], 7*x[12]-5*x[11], 2*x[13]-2*x[12], 3*x[14]-9*x[13], 8*x[15]-5*x[14], 8*x[16]-0*x[15], 3*x[17]-5*x[16], 0*x[18]-4*x[17], 8*x[19]-3*x[18], 2*x[20]-9*x[19], 3*x[21]-5*x[20], 4*x[22]-6*x[21], 6*x[23]-6*x[22], 8*x[24]-6*x[23], 7*x[25]-0*x[24], 9*x[26]-5*x[25], 9*x[27]-1*x[26], 3*x[28]-0*x[27], 4*x[29]-4*x[28], 7*x[30]-6*x[29], 5*x[31]-3*x[30], 9*x[32]-5*x[31], 0*x[33]-7*x[32], 2*x[34]-3*x[33], 4*x[35]-2*x[34], 2*x[36]-9*x[35], 3*x[37]-2*x[36], 7*x[38]-8*x[37], 3*x[39]-6*x[38], 8*x[40]-6*x[39], 0*x[41]-8*x[40], 1*x[42]-5*x[41], 7*x[43]-8*x[42], 2*x[44]-7*x[43], 7*x[45]-1*x[44], 1*x[46]-7*x[45], 4*x[47]-1*x[46], 2*x[48]-1*x[47], 1*x[49]-8*x[48], 0*x[50]-1*x[49], 0*x[51]-2*x[50], 0*x[52]-0*x[51], 5*x[53]-8*x[52], 0*x[54]-5*x[53], 2*x[55]-9*x[54], 6*x[56]-3*x[55], 1*x[57]-2*x[56], 8*x[58]-5*x[57], 8*x[59]-9*x[58], 2*x[60]-1*x[59], 0*x[61]-5*x[60], 7*x[62]-6*x[61], 1*x[63]-5*x[62], 0*x[64]-3*x[63], 9*x[65]-0*x[64], 1*x[66]-4*x[65], 5*x[67]-9*x[66]]\n",
    "func68(x...) = [2*x[1]-x[2], 6x[2]*5x[1], 3*x[3]-1*x[2], 0*x[4]-6*x[3], 4*x[5]-3*x[4], 1*x[6]-3*x[5], 9*x[7]-4*x[6], 8*x[8]-9*x[7], 0*x[9]-7*x[8], 1*x[10]-5*x[9], 8*x[11]-1*x[10], 7*x[12]-5*x[11], 2*x[13]-2*x[12], 3*x[14]-9*x[13], 8*x[15]-5*x[14], 8*x[16]-0*x[15], 3*x[17]-5*x[16], 0*x[18]-4*x[17], 8*x[19]-3*x[18], 2*x[20]-9*x[19], 3*x[21]-5*x[20], 4*x[22]-6*x[21], 6*x[23]-6*x[22], 8*x[24]-6*x[23], 7*x[25]-0*x[24], 9*x[26]-5*x[25], 9*x[27]-1*x[26], 3*x[28]-0*x[27], 4*x[29]-4*x[28], 7*x[30]-6*x[29], 5*x[31]-3*x[30], 9*x[32]-5*x[31], 0*x[33]-7*x[32], 2*x[34]-3*x[33], 4*x[35]-2*x[34], 2*x[36]-9*x[35], 3*x[37]-2*x[36], 7*x[38]-8*x[37], 3*x[39]-6*x[38], 8*x[40]-6*x[39], 0*x[41]-8*x[40], 1*x[42]-5*x[41], 7*x[43]-8*x[42], 2*x[44]-7*x[43], 7*x[45]-1*x[44], 1*x[46]-7*x[45], 4*x[47]-1*x[46], 2*x[48]-1*x[47], 1*x[49]-8*x[48], 0*x[50]-1*x[49], 0*x[51]-2*x[50], 0*x[52]-0*x[51], 5*x[53]-8*x[52], 0*x[54]-5*x[53], 2*x[55]-9*x[54], 6*x[56]-3*x[55], 1*x[57]-2*x[56], 8*x[58]-5*x[57], 8*x[59]-9*x[58], 2*x[60]-1*x[59], 0*x[61]-5*x[60], 7*x[62]-6*x[61], 1*x[63]-5*x[62], 0*x[64]-3*x[63], 9*x[65]-0*x[64], 1*x[66]-4*x[65], 5*x[67]-9*x[66], 7*x[68]-6*x[67]]\n",
    "func69(x...) = [2*x[1]-x[2], 6x[2]*5x[1], 3*x[3]-1*x[2], 0*x[4]-6*x[3], 4*x[5]-3*x[4], 1*x[6]-3*x[5], 9*x[7]-4*x[6], 8*x[8]-9*x[7], 0*x[9]-7*x[8], 1*x[10]-5*x[9], 8*x[11]-1*x[10], 7*x[12]-5*x[11], 2*x[13]-2*x[12], 3*x[14]-9*x[13], 8*x[15]-5*x[14], 8*x[16]-0*x[15], 3*x[17]-5*x[16], 0*x[18]-4*x[17], 8*x[19]-3*x[18], 2*x[20]-9*x[19], 3*x[21]-5*x[20], 4*x[22]-6*x[21], 6*x[23]-6*x[22], 8*x[24]-6*x[23], 7*x[25]-0*x[24], 9*x[26]-5*x[25], 9*x[27]-1*x[26], 3*x[28]-0*x[27], 4*x[29]-4*x[28], 7*x[30]-6*x[29], 5*x[31]-3*x[30], 9*x[32]-5*x[31], 0*x[33]-7*x[32], 2*x[34]-3*x[33], 4*x[35]-2*x[34], 2*x[36]-9*x[35], 3*x[37]-2*x[36], 7*x[38]-8*x[37], 3*x[39]-6*x[38], 8*x[40]-6*x[39], 0*x[41]-8*x[40], 1*x[42]-5*x[41], 7*x[43]-8*x[42], 2*x[44]-7*x[43], 7*x[45]-1*x[44], 1*x[46]-7*x[45], 4*x[47]-1*x[46], 2*x[48]-1*x[47], 1*x[49]-8*x[48], 0*x[50]-1*x[49], 0*x[51]-2*x[50], 0*x[52]-0*x[51], 5*x[53]-8*x[52], 0*x[54]-5*x[53], 2*x[55]-9*x[54], 6*x[56]-3*x[55], 1*x[57]-2*x[56], 8*x[58]-5*x[57], 8*x[59]-9*x[58], 2*x[60]-1*x[59], 0*x[61]-5*x[60], 7*x[62]-6*x[61], 1*x[63]-5*x[62], 0*x[64]-3*x[63], 9*x[65]-0*x[64], 1*x[66]-4*x[65], 5*x[67]-9*x[66], 7*x[68]-6*x[67], 6*x[69]-8*x[68]]\n",
    "func70(x...) = [2*x[1]-x[2], 6x[2]*5x[1], 3*x[3]-1*x[2], 0*x[4]-6*x[3], 4*x[5]-3*x[4], 1*x[6]-3*x[5], 9*x[7]-4*x[6], 8*x[8]-9*x[7], 0*x[9]-7*x[8], 1*x[10]-5*x[9], 8*x[11]-1*x[10], 7*x[12]-5*x[11], 2*x[13]-2*x[12], 3*x[14]-9*x[13], 8*x[15]-5*x[14], 8*x[16]-0*x[15], 3*x[17]-5*x[16], 0*x[18]-4*x[17], 8*x[19]-3*x[18], 2*x[20]-9*x[19], 3*x[21]-5*x[20], 4*x[22]-6*x[21], 6*x[23]-6*x[22], 8*x[24]-6*x[23], 7*x[25]-0*x[24], 9*x[26]-5*x[25], 9*x[27]-1*x[26], 3*x[28]-0*x[27], 4*x[29]-4*x[28], 7*x[30]-6*x[29], 5*x[31]-3*x[30], 9*x[32]-5*x[31], 0*x[33]-7*x[32], 2*x[34]-3*x[33], 4*x[35]-2*x[34], 2*x[36]-9*x[35], 3*x[37]-2*x[36], 7*x[38]-8*x[37], 3*x[39]-6*x[38], 8*x[40]-6*x[39], 0*x[41]-8*x[40], 1*x[42]-5*x[41], 7*x[43]-8*x[42], 2*x[44]-7*x[43], 7*x[45]-1*x[44], 1*x[46]-7*x[45], 4*x[47]-1*x[46], 2*x[48]-1*x[47], 1*x[49]-8*x[48], 0*x[50]-1*x[49], 0*x[51]-2*x[50], 0*x[52]-0*x[51], 5*x[53]-8*x[52], 0*x[54]-5*x[53], 2*x[55]-9*x[54], 6*x[56]-3*x[55], 1*x[57]-2*x[56], 8*x[58]-5*x[57], 8*x[59]-9*x[58], 2*x[60]-1*x[59], 0*x[61]-5*x[60], 7*x[62]-6*x[61], 1*x[63]-5*x[62], 0*x[64]-3*x[63], 9*x[65]-0*x[64], 1*x[66]-4*x[65], 5*x[67]-9*x[66], 7*x[68]-6*x[67], 6*x[69]-8*x[68], 3*x[70]-0*x[69]]\n",
    "func71(x...) = [2*x[1]-x[2], 6x[2]*5x[1], 3*x[3]-1*x[2], 0*x[4]-6*x[3], 4*x[5]-3*x[4], 1*x[6]-3*x[5], 9*x[7]-4*x[6], 8*x[8]-9*x[7], 0*x[9]-7*x[8], 1*x[10]-5*x[9], 8*x[11]-1*x[10], 7*x[12]-5*x[11], 2*x[13]-2*x[12], 3*x[14]-9*x[13], 8*x[15]-5*x[14], 8*x[16]-0*x[15], 3*x[17]-5*x[16], 0*x[18]-4*x[17], 8*x[19]-3*x[18], 2*x[20]-9*x[19], 3*x[21]-5*x[20], 4*x[22]-6*x[21], 6*x[23]-6*x[22], 8*x[24]-6*x[23], 7*x[25]-0*x[24], 9*x[26]-5*x[25], 9*x[27]-1*x[26], 3*x[28]-0*x[27], 4*x[29]-4*x[28], 7*x[30]-6*x[29], 5*x[31]-3*x[30], 9*x[32]-5*x[31], 0*x[33]-7*x[32], 2*x[34]-3*x[33], 4*x[35]-2*x[34], 2*x[36]-9*x[35], 3*x[37]-2*x[36], 7*x[38]-8*x[37], 3*x[39]-6*x[38], 8*x[40]-6*x[39], 0*x[41]-8*x[40], 1*x[42]-5*x[41], 7*x[43]-8*x[42], 2*x[44]-7*x[43], 7*x[45]-1*x[44], 1*x[46]-7*x[45], 4*x[47]-1*x[46], 2*x[48]-1*x[47], 1*x[49]-8*x[48], 0*x[50]-1*x[49], 0*x[51]-2*x[50], 0*x[52]-0*x[51], 5*x[53]-8*x[52], 0*x[54]-5*x[53], 2*x[55]-9*x[54], 6*x[56]-3*x[55], 1*x[57]-2*x[56], 8*x[58]-5*x[57], 8*x[59]-9*x[58], 2*x[60]-1*x[59], 0*x[61]-5*x[60], 7*x[62]-6*x[61], 1*x[63]-5*x[62], 0*x[64]-3*x[63], 9*x[65]-0*x[64], 1*x[66]-4*x[65], 5*x[67]-9*x[66], 7*x[68]-6*x[67], 6*x[69]-8*x[68], 3*x[70]-0*x[69], 1*x[71]-9*x[70]]\n",
    "func72(x...) = [2*x[1]-x[2], 6x[2]*5x[1], 3*x[3]-1*x[2], 0*x[4]-6*x[3], 4*x[5]-3*x[4], 1*x[6]-3*x[5], 9*x[7]-4*x[6], 8*x[8]-9*x[7], 0*x[9]-7*x[8], 1*x[10]-5*x[9], 8*x[11]-1*x[10], 7*x[12]-5*x[11], 2*x[13]-2*x[12], 3*x[14]-9*x[13], 8*x[15]-5*x[14], 8*x[16]-0*x[15], 3*x[17]-5*x[16], 0*x[18]-4*x[17], 8*x[19]-3*x[18], 2*x[20]-9*x[19], 3*x[21]-5*x[20], 4*x[22]-6*x[21], 6*x[23]-6*x[22], 8*x[24]-6*x[23], 7*x[25]-0*x[24], 9*x[26]-5*x[25], 9*x[27]-1*x[26], 3*x[28]-0*x[27], 4*x[29]-4*x[28], 7*x[30]-6*x[29], 5*x[31]-3*x[30], 9*x[32]-5*x[31], 0*x[33]-7*x[32], 2*x[34]-3*x[33], 4*x[35]-2*x[34], 2*x[36]-9*x[35], 3*x[37]-2*x[36], 7*x[38]-8*x[37], 3*x[39]-6*x[38], 8*x[40]-6*x[39], 0*x[41]-8*x[40], 1*x[42]-5*x[41], 7*x[43]-8*x[42], 2*x[44]-7*x[43], 7*x[45]-1*x[44], 1*x[46]-7*x[45], 4*x[47]-1*x[46], 2*x[48]-1*x[47], 1*x[49]-8*x[48], 0*x[50]-1*x[49], 0*x[51]-2*x[50], 0*x[52]-0*x[51], 5*x[53]-8*x[52], 0*x[54]-5*x[53], 2*x[55]-9*x[54], 6*x[56]-3*x[55], 1*x[57]-2*x[56], 8*x[58]-5*x[57], 8*x[59]-9*x[58], 2*x[60]-1*x[59], 0*x[61]-5*x[60], 7*x[62]-6*x[61], 1*x[63]-5*x[62], 0*x[64]-3*x[63], 9*x[65]-0*x[64], 1*x[66]-4*x[65], 5*x[67]-9*x[66], 7*x[68]-6*x[67], 6*x[69]-8*x[68], 3*x[70]-0*x[69], 1*x[71]-9*x[70], 2*x[72]-2*x[71]]\n",
    "func73(x...) = [2*x[1]-x[2], 6x[2]*5x[1], 3*x[3]-1*x[2], 0*x[4]-6*x[3], 4*x[5]-3*x[4], 1*x[6]-3*x[5], 9*x[7]-4*x[6], 8*x[8]-9*x[7], 0*x[9]-7*x[8], 1*x[10]-5*x[9], 8*x[11]-1*x[10], 7*x[12]-5*x[11], 2*x[13]-2*x[12], 3*x[14]-9*x[13], 8*x[15]-5*x[14], 8*x[16]-0*x[15], 3*x[17]-5*x[16], 0*x[18]-4*x[17], 8*x[19]-3*x[18], 2*x[20]-9*x[19], 3*x[21]-5*x[20], 4*x[22]-6*x[21], 6*x[23]-6*x[22], 8*x[24]-6*x[23], 7*x[25]-0*x[24], 9*x[26]-5*x[25], 9*x[27]-1*x[26], 3*x[28]-0*x[27], 4*x[29]-4*x[28], 7*x[30]-6*x[29], 5*x[31]-3*x[30], 9*x[32]-5*x[31], 0*x[33]-7*x[32], 2*x[34]-3*x[33], 4*x[35]-2*x[34], 2*x[36]-9*x[35], 3*x[37]-2*x[36], 7*x[38]-8*x[37], 3*x[39]-6*x[38], 8*x[40]-6*x[39], 0*x[41]-8*x[40], 1*x[42]-5*x[41], 7*x[43]-8*x[42], 2*x[44]-7*x[43], 7*x[45]-1*x[44], 1*x[46]-7*x[45], 4*x[47]-1*x[46], 2*x[48]-1*x[47], 1*x[49]-8*x[48], 0*x[50]-1*x[49], 0*x[51]-2*x[50], 0*x[52]-0*x[51], 5*x[53]-8*x[52], 0*x[54]-5*x[53], 2*x[55]-9*x[54], 6*x[56]-3*x[55], 1*x[57]-2*x[56], 8*x[58]-5*x[57], 8*x[59]-9*x[58], 2*x[60]-1*x[59], 0*x[61]-5*x[60], 7*x[62]-6*x[61], 1*x[63]-5*x[62], 0*x[64]-3*x[63], 9*x[65]-0*x[64], 1*x[66]-4*x[65], 5*x[67]-9*x[66], 7*x[68]-6*x[67], 6*x[69]-8*x[68], 3*x[70]-0*x[69], 1*x[71]-9*x[70], 2*x[72]-2*x[71], 6*x[73]-7*x[72]]\n",
    "func74(x...) = [2*x[1]-x[2], 6x[2]*5x[1], 3*x[3]-1*x[2], 0*x[4]-6*x[3], 4*x[5]-3*x[4], 1*x[6]-3*x[5], 9*x[7]-4*x[6], 8*x[8]-9*x[7], 0*x[9]-7*x[8], 1*x[10]-5*x[9], 8*x[11]-1*x[10], 7*x[12]-5*x[11], 2*x[13]-2*x[12], 3*x[14]-9*x[13], 8*x[15]-5*x[14], 8*x[16]-0*x[15], 3*x[17]-5*x[16], 0*x[18]-4*x[17], 8*x[19]-3*x[18], 2*x[20]-9*x[19], 3*x[21]-5*x[20], 4*x[22]-6*x[21], 6*x[23]-6*x[22], 8*x[24]-6*x[23], 7*x[25]-0*x[24], 9*x[26]-5*x[25], 9*x[27]-1*x[26], 3*x[28]-0*x[27], 4*x[29]-4*x[28], 7*x[30]-6*x[29], 5*x[31]-3*x[30], 9*x[32]-5*x[31], 0*x[33]-7*x[32], 2*x[34]-3*x[33], 4*x[35]-2*x[34], 2*x[36]-9*x[35], 3*x[37]-2*x[36], 7*x[38]-8*x[37], 3*x[39]-6*x[38], 8*x[40]-6*x[39], 0*x[41]-8*x[40], 1*x[42]-5*x[41], 7*x[43]-8*x[42], 2*x[44]-7*x[43], 7*x[45]-1*x[44], 1*x[46]-7*x[45], 4*x[47]-1*x[46], 2*x[48]-1*x[47], 1*x[49]-8*x[48], 0*x[50]-1*x[49], 0*x[51]-2*x[50], 0*x[52]-0*x[51], 5*x[53]-8*x[52], 0*x[54]-5*x[53], 2*x[55]-9*x[54], 6*x[56]-3*x[55], 1*x[57]-2*x[56], 8*x[58]-5*x[57], 8*x[59]-9*x[58], 2*x[60]-1*x[59], 0*x[61]-5*x[60], 7*x[62]-6*x[61], 1*x[63]-5*x[62], 0*x[64]-3*x[63], 9*x[65]-0*x[64], 1*x[66]-4*x[65], 5*x[67]-9*x[66], 7*x[68]-6*x[67], 6*x[69]-8*x[68], 3*x[70]-0*x[69], 1*x[71]-9*x[70], 2*x[72]-2*x[71], 6*x[73]-7*x[72], 9*x[74]-5*x[73]]\n",
    "func75(x...) = [2*x[1]-x[2], 6x[2]*5x[1], 3*x[3]-1*x[2], 0*x[4]-6*x[3], 4*x[5]-3*x[4], 1*x[6]-3*x[5], 9*x[7]-4*x[6], 8*x[8]-9*x[7], 0*x[9]-7*x[8], 1*x[10]-5*x[9], 8*x[11]-1*x[10], 7*x[12]-5*x[11], 2*x[13]-2*x[12], 3*x[14]-9*x[13], 8*x[15]-5*x[14], 8*x[16]-0*x[15], 3*x[17]-5*x[16], 0*x[18]-4*x[17], 8*x[19]-3*x[18], 2*x[20]-9*x[19], 3*x[21]-5*x[20], 4*x[22]-6*x[21], 6*x[23]-6*x[22], 8*x[24]-6*x[23], 7*x[25]-0*x[24], 9*x[26]-5*x[25], 9*x[27]-1*x[26], 3*x[28]-0*x[27], 4*x[29]-4*x[28], 7*x[30]-6*x[29], 5*x[31]-3*x[30], 9*x[32]-5*x[31], 0*x[33]-7*x[32], 2*x[34]-3*x[33], 4*x[35]-2*x[34], 2*x[36]-9*x[35], 3*x[37]-2*x[36], 7*x[38]-8*x[37], 3*x[39]-6*x[38], 8*x[40]-6*x[39], 0*x[41]-8*x[40], 1*x[42]-5*x[41], 7*x[43]-8*x[42], 2*x[44]-7*x[43], 7*x[45]-1*x[44], 1*x[46]-7*x[45], 4*x[47]-1*x[46], 2*x[48]-1*x[47], 1*x[49]-8*x[48], 0*x[50]-1*x[49], 0*x[51]-2*x[50], 0*x[52]-0*x[51], 5*x[53]-8*x[52], 0*x[54]-5*x[53], 2*x[55]-9*x[54], 6*x[56]-3*x[55], 1*x[57]-2*x[56], 8*x[58]-5*x[57], 8*x[59]-9*x[58], 2*x[60]-1*x[59], 0*x[61]-5*x[60], 7*x[62]-6*x[61], 1*x[63]-5*x[62], 0*x[64]-3*x[63], 9*x[65]-0*x[64], 1*x[66]-4*x[65], 5*x[67]-9*x[66], 7*x[68]-6*x[67], 6*x[69]-8*x[68], 3*x[70]-0*x[69], 1*x[71]-9*x[70], 2*x[72]-2*x[71], 6*x[73]-7*x[72], 9*x[74]-5*x[73], 3*x[75]-4*x[74]]\n",
    "func76(x...) = [2*x[1]-x[2], 6x[2]*5x[1], 3*x[3]-1*x[2], 0*x[4]-6*x[3], 4*x[5]-3*x[4], 1*x[6]-3*x[5], 9*x[7]-4*x[6], 8*x[8]-9*x[7], 0*x[9]-7*x[8], 1*x[10]-5*x[9], 8*x[11]-1*x[10], 7*x[12]-5*x[11], 2*x[13]-2*x[12], 3*x[14]-9*x[13], 8*x[15]-5*x[14], 8*x[16]-0*x[15], 3*x[17]-5*x[16], 0*x[18]-4*x[17], 8*x[19]-3*x[18], 2*x[20]-9*x[19], 3*x[21]-5*x[20], 4*x[22]-6*x[21], 6*x[23]-6*x[22], 8*x[24]-6*x[23], 7*x[25]-0*x[24], 9*x[26]-5*x[25], 9*x[27]-1*x[26], 3*x[28]-0*x[27], 4*x[29]-4*x[28], 7*x[30]-6*x[29], 5*x[31]-3*x[30], 9*x[32]-5*x[31], 0*x[33]-7*x[32], 2*x[34]-3*x[33], 4*x[35]-2*x[34], 2*x[36]-9*x[35], 3*x[37]-2*x[36], 7*x[38]-8*x[37], 3*x[39]-6*x[38], 8*x[40]-6*x[39], 0*x[41]-8*x[40], 1*x[42]-5*x[41], 7*x[43]-8*x[42], 2*x[44]-7*x[43], 7*x[45]-1*x[44], 1*x[46]-7*x[45], 4*x[47]-1*x[46], 2*x[48]-1*x[47], 1*x[49]-8*x[48], 0*x[50]-1*x[49], 0*x[51]-2*x[50], 0*x[52]-0*x[51], 5*x[53]-8*x[52], 0*x[54]-5*x[53], 2*x[55]-9*x[54], 6*x[56]-3*x[55], 1*x[57]-2*x[56], 8*x[58]-5*x[57], 8*x[59]-9*x[58], 2*x[60]-1*x[59], 0*x[61]-5*x[60], 7*x[62]-6*x[61], 1*x[63]-5*x[62], 0*x[64]-3*x[63], 9*x[65]-0*x[64], 1*x[66]-4*x[65], 5*x[67]-9*x[66], 7*x[68]-6*x[67], 6*x[69]-8*x[68], 3*x[70]-0*x[69], 1*x[71]-9*x[70], 2*x[72]-2*x[71], 6*x[73]-7*x[72], 9*x[74]-5*x[73], 3*x[75]-4*x[74], 4*x[76]-3*x[75]]\n",
    "func77(x...) = [2*x[1]-x[2], 6x[2]*5x[1], 3*x[3]-1*x[2], 0*x[4]-6*x[3], 4*x[5]-3*x[4], 1*x[6]-3*x[5], 9*x[7]-4*x[6], 8*x[8]-9*x[7], 0*x[9]-7*x[8], 1*x[10]-5*x[9], 8*x[11]-1*x[10], 7*x[12]-5*x[11], 2*x[13]-2*x[12], 3*x[14]-9*x[13], 8*x[15]-5*x[14], 8*x[16]-0*x[15], 3*x[17]-5*x[16], 0*x[18]-4*x[17], 8*x[19]-3*x[18], 2*x[20]-9*x[19], 3*x[21]-5*x[20], 4*x[22]-6*x[21], 6*x[23]-6*x[22], 8*x[24]-6*x[23], 7*x[25]-0*x[24], 9*x[26]-5*x[25], 9*x[27]-1*x[26], 3*x[28]-0*x[27], 4*x[29]-4*x[28], 7*x[30]-6*x[29], 5*x[31]-3*x[30], 9*x[32]-5*x[31], 0*x[33]-7*x[32], 2*x[34]-3*x[33], 4*x[35]-2*x[34], 2*x[36]-9*x[35], 3*x[37]-2*x[36], 7*x[38]-8*x[37], 3*x[39]-6*x[38], 8*x[40]-6*x[39], 0*x[41]-8*x[40], 1*x[42]-5*x[41], 7*x[43]-8*x[42], 2*x[44]-7*x[43], 7*x[45]-1*x[44], 1*x[46]-7*x[45], 4*x[47]-1*x[46], 2*x[48]-1*x[47], 1*x[49]-8*x[48], 0*x[50]-1*x[49], 0*x[51]-2*x[50], 0*x[52]-0*x[51], 5*x[53]-8*x[52], 0*x[54]-5*x[53], 2*x[55]-9*x[54], 6*x[56]-3*x[55], 1*x[57]-2*x[56], 8*x[58]-5*x[57], 8*x[59]-9*x[58], 2*x[60]-1*x[59], 0*x[61]-5*x[60], 7*x[62]-6*x[61], 1*x[63]-5*x[62], 0*x[64]-3*x[63], 9*x[65]-0*x[64], 1*x[66]-4*x[65], 5*x[67]-9*x[66], 7*x[68]-6*x[67], 6*x[69]-8*x[68], 3*x[70]-0*x[69], 1*x[71]-9*x[70], 2*x[72]-2*x[71], 6*x[73]-7*x[72], 9*x[74]-5*x[73], 3*x[75]-4*x[74], 4*x[76]-3*x[75], 3*x[77]-1*x[76]]\n",
    "func78(x...) = [2*x[1]-x[2], 6x[2]*5x[1], 3*x[3]-1*x[2], 0*x[4]-6*x[3], 4*x[5]-3*x[4], 1*x[6]-3*x[5], 9*x[7]-4*x[6], 8*x[8]-9*x[7], 0*x[9]-7*x[8], 1*x[10]-5*x[9], 8*x[11]-1*x[10], 7*x[12]-5*x[11], 2*x[13]-2*x[12], 3*x[14]-9*x[13], 8*x[15]-5*x[14], 8*x[16]-0*x[15], 3*x[17]-5*x[16], 0*x[18]-4*x[17], 8*x[19]-3*x[18], 2*x[20]-9*x[19], 3*x[21]-5*x[20], 4*x[22]-6*x[21], 6*x[23]-6*x[22], 8*x[24]-6*x[23], 7*x[25]-0*x[24], 9*x[26]-5*x[25], 9*x[27]-1*x[26], 3*x[28]-0*x[27], 4*x[29]-4*x[28], 7*x[30]-6*x[29], 5*x[31]-3*x[30], 9*x[32]-5*x[31], 0*x[33]-7*x[32], 2*x[34]-3*x[33], 4*x[35]-2*x[34], 2*x[36]-9*x[35], 3*x[37]-2*x[36], 7*x[38]-8*x[37], 3*x[39]-6*x[38], 8*x[40]-6*x[39], 0*x[41]-8*x[40], 1*x[42]-5*x[41], 7*x[43]-8*x[42], 2*x[44]-7*x[43], 7*x[45]-1*x[44], 1*x[46]-7*x[45], 4*x[47]-1*x[46], 2*x[48]-1*x[47], 1*x[49]-8*x[48], 0*x[50]-1*x[49], 0*x[51]-2*x[50], 0*x[52]-0*x[51], 5*x[53]-8*x[52], 0*x[54]-5*x[53], 2*x[55]-9*x[54], 6*x[56]-3*x[55], 1*x[57]-2*x[56], 8*x[58]-5*x[57], 8*x[59]-9*x[58], 2*x[60]-1*x[59], 0*x[61]-5*x[60], 7*x[62]-6*x[61], 1*x[63]-5*x[62], 0*x[64]-3*x[63], 9*x[65]-0*x[64], 1*x[66]-4*x[65], 5*x[67]-9*x[66], 7*x[68]-6*x[67], 6*x[69]-8*x[68], 3*x[70]-0*x[69], 1*x[71]-9*x[70], 2*x[72]-2*x[71], 6*x[73]-7*x[72], 9*x[74]-5*x[73], 3*x[75]-4*x[74], 4*x[76]-3*x[75], 3*x[77]-1*x[76], 3*x[78]-2*x[77]]\n",
    "func79(x...) = [2*x[1]-x[2], 6x[2]*5x[1], 3*x[3]-1*x[2], 0*x[4]-6*x[3], 4*x[5]-3*x[4], 1*x[6]-3*x[5], 9*x[7]-4*x[6], 8*x[8]-9*x[7], 0*x[9]-7*x[8], 1*x[10]-5*x[9], 8*x[11]-1*x[10], 7*x[12]-5*x[11], 2*x[13]-2*x[12], 3*x[14]-9*x[13], 8*x[15]-5*x[14], 8*x[16]-0*x[15], 3*x[17]-5*x[16], 0*x[18]-4*x[17], 8*x[19]-3*x[18], 2*x[20]-9*x[19], 3*x[21]-5*x[20], 4*x[22]-6*x[21], 6*x[23]-6*x[22], 8*x[24]-6*x[23], 7*x[25]-0*x[24], 9*x[26]-5*x[25], 9*x[27]-1*x[26], 3*x[28]-0*x[27], 4*x[29]-4*x[28], 7*x[30]-6*x[29], 5*x[31]-3*x[30], 9*x[32]-5*x[31], 0*x[33]-7*x[32], 2*x[34]-3*x[33], 4*x[35]-2*x[34], 2*x[36]-9*x[35], 3*x[37]-2*x[36], 7*x[38]-8*x[37], 3*x[39]-6*x[38], 8*x[40]-6*x[39], 0*x[41]-8*x[40], 1*x[42]-5*x[41], 7*x[43]-8*x[42], 2*x[44]-7*x[43], 7*x[45]-1*x[44], 1*x[46]-7*x[45], 4*x[47]-1*x[46], 2*x[48]-1*x[47], 1*x[49]-8*x[48], 0*x[50]-1*x[49], 0*x[51]-2*x[50], 0*x[52]-0*x[51], 5*x[53]-8*x[52], 0*x[54]-5*x[53], 2*x[55]-9*x[54], 6*x[56]-3*x[55], 1*x[57]-2*x[56], 8*x[58]-5*x[57], 8*x[59]-9*x[58], 2*x[60]-1*x[59], 0*x[61]-5*x[60], 7*x[62]-6*x[61], 1*x[63]-5*x[62], 0*x[64]-3*x[63], 9*x[65]-0*x[64], 1*x[66]-4*x[65], 5*x[67]-9*x[66], 7*x[68]-6*x[67], 6*x[69]-8*x[68], 3*x[70]-0*x[69], 1*x[71]-9*x[70], 2*x[72]-2*x[71], 6*x[73]-7*x[72], 9*x[74]-5*x[73], 3*x[75]-4*x[74], 4*x[76]-3*x[75], 3*x[77]-1*x[76], 3*x[78]-2*x[77], 8*x[79]-6*x[78]]\n",
    "func80(x...) = [2*x[1]-x[2], 6x[2]*5x[1], 3*x[3]-1*x[2], 0*x[4]-6*x[3], 4*x[5]-3*x[4], 1*x[6]-3*x[5], 9*x[7]-4*x[6], 8*x[8]-9*x[7], 0*x[9]-7*x[8], 1*x[10]-5*x[9], 8*x[11]-1*x[10], 7*x[12]-5*x[11], 2*x[13]-2*x[12], 3*x[14]-9*x[13], 8*x[15]-5*x[14], 8*x[16]-0*x[15], 3*x[17]-5*x[16], 0*x[18]-4*x[17], 8*x[19]-3*x[18], 2*x[20]-9*x[19], 3*x[21]-5*x[20], 4*x[22]-6*x[21], 6*x[23]-6*x[22], 8*x[24]-6*x[23], 7*x[25]-0*x[24], 9*x[26]-5*x[25], 9*x[27]-1*x[26], 3*x[28]-0*x[27], 4*x[29]-4*x[28], 7*x[30]-6*x[29], 5*x[31]-3*x[30], 9*x[32]-5*x[31], 0*x[33]-7*x[32], 2*x[34]-3*x[33], 4*x[35]-2*x[34], 2*x[36]-9*x[35], 3*x[37]-2*x[36], 7*x[38]-8*x[37], 3*x[39]-6*x[38], 8*x[40]-6*x[39], 0*x[41]-8*x[40], 1*x[42]-5*x[41], 7*x[43]-8*x[42], 2*x[44]-7*x[43], 7*x[45]-1*x[44], 1*x[46]-7*x[45], 4*x[47]-1*x[46], 2*x[48]-1*x[47], 1*x[49]-8*x[48], 0*x[50]-1*x[49], 0*x[51]-2*x[50], 0*x[52]-0*x[51], 5*x[53]-8*x[52], 0*x[54]-5*x[53], 2*x[55]-9*x[54], 6*x[56]-3*x[55], 1*x[57]-2*x[56], 8*x[58]-5*x[57], 8*x[59]-9*x[58], 2*x[60]-1*x[59], 0*x[61]-5*x[60], 7*x[62]-6*x[61], 1*x[63]-5*x[62], 0*x[64]-3*x[63], 9*x[65]-0*x[64], 1*x[66]-4*x[65], 5*x[67]-9*x[66], 7*x[68]-6*x[67], 6*x[69]-8*x[68], 3*x[70]-0*x[69], 1*x[71]-9*x[70], 2*x[72]-2*x[71], 6*x[73]-7*x[72], 9*x[74]-5*x[73], 3*x[75]-4*x[74], 4*x[76]-3*x[75], 3*x[77]-1*x[76], 3*x[78]-2*x[77], 8*x[79]-6*x[78], 2*x[80]-4*x[79]]\n",
    "func81(x...) = [2*x[1]-x[2], 6x[2]*5x[1], 3*x[3]-1*x[2], 0*x[4]-6*x[3], 4*x[5]-3*x[4], 1*x[6]-3*x[5], 9*x[7]-4*x[6], 8*x[8]-9*x[7], 0*x[9]-7*x[8], 1*x[10]-5*x[9], 8*x[11]-1*x[10], 7*x[12]-5*x[11], 2*x[13]-2*x[12], 3*x[14]-9*x[13], 8*x[15]-5*x[14], 8*x[16]-0*x[15], 3*x[17]-5*x[16], 0*x[18]-4*x[17], 8*x[19]-3*x[18], 2*x[20]-9*x[19], 3*x[21]-5*x[20], 4*x[22]-6*x[21], 6*x[23]-6*x[22], 8*x[24]-6*x[23], 7*x[25]-0*x[24], 9*x[26]-5*x[25], 9*x[27]-1*x[26], 3*x[28]-0*x[27], 4*x[29]-4*x[28], 7*x[30]-6*x[29], 5*x[31]-3*x[30], 9*x[32]-5*x[31], 0*x[33]-7*x[32], 2*x[34]-3*x[33], 4*x[35]-2*x[34], 2*x[36]-9*x[35], 3*x[37]-2*x[36], 7*x[38]-8*x[37], 3*x[39]-6*x[38], 8*x[40]-6*x[39], 0*x[41]-8*x[40], 1*x[42]-5*x[41], 7*x[43]-8*x[42], 2*x[44]-7*x[43], 7*x[45]-1*x[44], 1*x[46]-7*x[45], 4*x[47]-1*x[46], 2*x[48]-1*x[47], 1*x[49]-8*x[48], 0*x[50]-1*x[49], 0*x[51]-2*x[50], 0*x[52]-0*x[51], 5*x[53]-8*x[52], 0*x[54]-5*x[53], 2*x[55]-9*x[54], 6*x[56]-3*x[55], 1*x[57]-2*x[56], 8*x[58]-5*x[57], 8*x[59]-9*x[58], 2*x[60]-1*x[59], 0*x[61]-5*x[60], 7*x[62]-6*x[61], 1*x[63]-5*x[62], 0*x[64]-3*x[63], 9*x[65]-0*x[64], 1*x[66]-4*x[65], 5*x[67]-9*x[66], 7*x[68]-6*x[67], 6*x[69]-8*x[68], 3*x[70]-0*x[69], 1*x[71]-9*x[70], 2*x[72]-2*x[71], 6*x[73]-7*x[72], 9*x[74]-5*x[73], 3*x[75]-4*x[74], 4*x[76]-3*x[75], 3*x[77]-1*x[76], 3*x[78]-2*x[77], 8*x[79]-6*x[78], 2*x[80]-4*x[79], 7*x[81]-1*x[80]]\n",
    "func82(x...) = [2*x[1]-x[2], 6x[2]*5x[1], 3*x[3]-1*x[2], 0*x[4]-6*x[3], 4*x[5]-3*x[4], 1*x[6]-3*x[5], 9*x[7]-4*x[6], 8*x[8]-9*x[7], 0*x[9]-7*x[8], 1*x[10]-5*x[9], 8*x[11]-1*x[10], 7*x[12]-5*x[11], 2*x[13]-2*x[12], 3*x[14]-9*x[13], 8*x[15]-5*x[14], 8*x[16]-0*x[15], 3*x[17]-5*x[16], 0*x[18]-4*x[17], 8*x[19]-3*x[18], 2*x[20]-9*x[19], 3*x[21]-5*x[20], 4*x[22]-6*x[21], 6*x[23]-6*x[22], 8*x[24]-6*x[23], 7*x[25]-0*x[24], 9*x[26]-5*x[25], 9*x[27]-1*x[26], 3*x[28]-0*x[27], 4*x[29]-4*x[28], 7*x[30]-6*x[29], 5*x[31]-3*x[30], 9*x[32]-5*x[31], 0*x[33]-7*x[32], 2*x[34]-3*x[33], 4*x[35]-2*x[34], 2*x[36]-9*x[35], 3*x[37]-2*x[36], 7*x[38]-8*x[37], 3*x[39]-6*x[38], 8*x[40]-6*x[39], 0*x[41]-8*x[40], 1*x[42]-5*x[41], 7*x[43]-8*x[42], 2*x[44]-7*x[43], 7*x[45]-1*x[44], 1*x[46]-7*x[45], 4*x[47]-1*x[46], 2*x[48]-1*x[47], 1*x[49]-8*x[48], 0*x[50]-1*x[49], 0*x[51]-2*x[50], 0*x[52]-0*x[51], 5*x[53]-8*x[52], 0*x[54]-5*x[53], 2*x[55]-9*x[54], 6*x[56]-3*x[55], 1*x[57]-2*x[56], 8*x[58]-5*x[57], 8*x[59]-9*x[58], 2*x[60]-1*x[59], 0*x[61]-5*x[60], 7*x[62]-6*x[61], 1*x[63]-5*x[62], 0*x[64]-3*x[63], 9*x[65]-0*x[64], 1*x[66]-4*x[65], 5*x[67]-9*x[66], 7*x[68]-6*x[67], 6*x[69]-8*x[68], 3*x[70]-0*x[69], 1*x[71]-9*x[70], 2*x[72]-2*x[71], 6*x[73]-7*x[72], 9*x[74]-5*x[73], 3*x[75]-4*x[74], 4*x[76]-3*x[75], 3*x[77]-1*x[76], 3*x[78]-2*x[77], 8*x[79]-6*x[78], 2*x[80]-4*x[79], 7*x[81]-1*x[80], 2*x[82]-3*x[81]]\n",
    "func83(x...) = [2*x[1]-x[2], 6x[2]*5x[1], 3*x[3]-1*x[2], 0*x[4]-6*x[3], 4*x[5]-3*x[4], 1*x[6]-3*x[5], 9*x[7]-4*x[6], 8*x[8]-9*x[7], 0*x[9]-7*x[8], 1*x[10]-5*x[9], 8*x[11]-1*x[10], 7*x[12]-5*x[11], 2*x[13]-2*x[12], 3*x[14]-9*x[13], 8*x[15]-5*x[14], 8*x[16]-0*x[15], 3*x[17]-5*x[16], 0*x[18]-4*x[17], 8*x[19]-3*x[18], 2*x[20]-9*x[19], 3*x[21]-5*x[20], 4*x[22]-6*x[21], 6*x[23]-6*x[22], 8*x[24]-6*x[23], 7*x[25]-0*x[24], 9*x[26]-5*x[25], 9*x[27]-1*x[26], 3*x[28]-0*x[27], 4*x[29]-4*x[28], 7*x[30]-6*x[29], 5*x[31]-3*x[30], 9*x[32]-5*x[31], 0*x[33]-7*x[32], 2*x[34]-3*x[33], 4*x[35]-2*x[34], 2*x[36]-9*x[35], 3*x[37]-2*x[36], 7*x[38]-8*x[37], 3*x[39]-6*x[38], 8*x[40]-6*x[39], 0*x[41]-8*x[40], 1*x[42]-5*x[41], 7*x[43]-8*x[42], 2*x[44]-7*x[43], 7*x[45]-1*x[44], 1*x[46]-7*x[45], 4*x[47]-1*x[46], 2*x[48]-1*x[47], 1*x[49]-8*x[48], 0*x[50]-1*x[49], 0*x[51]-2*x[50], 0*x[52]-0*x[51], 5*x[53]-8*x[52], 0*x[54]-5*x[53], 2*x[55]-9*x[54], 6*x[56]-3*x[55], 1*x[57]-2*x[56], 8*x[58]-5*x[57], 8*x[59]-9*x[58], 2*x[60]-1*x[59], 0*x[61]-5*x[60], 7*x[62]-6*x[61], 1*x[63]-5*x[62], 0*x[64]-3*x[63], 9*x[65]-0*x[64], 1*x[66]-4*x[65], 5*x[67]-9*x[66], 7*x[68]-6*x[67], 6*x[69]-8*x[68], 3*x[70]-0*x[69], 1*x[71]-9*x[70], 2*x[72]-2*x[71], 6*x[73]-7*x[72], 9*x[74]-5*x[73], 3*x[75]-4*x[74], 4*x[76]-3*x[75], 3*x[77]-1*x[76], 3*x[78]-2*x[77], 8*x[79]-6*x[78], 2*x[80]-4*x[79], 7*x[81]-1*x[80], 2*x[82]-3*x[81], 7*x[83]-8*x[82]]\n",
    "func84(x...) = [2*x[1]-x[2], 6x[2]*5x[1], 3*x[3]-1*x[2], 0*x[4]-6*x[3], 4*x[5]-3*x[4], 1*x[6]-3*x[5], 9*x[7]-4*x[6], 8*x[8]-9*x[7], 0*x[9]-7*x[8], 1*x[10]-5*x[9], 8*x[11]-1*x[10], 7*x[12]-5*x[11], 2*x[13]-2*x[12], 3*x[14]-9*x[13], 8*x[15]-5*x[14], 8*x[16]-0*x[15], 3*x[17]-5*x[16], 0*x[18]-4*x[17], 8*x[19]-3*x[18], 2*x[20]-9*x[19], 3*x[21]-5*x[20], 4*x[22]-6*x[21], 6*x[23]-6*x[22], 8*x[24]-6*x[23], 7*x[25]-0*x[24], 9*x[26]-5*x[25], 9*x[27]-1*x[26], 3*x[28]-0*x[27], 4*x[29]-4*x[28], 7*x[30]-6*x[29], 5*x[31]-3*x[30], 9*x[32]-5*x[31], 0*x[33]-7*x[32], 2*x[34]-3*x[33], 4*x[35]-2*x[34], 2*x[36]-9*x[35], 3*x[37]-2*x[36], 7*x[38]-8*x[37], 3*x[39]-6*x[38], 8*x[40]-6*x[39], 0*x[41]-8*x[40], 1*x[42]-5*x[41], 7*x[43]-8*x[42], 2*x[44]-7*x[43], 7*x[45]-1*x[44], 1*x[46]-7*x[45], 4*x[47]-1*x[46], 2*x[48]-1*x[47], 1*x[49]-8*x[48], 0*x[50]-1*x[49], 0*x[51]-2*x[50], 0*x[52]-0*x[51], 5*x[53]-8*x[52], 0*x[54]-5*x[53], 2*x[55]-9*x[54], 6*x[56]-3*x[55], 1*x[57]-2*x[56], 8*x[58]-5*x[57], 8*x[59]-9*x[58], 2*x[60]-1*x[59], 0*x[61]-5*x[60], 7*x[62]-6*x[61], 1*x[63]-5*x[62], 0*x[64]-3*x[63], 9*x[65]-0*x[64], 1*x[66]-4*x[65], 5*x[67]-9*x[66], 7*x[68]-6*x[67], 6*x[69]-8*x[68], 3*x[70]-0*x[69], 1*x[71]-9*x[70], 2*x[72]-2*x[71], 6*x[73]-7*x[72], 9*x[74]-5*x[73], 3*x[75]-4*x[74], 4*x[76]-3*x[75], 3*x[77]-1*x[76], 3*x[78]-2*x[77], 8*x[79]-6*x[78], 2*x[80]-4*x[79], 7*x[81]-1*x[80], 2*x[82]-3*x[81], 7*x[83]-8*x[82], 5*x[84]-1*x[83]]\n",
    "func85(x...) = [2*x[1]-x[2], 6x[2]*5x[1], 3*x[3]-1*x[2], 0*x[4]-6*x[3], 4*x[5]-3*x[4], 1*x[6]-3*x[5], 9*x[7]-4*x[6], 8*x[8]-9*x[7], 0*x[9]-7*x[8], 1*x[10]-5*x[9], 8*x[11]-1*x[10], 7*x[12]-5*x[11], 2*x[13]-2*x[12], 3*x[14]-9*x[13], 8*x[15]-5*x[14], 8*x[16]-0*x[15], 3*x[17]-5*x[16], 0*x[18]-4*x[17], 8*x[19]-3*x[18], 2*x[20]-9*x[19], 3*x[21]-5*x[20], 4*x[22]-6*x[21], 6*x[23]-6*x[22], 8*x[24]-6*x[23], 7*x[25]-0*x[24], 9*x[26]-5*x[25], 9*x[27]-1*x[26], 3*x[28]-0*x[27], 4*x[29]-4*x[28], 7*x[30]-6*x[29], 5*x[31]-3*x[30], 9*x[32]-5*x[31], 0*x[33]-7*x[32], 2*x[34]-3*x[33], 4*x[35]-2*x[34], 2*x[36]-9*x[35], 3*x[37]-2*x[36], 7*x[38]-8*x[37], 3*x[39]-6*x[38], 8*x[40]-6*x[39], 0*x[41]-8*x[40], 1*x[42]-5*x[41], 7*x[43]-8*x[42], 2*x[44]-7*x[43], 7*x[45]-1*x[44], 1*x[46]-7*x[45], 4*x[47]-1*x[46], 2*x[48]-1*x[47], 1*x[49]-8*x[48], 0*x[50]-1*x[49], 0*x[51]-2*x[50], 0*x[52]-0*x[51], 5*x[53]-8*x[52], 0*x[54]-5*x[53], 2*x[55]-9*x[54], 6*x[56]-3*x[55], 1*x[57]-2*x[56], 8*x[58]-5*x[57], 8*x[59]-9*x[58], 2*x[60]-1*x[59], 0*x[61]-5*x[60], 7*x[62]-6*x[61], 1*x[63]-5*x[62], 0*x[64]-3*x[63], 9*x[65]-0*x[64], 1*x[66]-4*x[65], 5*x[67]-9*x[66], 7*x[68]-6*x[67], 6*x[69]-8*x[68], 3*x[70]-0*x[69], 1*x[71]-9*x[70], 2*x[72]-2*x[71], 6*x[73]-7*x[72], 9*x[74]-5*x[73], 3*x[75]-4*x[74], 4*x[76]-3*x[75], 3*x[77]-1*x[76], 3*x[78]-2*x[77], 8*x[79]-6*x[78], 2*x[80]-4*x[79], 7*x[81]-1*x[80], 2*x[82]-3*x[81], 7*x[83]-8*x[82], 5*x[84]-1*x[83], 6*x[85]-7*x[84]]\n",
    "func86(x...) = [2*x[1]-x[2], 6x[2]*5x[1], 3*x[3]-1*x[2], 0*x[4]-6*x[3], 4*x[5]-3*x[4], 1*x[6]-3*x[5], 9*x[7]-4*x[6], 8*x[8]-9*x[7], 0*x[9]-7*x[8], 1*x[10]-5*x[9], 8*x[11]-1*x[10], 7*x[12]-5*x[11], 2*x[13]-2*x[12], 3*x[14]-9*x[13], 8*x[15]-5*x[14], 8*x[16]-0*x[15], 3*x[17]-5*x[16], 0*x[18]-4*x[17], 8*x[19]-3*x[18], 2*x[20]-9*x[19], 3*x[21]-5*x[20], 4*x[22]-6*x[21], 6*x[23]-6*x[22], 8*x[24]-6*x[23], 7*x[25]-0*x[24], 9*x[26]-5*x[25], 9*x[27]-1*x[26], 3*x[28]-0*x[27], 4*x[29]-4*x[28], 7*x[30]-6*x[29], 5*x[31]-3*x[30], 9*x[32]-5*x[31], 0*x[33]-7*x[32], 2*x[34]-3*x[33], 4*x[35]-2*x[34], 2*x[36]-9*x[35], 3*x[37]-2*x[36], 7*x[38]-8*x[37], 3*x[39]-6*x[38], 8*x[40]-6*x[39], 0*x[41]-8*x[40], 1*x[42]-5*x[41], 7*x[43]-8*x[42], 2*x[44]-7*x[43], 7*x[45]-1*x[44], 1*x[46]-7*x[45], 4*x[47]-1*x[46], 2*x[48]-1*x[47], 1*x[49]-8*x[48], 0*x[50]-1*x[49], 0*x[51]-2*x[50], 0*x[52]-0*x[51], 5*x[53]-8*x[52], 0*x[54]-5*x[53], 2*x[55]-9*x[54], 6*x[56]-3*x[55], 1*x[57]-2*x[56], 8*x[58]-5*x[57], 8*x[59]-9*x[58], 2*x[60]-1*x[59], 0*x[61]-5*x[60], 7*x[62]-6*x[61], 1*x[63]-5*x[62], 0*x[64]-3*x[63], 9*x[65]-0*x[64], 1*x[66]-4*x[65], 5*x[67]-9*x[66], 7*x[68]-6*x[67], 6*x[69]-8*x[68], 3*x[70]-0*x[69], 1*x[71]-9*x[70], 2*x[72]-2*x[71], 6*x[73]-7*x[72], 9*x[74]-5*x[73], 3*x[75]-4*x[74], 4*x[76]-3*x[75], 3*x[77]-1*x[76], 3*x[78]-2*x[77], 8*x[79]-6*x[78], 2*x[80]-4*x[79], 7*x[81]-1*x[80], 2*x[82]-3*x[81], 7*x[83]-8*x[82], 5*x[84]-1*x[83], 6*x[85]-7*x[84], 1*x[86]-6*x[85]]\n",
    "func87(x...) = [2*x[1]-x[2], 6x[2]*5x[1], 3*x[3]-1*x[2], 0*x[4]-6*x[3], 4*x[5]-3*x[4], 1*x[6]-3*x[5], 9*x[7]-4*x[6], 8*x[8]-9*x[7], 0*x[9]-7*x[8], 1*x[10]-5*x[9], 8*x[11]-1*x[10], 7*x[12]-5*x[11], 2*x[13]-2*x[12], 3*x[14]-9*x[13], 8*x[15]-5*x[14], 8*x[16]-0*x[15], 3*x[17]-5*x[16], 0*x[18]-4*x[17], 8*x[19]-3*x[18], 2*x[20]-9*x[19], 3*x[21]-5*x[20], 4*x[22]-6*x[21], 6*x[23]-6*x[22], 8*x[24]-6*x[23], 7*x[25]-0*x[24], 9*x[26]-5*x[25], 9*x[27]-1*x[26], 3*x[28]-0*x[27], 4*x[29]-4*x[28], 7*x[30]-6*x[29], 5*x[31]-3*x[30], 9*x[32]-5*x[31], 0*x[33]-7*x[32], 2*x[34]-3*x[33], 4*x[35]-2*x[34], 2*x[36]-9*x[35], 3*x[37]-2*x[36], 7*x[38]-8*x[37], 3*x[39]-6*x[38], 8*x[40]-6*x[39], 0*x[41]-8*x[40], 1*x[42]-5*x[41], 7*x[43]-8*x[42], 2*x[44]-7*x[43], 7*x[45]-1*x[44], 1*x[46]-7*x[45], 4*x[47]-1*x[46], 2*x[48]-1*x[47], 1*x[49]-8*x[48], 0*x[50]-1*x[49], 0*x[51]-2*x[50], 0*x[52]-0*x[51], 5*x[53]-8*x[52], 0*x[54]-5*x[53], 2*x[55]-9*x[54], 6*x[56]-3*x[55], 1*x[57]-2*x[56], 8*x[58]-5*x[57], 8*x[59]-9*x[58], 2*x[60]-1*x[59], 0*x[61]-5*x[60], 7*x[62]-6*x[61], 1*x[63]-5*x[62], 0*x[64]-3*x[63], 9*x[65]-0*x[64], 1*x[66]-4*x[65], 5*x[67]-9*x[66], 7*x[68]-6*x[67], 6*x[69]-8*x[68], 3*x[70]-0*x[69], 1*x[71]-9*x[70], 2*x[72]-2*x[71], 6*x[73]-7*x[72], 9*x[74]-5*x[73], 3*x[75]-4*x[74], 4*x[76]-3*x[75], 3*x[77]-1*x[76], 3*x[78]-2*x[77], 8*x[79]-6*x[78], 2*x[80]-4*x[79], 7*x[81]-1*x[80], 2*x[82]-3*x[81], 7*x[83]-8*x[82], 5*x[84]-1*x[83], 6*x[85]-7*x[84], 1*x[86]-6*x[85], 3*x[87]-9*x[86]]\n",
    "func88(x...) = [2*x[1]-x[2], 6x[2]*5x[1], 3*x[3]-1*x[2], 0*x[4]-6*x[3], 4*x[5]-3*x[4], 1*x[6]-3*x[5], 9*x[7]-4*x[6], 8*x[8]-9*x[7], 0*x[9]-7*x[8], 1*x[10]-5*x[9], 8*x[11]-1*x[10], 7*x[12]-5*x[11], 2*x[13]-2*x[12], 3*x[14]-9*x[13], 8*x[15]-5*x[14], 8*x[16]-0*x[15], 3*x[17]-5*x[16], 0*x[18]-4*x[17], 8*x[19]-3*x[18], 2*x[20]-9*x[19], 3*x[21]-5*x[20], 4*x[22]-6*x[21], 6*x[23]-6*x[22], 8*x[24]-6*x[23], 7*x[25]-0*x[24], 9*x[26]-5*x[25], 9*x[27]-1*x[26], 3*x[28]-0*x[27], 4*x[29]-4*x[28], 7*x[30]-6*x[29], 5*x[31]-3*x[30], 9*x[32]-5*x[31], 0*x[33]-7*x[32], 2*x[34]-3*x[33], 4*x[35]-2*x[34], 2*x[36]-9*x[35], 3*x[37]-2*x[36], 7*x[38]-8*x[37], 3*x[39]-6*x[38], 8*x[40]-6*x[39], 0*x[41]-8*x[40], 1*x[42]-5*x[41], 7*x[43]-8*x[42], 2*x[44]-7*x[43], 7*x[45]-1*x[44], 1*x[46]-7*x[45], 4*x[47]-1*x[46], 2*x[48]-1*x[47], 1*x[49]-8*x[48], 0*x[50]-1*x[49], 0*x[51]-2*x[50], 0*x[52]-0*x[51], 5*x[53]-8*x[52], 0*x[54]-5*x[53], 2*x[55]-9*x[54], 6*x[56]-3*x[55], 1*x[57]-2*x[56], 8*x[58]-5*x[57], 8*x[59]-9*x[58], 2*x[60]-1*x[59], 0*x[61]-5*x[60], 7*x[62]-6*x[61], 1*x[63]-5*x[62], 0*x[64]-3*x[63], 9*x[65]-0*x[64], 1*x[66]-4*x[65], 5*x[67]-9*x[66], 7*x[68]-6*x[67], 6*x[69]-8*x[68], 3*x[70]-0*x[69], 1*x[71]-9*x[70], 2*x[72]-2*x[71], 6*x[73]-7*x[72], 9*x[74]-5*x[73], 3*x[75]-4*x[74], 4*x[76]-3*x[75], 3*x[77]-1*x[76], 3*x[78]-2*x[77], 8*x[79]-6*x[78], 2*x[80]-4*x[79], 7*x[81]-1*x[80], 2*x[82]-3*x[81], 7*x[83]-8*x[82], 5*x[84]-1*x[83], 6*x[85]-7*x[84], 1*x[86]-6*x[85], 3*x[87]-9*x[86], 0*x[88]-6*x[87]]\n",
    "func89(x...) = [2*x[1]-x[2], 6x[2]*5x[1], 3*x[3]-1*x[2], 0*x[4]-6*x[3], 4*x[5]-3*x[4], 1*x[6]-3*x[5], 9*x[7]-4*x[6], 8*x[8]-9*x[7], 0*x[9]-7*x[8], 1*x[10]-5*x[9], 8*x[11]-1*x[10], 7*x[12]-5*x[11], 2*x[13]-2*x[12], 3*x[14]-9*x[13], 8*x[15]-5*x[14], 8*x[16]-0*x[15], 3*x[17]-5*x[16], 0*x[18]-4*x[17], 8*x[19]-3*x[18], 2*x[20]-9*x[19], 3*x[21]-5*x[20], 4*x[22]-6*x[21], 6*x[23]-6*x[22], 8*x[24]-6*x[23], 7*x[25]-0*x[24], 9*x[26]-5*x[25], 9*x[27]-1*x[26], 3*x[28]-0*x[27], 4*x[29]-4*x[28], 7*x[30]-6*x[29], 5*x[31]-3*x[30], 9*x[32]-5*x[31], 0*x[33]-7*x[32], 2*x[34]-3*x[33], 4*x[35]-2*x[34], 2*x[36]-9*x[35], 3*x[37]-2*x[36], 7*x[38]-8*x[37], 3*x[39]-6*x[38], 8*x[40]-6*x[39], 0*x[41]-8*x[40], 1*x[42]-5*x[41], 7*x[43]-8*x[42], 2*x[44]-7*x[43], 7*x[45]-1*x[44], 1*x[46]-7*x[45], 4*x[47]-1*x[46], 2*x[48]-1*x[47], 1*x[49]-8*x[48], 0*x[50]-1*x[49], 0*x[51]-2*x[50], 0*x[52]-0*x[51], 5*x[53]-8*x[52], 0*x[54]-5*x[53], 2*x[55]-9*x[54], 6*x[56]-3*x[55], 1*x[57]-2*x[56], 8*x[58]-5*x[57], 8*x[59]-9*x[58], 2*x[60]-1*x[59], 0*x[61]-5*x[60], 7*x[62]-6*x[61], 1*x[63]-5*x[62], 0*x[64]-3*x[63], 9*x[65]-0*x[64], 1*x[66]-4*x[65], 5*x[67]-9*x[66], 7*x[68]-6*x[67], 6*x[69]-8*x[68], 3*x[70]-0*x[69], 1*x[71]-9*x[70], 2*x[72]-2*x[71], 6*x[73]-7*x[72], 9*x[74]-5*x[73], 3*x[75]-4*x[74], 4*x[76]-3*x[75], 3*x[77]-1*x[76], 3*x[78]-2*x[77], 8*x[79]-6*x[78], 2*x[80]-4*x[79], 7*x[81]-1*x[80], 2*x[82]-3*x[81], 7*x[83]-8*x[82], 5*x[84]-1*x[83], 6*x[85]-7*x[84], 1*x[86]-6*x[85], 3*x[87]-9*x[86], 0*x[88]-6*x[87], 4*x[89]-4*x[88]]\n",
    "func90(x...) = [2*x[1]-x[2], 6x[2]*5x[1], 3*x[3]-1*x[2], 0*x[4]-6*x[3], 4*x[5]-3*x[4], 1*x[6]-3*x[5], 9*x[7]-4*x[6], 8*x[8]-9*x[7], 0*x[9]-7*x[8], 1*x[10]-5*x[9], 8*x[11]-1*x[10], 7*x[12]-5*x[11], 2*x[13]-2*x[12], 3*x[14]-9*x[13], 8*x[15]-5*x[14], 8*x[16]-0*x[15], 3*x[17]-5*x[16], 0*x[18]-4*x[17], 8*x[19]-3*x[18], 2*x[20]-9*x[19], 3*x[21]-5*x[20], 4*x[22]-6*x[21], 6*x[23]-6*x[22], 8*x[24]-6*x[23], 7*x[25]-0*x[24], 9*x[26]-5*x[25], 9*x[27]-1*x[26], 3*x[28]-0*x[27], 4*x[29]-4*x[28], 7*x[30]-6*x[29], 5*x[31]-3*x[30], 9*x[32]-5*x[31], 0*x[33]-7*x[32], 2*x[34]-3*x[33], 4*x[35]-2*x[34], 2*x[36]-9*x[35], 3*x[37]-2*x[36], 7*x[38]-8*x[37], 3*x[39]-6*x[38], 8*x[40]-6*x[39], 0*x[41]-8*x[40], 1*x[42]-5*x[41], 7*x[43]-8*x[42], 2*x[44]-7*x[43], 7*x[45]-1*x[44], 1*x[46]-7*x[45], 4*x[47]-1*x[46], 2*x[48]-1*x[47], 1*x[49]-8*x[48], 0*x[50]-1*x[49], 0*x[51]-2*x[50], 0*x[52]-0*x[51], 5*x[53]-8*x[52], 0*x[54]-5*x[53], 2*x[55]-9*x[54], 6*x[56]-3*x[55], 1*x[57]-2*x[56], 8*x[58]-5*x[57], 8*x[59]-9*x[58], 2*x[60]-1*x[59], 0*x[61]-5*x[60], 7*x[62]-6*x[61], 1*x[63]-5*x[62], 0*x[64]-3*x[63], 9*x[65]-0*x[64], 1*x[66]-4*x[65], 5*x[67]-9*x[66], 7*x[68]-6*x[67], 6*x[69]-8*x[68], 3*x[70]-0*x[69], 1*x[71]-9*x[70], 2*x[72]-2*x[71], 6*x[73]-7*x[72], 9*x[74]-5*x[73], 3*x[75]-4*x[74], 4*x[76]-3*x[75], 3*x[77]-1*x[76], 3*x[78]-2*x[77], 8*x[79]-6*x[78], 2*x[80]-4*x[79], 7*x[81]-1*x[80], 2*x[82]-3*x[81], 7*x[83]-8*x[82], 5*x[84]-1*x[83], 6*x[85]-7*x[84], 1*x[86]-6*x[85], 3*x[87]-9*x[86], 0*x[88]-6*x[87], 4*x[89]-4*x[88], 4*x[90]-3*x[89]]\n",
    "func91(x...) = [2*x[1]-x[2], 6x[2]*5x[1], 3*x[3]-1*x[2], 0*x[4]-6*x[3], 4*x[5]-3*x[4], 1*x[6]-3*x[5], 9*x[7]-4*x[6], 8*x[8]-9*x[7], 0*x[9]-7*x[8], 1*x[10]-5*x[9], 8*x[11]-1*x[10], 7*x[12]-5*x[11], 2*x[13]-2*x[12], 3*x[14]-9*x[13], 8*x[15]-5*x[14], 8*x[16]-0*x[15], 3*x[17]-5*x[16], 0*x[18]-4*x[17], 8*x[19]-3*x[18], 2*x[20]-9*x[19], 3*x[21]-5*x[20], 4*x[22]-6*x[21], 6*x[23]-6*x[22], 8*x[24]-6*x[23], 7*x[25]-0*x[24], 9*x[26]-5*x[25], 9*x[27]-1*x[26], 3*x[28]-0*x[27], 4*x[29]-4*x[28], 7*x[30]-6*x[29], 5*x[31]-3*x[30], 9*x[32]-5*x[31], 0*x[33]-7*x[32], 2*x[34]-3*x[33], 4*x[35]-2*x[34], 2*x[36]-9*x[35], 3*x[37]-2*x[36], 7*x[38]-8*x[37], 3*x[39]-6*x[38], 8*x[40]-6*x[39], 0*x[41]-8*x[40], 1*x[42]-5*x[41], 7*x[43]-8*x[42], 2*x[44]-7*x[43], 7*x[45]-1*x[44], 1*x[46]-7*x[45], 4*x[47]-1*x[46], 2*x[48]-1*x[47], 1*x[49]-8*x[48], 0*x[50]-1*x[49], 0*x[51]-2*x[50], 0*x[52]-0*x[51], 5*x[53]-8*x[52], 0*x[54]-5*x[53], 2*x[55]-9*x[54], 6*x[56]-3*x[55], 1*x[57]-2*x[56], 8*x[58]-5*x[57], 8*x[59]-9*x[58], 2*x[60]-1*x[59], 0*x[61]-5*x[60], 7*x[62]-6*x[61], 1*x[63]-5*x[62], 0*x[64]-3*x[63], 9*x[65]-0*x[64], 1*x[66]-4*x[65], 5*x[67]-9*x[66], 7*x[68]-6*x[67], 6*x[69]-8*x[68], 3*x[70]-0*x[69], 1*x[71]-9*x[70], 2*x[72]-2*x[71], 6*x[73]-7*x[72], 9*x[74]-5*x[73], 3*x[75]-4*x[74], 4*x[76]-3*x[75], 3*x[77]-1*x[76], 3*x[78]-2*x[77], 8*x[79]-6*x[78], 2*x[80]-4*x[79], 7*x[81]-1*x[80], 2*x[82]-3*x[81], 7*x[83]-8*x[82], 5*x[84]-1*x[83], 6*x[85]-7*x[84], 1*x[86]-6*x[85], 3*x[87]-9*x[86], 0*x[88]-6*x[87], 4*x[89]-4*x[88], 4*x[90]-3*x[89], 8*x[91]-9*x[90]]\n",
    "func92(x...) = [2*x[1]-x[2], 6x[2]*5x[1], 3*x[3]-1*x[2], 0*x[4]-6*x[3], 4*x[5]-3*x[4], 1*x[6]-3*x[5], 9*x[7]-4*x[6], 8*x[8]-9*x[7], 0*x[9]-7*x[8], 1*x[10]-5*x[9], 8*x[11]-1*x[10], 7*x[12]-5*x[11], 2*x[13]-2*x[12], 3*x[14]-9*x[13], 8*x[15]-5*x[14], 8*x[16]-0*x[15], 3*x[17]-5*x[16], 0*x[18]-4*x[17], 8*x[19]-3*x[18], 2*x[20]-9*x[19], 3*x[21]-5*x[20], 4*x[22]-6*x[21], 6*x[23]-6*x[22], 8*x[24]-6*x[23], 7*x[25]-0*x[24], 9*x[26]-5*x[25], 9*x[27]-1*x[26], 3*x[28]-0*x[27], 4*x[29]-4*x[28], 7*x[30]-6*x[29], 5*x[31]-3*x[30], 9*x[32]-5*x[31], 0*x[33]-7*x[32], 2*x[34]-3*x[33], 4*x[35]-2*x[34], 2*x[36]-9*x[35], 3*x[37]-2*x[36], 7*x[38]-8*x[37], 3*x[39]-6*x[38], 8*x[40]-6*x[39], 0*x[41]-8*x[40], 1*x[42]-5*x[41], 7*x[43]-8*x[42], 2*x[44]-7*x[43], 7*x[45]-1*x[44], 1*x[46]-7*x[45], 4*x[47]-1*x[46], 2*x[48]-1*x[47], 1*x[49]-8*x[48], 0*x[50]-1*x[49], 0*x[51]-2*x[50], 0*x[52]-0*x[51], 5*x[53]-8*x[52], 0*x[54]-5*x[53], 2*x[55]-9*x[54], 6*x[56]-3*x[55], 1*x[57]-2*x[56], 8*x[58]-5*x[57], 8*x[59]-9*x[58], 2*x[60]-1*x[59], 0*x[61]-5*x[60], 7*x[62]-6*x[61], 1*x[63]-5*x[62], 0*x[64]-3*x[63], 9*x[65]-0*x[64], 1*x[66]-4*x[65], 5*x[67]-9*x[66], 7*x[68]-6*x[67], 6*x[69]-8*x[68], 3*x[70]-0*x[69], 1*x[71]-9*x[70], 2*x[72]-2*x[71], 6*x[73]-7*x[72], 9*x[74]-5*x[73], 3*x[75]-4*x[74], 4*x[76]-3*x[75], 3*x[77]-1*x[76], 3*x[78]-2*x[77], 8*x[79]-6*x[78], 2*x[80]-4*x[79], 7*x[81]-1*x[80], 2*x[82]-3*x[81], 7*x[83]-8*x[82], 5*x[84]-1*x[83], 6*x[85]-7*x[84], 1*x[86]-6*x[85], 3*x[87]-9*x[86], 0*x[88]-6*x[87], 4*x[89]-4*x[88], 4*x[90]-3*x[89], 8*x[91]-9*x[90], 2*x[92]-3*x[91]]\n",
    "func93(x...) = [2*x[1]-x[2], 6x[2]*5x[1], 3*x[3]-1*x[2], 0*x[4]-6*x[3], 4*x[5]-3*x[4], 1*x[6]-3*x[5], 9*x[7]-4*x[6], 8*x[8]-9*x[7], 0*x[9]-7*x[8], 1*x[10]-5*x[9], 8*x[11]-1*x[10], 7*x[12]-5*x[11], 2*x[13]-2*x[12], 3*x[14]-9*x[13], 8*x[15]-5*x[14], 8*x[16]-0*x[15], 3*x[17]-5*x[16], 0*x[18]-4*x[17], 8*x[19]-3*x[18], 2*x[20]-9*x[19], 3*x[21]-5*x[20], 4*x[22]-6*x[21], 6*x[23]-6*x[22], 8*x[24]-6*x[23], 7*x[25]-0*x[24], 9*x[26]-5*x[25], 9*x[27]-1*x[26], 3*x[28]-0*x[27], 4*x[29]-4*x[28], 7*x[30]-6*x[29], 5*x[31]-3*x[30], 9*x[32]-5*x[31], 0*x[33]-7*x[32], 2*x[34]-3*x[33], 4*x[35]-2*x[34], 2*x[36]-9*x[35], 3*x[37]-2*x[36], 7*x[38]-8*x[37], 3*x[39]-6*x[38], 8*x[40]-6*x[39], 0*x[41]-8*x[40], 1*x[42]-5*x[41], 7*x[43]-8*x[42], 2*x[44]-7*x[43], 7*x[45]-1*x[44], 1*x[46]-7*x[45], 4*x[47]-1*x[46], 2*x[48]-1*x[47], 1*x[49]-8*x[48], 0*x[50]-1*x[49], 0*x[51]-2*x[50], 0*x[52]-0*x[51], 5*x[53]-8*x[52], 0*x[54]-5*x[53], 2*x[55]-9*x[54], 6*x[56]-3*x[55], 1*x[57]-2*x[56], 8*x[58]-5*x[57], 8*x[59]-9*x[58], 2*x[60]-1*x[59], 0*x[61]-5*x[60], 7*x[62]-6*x[61], 1*x[63]-5*x[62], 0*x[64]-3*x[63], 9*x[65]-0*x[64], 1*x[66]-4*x[65], 5*x[67]-9*x[66], 7*x[68]-6*x[67], 6*x[69]-8*x[68], 3*x[70]-0*x[69], 1*x[71]-9*x[70], 2*x[72]-2*x[71], 6*x[73]-7*x[72], 9*x[74]-5*x[73], 3*x[75]-4*x[74], 4*x[76]-3*x[75], 3*x[77]-1*x[76], 3*x[78]-2*x[77], 8*x[79]-6*x[78], 2*x[80]-4*x[79], 7*x[81]-1*x[80], 2*x[82]-3*x[81], 7*x[83]-8*x[82], 5*x[84]-1*x[83], 6*x[85]-7*x[84], 1*x[86]-6*x[85], 3*x[87]-9*x[86], 0*x[88]-6*x[87], 4*x[89]-4*x[88], 4*x[90]-3*x[89], 8*x[91]-9*x[90], 2*x[92]-3*x[91], 7*x[93]-0*x[92]]\n",
    "func94(x...) = [2*x[1]-x[2], 6x[2]*5x[1], 3*x[3]-1*x[2], 0*x[4]-6*x[3], 4*x[5]-3*x[4], 1*x[6]-3*x[5], 9*x[7]-4*x[6], 8*x[8]-9*x[7], 0*x[9]-7*x[8], 1*x[10]-5*x[9], 8*x[11]-1*x[10], 7*x[12]-5*x[11], 2*x[13]-2*x[12], 3*x[14]-9*x[13], 8*x[15]-5*x[14], 8*x[16]-0*x[15], 3*x[17]-5*x[16], 0*x[18]-4*x[17], 8*x[19]-3*x[18], 2*x[20]-9*x[19], 3*x[21]-5*x[20], 4*x[22]-6*x[21], 6*x[23]-6*x[22], 8*x[24]-6*x[23], 7*x[25]-0*x[24], 9*x[26]-5*x[25], 9*x[27]-1*x[26], 3*x[28]-0*x[27], 4*x[29]-4*x[28], 7*x[30]-6*x[29], 5*x[31]-3*x[30], 9*x[32]-5*x[31], 0*x[33]-7*x[32], 2*x[34]-3*x[33], 4*x[35]-2*x[34], 2*x[36]-9*x[35], 3*x[37]-2*x[36], 7*x[38]-8*x[37], 3*x[39]-6*x[38], 8*x[40]-6*x[39], 0*x[41]-8*x[40], 1*x[42]-5*x[41], 7*x[43]-8*x[42], 2*x[44]-7*x[43], 7*x[45]-1*x[44], 1*x[46]-7*x[45], 4*x[47]-1*x[46], 2*x[48]-1*x[47], 1*x[49]-8*x[48], 0*x[50]-1*x[49], 0*x[51]-2*x[50], 0*x[52]-0*x[51], 5*x[53]-8*x[52], 0*x[54]-5*x[53], 2*x[55]-9*x[54], 6*x[56]-3*x[55], 1*x[57]-2*x[56], 8*x[58]-5*x[57], 8*x[59]-9*x[58], 2*x[60]-1*x[59], 0*x[61]-5*x[60], 7*x[62]-6*x[61], 1*x[63]-5*x[62], 0*x[64]-3*x[63], 9*x[65]-0*x[64], 1*x[66]-4*x[65], 5*x[67]-9*x[66], 7*x[68]-6*x[67], 6*x[69]-8*x[68], 3*x[70]-0*x[69], 1*x[71]-9*x[70], 2*x[72]-2*x[71], 6*x[73]-7*x[72], 9*x[74]-5*x[73], 3*x[75]-4*x[74], 4*x[76]-3*x[75], 3*x[77]-1*x[76], 3*x[78]-2*x[77], 8*x[79]-6*x[78], 2*x[80]-4*x[79], 7*x[81]-1*x[80], 2*x[82]-3*x[81], 7*x[83]-8*x[82], 5*x[84]-1*x[83], 6*x[85]-7*x[84], 1*x[86]-6*x[85], 3*x[87]-9*x[86], 0*x[88]-6*x[87], 4*x[89]-4*x[88], 4*x[90]-3*x[89], 8*x[91]-9*x[90], 2*x[92]-3*x[91], 7*x[93]-0*x[92], 3*x[94]-4*x[93]]\n",
    "func95(x...) = [2*x[1]-x[2], 6x[2]*5x[1], 3*x[3]-1*x[2], 0*x[4]-6*x[3], 4*x[5]-3*x[4], 1*x[6]-3*x[5], 9*x[7]-4*x[6], 8*x[8]-9*x[7], 0*x[9]-7*x[8], 1*x[10]-5*x[9], 8*x[11]-1*x[10], 7*x[12]-5*x[11], 2*x[13]-2*x[12], 3*x[14]-9*x[13], 8*x[15]-5*x[14], 8*x[16]-0*x[15], 3*x[17]-5*x[16], 0*x[18]-4*x[17], 8*x[19]-3*x[18], 2*x[20]-9*x[19], 3*x[21]-5*x[20], 4*x[22]-6*x[21], 6*x[23]-6*x[22], 8*x[24]-6*x[23], 7*x[25]-0*x[24], 9*x[26]-5*x[25], 9*x[27]-1*x[26], 3*x[28]-0*x[27], 4*x[29]-4*x[28], 7*x[30]-6*x[29], 5*x[31]-3*x[30], 9*x[32]-5*x[31], 0*x[33]-7*x[32], 2*x[34]-3*x[33], 4*x[35]-2*x[34], 2*x[36]-9*x[35], 3*x[37]-2*x[36], 7*x[38]-8*x[37], 3*x[39]-6*x[38], 8*x[40]-6*x[39], 0*x[41]-8*x[40], 1*x[42]-5*x[41], 7*x[43]-8*x[42], 2*x[44]-7*x[43], 7*x[45]-1*x[44], 1*x[46]-7*x[45], 4*x[47]-1*x[46], 2*x[48]-1*x[47], 1*x[49]-8*x[48], 0*x[50]-1*x[49], 0*x[51]-2*x[50], 0*x[52]-0*x[51], 5*x[53]-8*x[52], 0*x[54]-5*x[53], 2*x[55]-9*x[54], 6*x[56]-3*x[55], 1*x[57]-2*x[56], 8*x[58]-5*x[57], 8*x[59]-9*x[58], 2*x[60]-1*x[59], 0*x[61]-5*x[60], 7*x[62]-6*x[61], 1*x[63]-5*x[62], 0*x[64]-3*x[63], 9*x[65]-0*x[64], 1*x[66]-4*x[65], 5*x[67]-9*x[66], 7*x[68]-6*x[67], 6*x[69]-8*x[68], 3*x[70]-0*x[69], 1*x[71]-9*x[70], 2*x[72]-2*x[71], 6*x[73]-7*x[72], 9*x[74]-5*x[73], 3*x[75]-4*x[74], 4*x[76]-3*x[75], 3*x[77]-1*x[76], 3*x[78]-2*x[77], 8*x[79]-6*x[78], 2*x[80]-4*x[79], 7*x[81]-1*x[80], 2*x[82]-3*x[81], 7*x[83]-8*x[82], 5*x[84]-1*x[83], 6*x[85]-7*x[84], 1*x[86]-6*x[85], 3*x[87]-9*x[86], 0*x[88]-6*x[87], 4*x[89]-4*x[88], 4*x[90]-3*x[89], 8*x[91]-9*x[90], 2*x[92]-3*x[91], 7*x[93]-0*x[92], 3*x[94]-4*x[93], 2*x[95]-2*x[94]]\n",
    "func96(x...) = [2*x[1]-x[2], 6x[2]*5x[1], 3*x[3]-1*x[2], 0*x[4]-6*x[3], 4*x[5]-3*x[4], 1*x[6]-3*x[5], 9*x[7]-4*x[6], 8*x[8]-9*x[7], 0*x[9]-7*x[8], 1*x[10]-5*x[9], 8*x[11]-1*x[10], 7*x[12]-5*x[11], 2*x[13]-2*x[12], 3*x[14]-9*x[13], 8*x[15]-5*x[14], 8*x[16]-0*x[15], 3*x[17]-5*x[16], 0*x[18]-4*x[17], 8*x[19]-3*x[18], 2*x[20]-9*x[19], 3*x[21]-5*x[20], 4*x[22]-6*x[21], 6*x[23]-6*x[22], 8*x[24]-6*x[23], 7*x[25]-0*x[24], 9*x[26]-5*x[25], 9*x[27]-1*x[26], 3*x[28]-0*x[27], 4*x[29]-4*x[28], 7*x[30]-6*x[29], 5*x[31]-3*x[30], 9*x[32]-5*x[31], 0*x[33]-7*x[32], 2*x[34]-3*x[33], 4*x[35]-2*x[34], 2*x[36]-9*x[35], 3*x[37]-2*x[36], 7*x[38]-8*x[37], 3*x[39]-6*x[38], 8*x[40]-6*x[39], 0*x[41]-8*x[40], 1*x[42]-5*x[41], 7*x[43]-8*x[42], 2*x[44]-7*x[43], 7*x[45]-1*x[44], 1*x[46]-7*x[45], 4*x[47]-1*x[46], 2*x[48]-1*x[47], 1*x[49]-8*x[48], 0*x[50]-1*x[49], 0*x[51]-2*x[50], 0*x[52]-0*x[51], 5*x[53]-8*x[52], 0*x[54]-5*x[53], 2*x[55]-9*x[54], 6*x[56]-3*x[55], 1*x[57]-2*x[56], 8*x[58]-5*x[57], 8*x[59]-9*x[58], 2*x[60]-1*x[59], 0*x[61]-5*x[60], 7*x[62]-6*x[61], 1*x[63]-5*x[62], 0*x[64]-3*x[63], 9*x[65]-0*x[64], 1*x[66]-4*x[65], 5*x[67]-9*x[66], 7*x[68]-6*x[67], 6*x[69]-8*x[68], 3*x[70]-0*x[69], 1*x[71]-9*x[70], 2*x[72]-2*x[71], 6*x[73]-7*x[72], 9*x[74]-5*x[73], 3*x[75]-4*x[74], 4*x[76]-3*x[75], 3*x[77]-1*x[76], 3*x[78]-2*x[77], 8*x[79]-6*x[78], 2*x[80]-4*x[79], 7*x[81]-1*x[80], 2*x[82]-3*x[81], 7*x[83]-8*x[82], 5*x[84]-1*x[83], 6*x[85]-7*x[84], 1*x[86]-6*x[85], 3*x[87]-9*x[86], 0*x[88]-6*x[87], 4*x[89]-4*x[88], 4*x[90]-3*x[89], 8*x[91]-9*x[90], 2*x[92]-3*x[91], 7*x[93]-0*x[92], 3*x[94]-4*x[93], 2*x[95]-2*x[94], 1*x[96]-7*x[95]]\n",
    "func97(x...) = [2*x[1]-x[2], 6x[2]*5x[1], 3*x[3]-1*x[2], 0*x[4]-6*x[3], 4*x[5]-3*x[4], 1*x[6]-3*x[5], 9*x[7]-4*x[6], 8*x[8]-9*x[7], 0*x[9]-7*x[8], 1*x[10]-5*x[9], 8*x[11]-1*x[10], 7*x[12]-5*x[11], 2*x[13]-2*x[12], 3*x[14]-9*x[13], 8*x[15]-5*x[14], 8*x[16]-0*x[15], 3*x[17]-5*x[16], 0*x[18]-4*x[17], 8*x[19]-3*x[18], 2*x[20]-9*x[19], 3*x[21]-5*x[20], 4*x[22]-6*x[21], 6*x[23]-6*x[22], 8*x[24]-6*x[23], 7*x[25]-0*x[24], 9*x[26]-5*x[25], 9*x[27]-1*x[26], 3*x[28]-0*x[27], 4*x[29]-4*x[28], 7*x[30]-6*x[29], 5*x[31]-3*x[30], 9*x[32]-5*x[31], 0*x[33]-7*x[32], 2*x[34]-3*x[33], 4*x[35]-2*x[34], 2*x[36]-9*x[35], 3*x[37]-2*x[36], 7*x[38]-8*x[37], 3*x[39]-6*x[38], 8*x[40]-6*x[39], 0*x[41]-8*x[40], 1*x[42]-5*x[41], 7*x[43]-8*x[42], 2*x[44]-7*x[43], 7*x[45]-1*x[44], 1*x[46]-7*x[45], 4*x[47]-1*x[46], 2*x[48]-1*x[47], 1*x[49]-8*x[48], 0*x[50]-1*x[49], 0*x[51]-2*x[50], 0*x[52]-0*x[51], 5*x[53]-8*x[52], 0*x[54]-5*x[53], 2*x[55]-9*x[54], 6*x[56]-3*x[55], 1*x[57]-2*x[56], 8*x[58]-5*x[57], 8*x[59]-9*x[58], 2*x[60]-1*x[59], 0*x[61]-5*x[60], 7*x[62]-6*x[61], 1*x[63]-5*x[62], 0*x[64]-3*x[63], 9*x[65]-0*x[64], 1*x[66]-4*x[65], 5*x[67]-9*x[66], 7*x[68]-6*x[67], 6*x[69]-8*x[68], 3*x[70]-0*x[69], 1*x[71]-9*x[70], 2*x[72]-2*x[71], 6*x[73]-7*x[72], 9*x[74]-5*x[73], 3*x[75]-4*x[74], 4*x[76]-3*x[75], 3*x[77]-1*x[76], 3*x[78]-2*x[77], 8*x[79]-6*x[78], 2*x[80]-4*x[79], 7*x[81]-1*x[80], 2*x[82]-3*x[81], 7*x[83]-8*x[82], 5*x[84]-1*x[83], 6*x[85]-7*x[84], 1*x[86]-6*x[85], 3*x[87]-9*x[86], 0*x[88]-6*x[87], 4*x[89]-4*x[88], 4*x[90]-3*x[89], 8*x[91]-9*x[90], 2*x[92]-3*x[91], 7*x[93]-0*x[92], 3*x[94]-4*x[93], 2*x[95]-2*x[94], 1*x[96]-7*x[95], 8*x[97]-4*x[96]]\n",
    "func98(x...) = [2*x[1]-x[2], 6x[2]*5x[1], 3*x[3]-1*x[2], 0*x[4]-6*x[3], 4*x[5]-3*x[4], 1*x[6]-3*x[5], 9*x[7]-4*x[6], 8*x[8]-9*x[7], 0*x[9]-7*x[8], 1*x[10]-5*x[9], 8*x[11]-1*x[10], 7*x[12]-5*x[11], 2*x[13]-2*x[12], 3*x[14]-9*x[13], 8*x[15]-5*x[14], 8*x[16]-0*x[15], 3*x[17]-5*x[16], 0*x[18]-4*x[17], 8*x[19]-3*x[18], 2*x[20]-9*x[19], 3*x[21]-5*x[20], 4*x[22]-6*x[21], 6*x[23]-6*x[22], 8*x[24]-6*x[23], 7*x[25]-0*x[24], 9*x[26]-5*x[25], 9*x[27]-1*x[26], 3*x[28]-0*x[27], 4*x[29]-4*x[28], 7*x[30]-6*x[29], 5*x[31]-3*x[30], 9*x[32]-5*x[31], 0*x[33]-7*x[32], 2*x[34]-3*x[33], 4*x[35]-2*x[34], 2*x[36]-9*x[35], 3*x[37]-2*x[36], 7*x[38]-8*x[37], 3*x[39]-6*x[38], 8*x[40]-6*x[39], 0*x[41]-8*x[40], 1*x[42]-5*x[41], 7*x[43]-8*x[42], 2*x[44]-7*x[43], 7*x[45]-1*x[44], 1*x[46]-7*x[45], 4*x[47]-1*x[46], 2*x[48]-1*x[47], 1*x[49]-8*x[48], 0*x[50]-1*x[49], 0*x[51]-2*x[50], 0*x[52]-0*x[51], 5*x[53]-8*x[52], 0*x[54]-5*x[53], 2*x[55]-9*x[54], 6*x[56]-3*x[55], 1*x[57]-2*x[56], 8*x[58]-5*x[57], 8*x[59]-9*x[58], 2*x[60]-1*x[59], 0*x[61]-5*x[60], 7*x[62]-6*x[61], 1*x[63]-5*x[62], 0*x[64]-3*x[63], 9*x[65]-0*x[64], 1*x[66]-4*x[65], 5*x[67]-9*x[66], 7*x[68]-6*x[67], 6*x[69]-8*x[68], 3*x[70]-0*x[69], 1*x[71]-9*x[70], 2*x[72]-2*x[71], 6*x[73]-7*x[72], 9*x[74]-5*x[73], 3*x[75]-4*x[74], 4*x[76]-3*x[75], 3*x[77]-1*x[76], 3*x[78]-2*x[77], 8*x[79]-6*x[78], 2*x[80]-4*x[79], 7*x[81]-1*x[80], 2*x[82]-3*x[81], 7*x[83]-8*x[82], 5*x[84]-1*x[83], 6*x[85]-7*x[84], 1*x[86]-6*x[85], 3*x[87]-9*x[86], 0*x[88]-6*x[87], 4*x[89]-4*x[88], 4*x[90]-3*x[89], 8*x[91]-9*x[90], 2*x[92]-3*x[91], 7*x[93]-0*x[92], 3*x[94]-4*x[93], 2*x[95]-2*x[94], 1*x[96]-7*x[95], 8*x[97]-4*x[96], 9*x[98]-6*x[97]]\n",
    "func99(x...) = [2*x[1]-x[2], 6x[2]*5x[1], 3*x[3]-1*x[2], 0*x[4]-6*x[3], 4*x[5]-3*x[4], 1*x[6]-3*x[5], 9*x[7]-4*x[6], 8*x[8]-9*x[7], 0*x[9]-7*x[8], 1*x[10]-5*x[9], 8*x[11]-1*x[10], 7*x[12]-5*x[11], 2*x[13]-2*x[12], 3*x[14]-9*x[13], 8*x[15]-5*x[14], 8*x[16]-0*x[15], 3*x[17]-5*x[16], 0*x[18]-4*x[17], 8*x[19]-3*x[18], 2*x[20]-9*x[19], 3*x[21]-5*x[20], 4*x[22]-6*x[21], 6*x[23]-6*x[22], 8*x[24]-6*x[23], 7*x[25]-0*x[24], 9*x[26]-5*x[25], 9*x[27]-1*x[26], 3*x[28]-0*x[27], 4*x[29]-4*x[28], 7*x[30]-6*x[29], 5*x[31]-3*x[30], 9*x[32]-5*x[31], 0*x[33]-7*x[32], 2*x[34]-3*x[33], 4*x[35]-2*x[34], 2*x[36]-9*x[35], 3*x[37]-2*x[36], 7*x[38]-8*x[37], 3*x[39]-6*x[38], 8*x[40]-6*x[39], 0*x[41]-8*x[40], 1*x[42]-5*x[41], 7*x[43]-8*x[42], 2*x[44]-7*x[43], 7*x[45]-1*x[44], 1*x[46]-7*x[45], 4*x[47]-1*x[46], 2*x[48]-1*x[47], 1*x[49]-8*x[48], 0*x[50]-1*x[49], 0*x[51]-2*x[50], 0*x[52]-0*x[51], 5*x[53]-8*x[52], 0*x[54]-5*x[53], 2*x[55]-9*x[54], 6*x[56]-3*x[55], 1*x[57]-2*x[56], 8*x[58]-5*x[57], 8*x[59]-9*x[58], 2*x[60]-1*x[59], 0*x[61]-5*x[60], 7*x[62]-6*x[61], 1*x[63]-5*x[62], 0*x[64]-3*x[63], 9*x[65]-0*x[64], 1*x[66]-4*x[65], 5*x[67]-9*x[66], 7*x[68]-6*x[67], 6*x[69]-8*x[68], 3*x[70]-0*x[69], 1*x[71]-9*x[70], 2*x[72]-2*x[71], 6*x[73]-7*x[72], 9*x[74]-5*x[73], 3*x[75]-4*x[74], 4*x[76]-3*x[75], 3*x[77]-1*x[76], 3*x[78]-2*x[77], 8*x[79]-6*x[78], 2*x[80]-4*x[79], 7*x[81]-1*x[80], 2*x[82]-3*x[81], 7*x[83]-8*x[82], 5*x[84]-1*x[83], 6*x[85]-7*x[84], 1*x[86]-6*x[85], 3*x[87]-9*x[86], 0*x[88]-6*x[87], 4*x[89]-4*x[88], 4*x[90]-3*x[89], 8*x[91]-9*x[90], 2*x[92]-3*x[91], 7*x[93]-0*x[92], 3*x[94]-4*x[93], 2*x[95]-2*x[94], 1*x[96]-7*x[95], 8*x[97]-4*x[96], 9*x[98]-6*x[97], 0*x[99]-6*x[98]]\n",
    "func100(x...) = [2*x[1]-x[2], 6x[2]*5x[1], 3*x[3]-1*x[2], 0*x[4]-6*x[3], 4*x[5]-3*x[4], 1*x[6]-3*x[5], 9*x[7]-4*x[6], 8*x[8]-9*x[7], 0*x[9]-7*x[8], 1*x[10]-5*x[9], 8*x[11]-1*x[10], 7*x[12]-5*x[11], 2*x[13]-2*x[12], 3*x[14]-9*x[13], 8*x[15]-5*x[14], 8*x[16]-0*x[15], 3*x[17]-5*x[16], 0*x[18]-4*x[17], 8*x[19]-3*x[18], 2*x[20]-9*x[19], 3*x[21]-5*x[20], 4*x[22]-6*x[21], 6*x[23]-6*x[22], 8*x[24]-6*x[23], 7*x[25]-0*x[24], 9*x[26]-5*x[25], 9*x[27]-1*x[26], 3*x[28]-0*x[27], 4*x[29]-4*x[28], 7*x[30]-6*x[29], 5*x[31]-3*x[30], 9*x[32]-5*x[31], 0*x[33]-7*x[32], 2*x[34]-3*x[33], 4*x[35]-2*x[34], 2*x[36]-9*x[35], 3*x[37]-2*x[36], 7*x[38]-8*x[37], 3*x[39]-6*x[38], 8*x[40]-6*x[39], 0*x[41]-8*x[40], 1*x[42]-5*x[41], 7*x[43]-8*x[42], 2*x[44]-7*x[43], 7*x[45]-1*x[44], 1*x[46]-7*x[45], 4*x[47]-1*x[46], 2*x[48]-1*x[47], 1*x[49]-8*x[48], 0*x[50]-1*x[49], 0*x[51]-2*x[50], 0*x[52]-0*x[51], 5*x[53]-8*x[52], 0*x[54]-5*x[53], 2*x[55]-9*x[54], 6*x[56]-3*x[55], 1*x[57]-2*x[56], 8*x[58]-5*x[57], 8*x[59]-9*x[58], 2*x[60]-1*x[59], 0*x[61]-5*x[60], 7*x[62]-6*x[61], 1*x[63]-5*x[62], 0*x[64]-3*x[63], 9*x[65]-0*x[64], 1*x[66]-4*x[65], 5*x[67]-9*x[66], 7*x[68]-6*x[67], 6*x[69]-8*x[68], 3*x[70]-0*x[69], 1*x[71]-9*x[70], 2*x[72]-2*x[71], 6*x[73]-7*x[72], 9*x[74]-5*x[73], 3*x[75]-4*x[74], 4*x[76]-3*x[75], 3*x[77]-1*x[76], 3*x[78]-2*x[77], 8*x[79]-6*x[78], 2*x[80]-4*x[79], 7*x[81]-1*x[80], 2*x[82]-3*x[81], 7*x[83]-8*x[82], 5*x[84]-1*x[83], 6*x[85]-7*x[84], 1*x[86]-6*x[85], 3*x[87]-9*x[86], 0*x[88]-6*x[87], 4*x[89]-4*x[88], 4*x[90]-3*x[89], 8*x[91]-9*x[90], 2*x[92]-3*x[91], 7*x[93]-0*x[92], 3*x[94]-4*x[93], 2*x[95]-2*x[94], 1*x[96]-7*x[95], 8*x[97]-4*x[96], 9*x[98]-6*x[97], 0*x[99]-6*x[98], 2*x[100]-5*x[99]]\n",
    "func101(x...) = [2*x[1]-x[2], 6x[2]*5x[1], 3*x[3]-1*x[2], 0*x[4]-6*x[3], 4*x[5]-3*x[4], 1*x[6]-3*x[5], 9*x[7]-4*x[6], 8*x[8]-9*x[7], 0*x[9]-7*x[8], 1*x[10]-5*x[9], 8*x[11]-1*x[10], 7*x[12]-5*x[11], 2*x[13]-2*x[12], 3*x[14]-9*x[13], 8*x[15]-5*x[14], 8*x[16]-0*x[15], 3*x[17]-5*x[16], 0*x[18]-4*x[17], 8*x[19]-3*x[18], 2*x[20]-9*x[19], 3*x[21]-5*x[20], 4*x[22]-6*x[21], 6*x[23]-6*x[22], 8*x[24]-6*x[23], 7*x[25]-0*x[24], 9*x[26]-5*x[25], 9*x[27]-1*x[26], 3*x[28]-0*x[27], 4*x[29]-4*x[28], 7*x[30]-6*x[29], 5*x[31]-3*x[30], 9*x[32]-5*x[31], 0*x[33]-7*x[32], 2*x[34]-3*x[33], 4*x[35]-2*x[34], 2*x[36]-9*x[35], 3*x[37]-2*x[36], 7*x[38]-8*x[37], 3*x[39]-6*x[38], 8*x[40]-6*x[39], 0*x[41]-8*x[40], 1*x[42]-5*x[41], 7*x[43]-8*x[42], 2*x[44]-7*x[43], 7*x[45]-1*x[44], 1*x[46]-7*x[45], 4*x[47]-1*x[46], 2*x[48]-1*x[47], 1*x[49]-8*x[48], 0*x[50]-1*x[49], 0*x[51]-2*x[50], 0*x[52]-0*x[51], 5*x[53]-8*x[52], 0*x[54]-5*x[53], 2*x[55]-9*x[54], 6*x[56]-3*x[55], 1*x[57]-2*x[56], 8*x[58]-5*x[57], 8*x[59]-9*x[58], 2*x[60]-1*x[59], 0*x[61]-5*x[60], 7*x[62]-6*x[61], 1*x[63]-5*x[62], 0*x[64]-3*x[63], 9*x[65]-0*x[64], 1*x[66]-4*x[65], 5*x[67]-9*x[66], 7*x[68]-6*x[67], 6*x[69]-8*x[68], 3*x[70]-0*x[69], 1*x[71]-9*x[70], 2*x[72]-2*x[71], 6*x[73]-7*x[72], 9*x[74]-5*x[73], 3*x[75]-4*x[74], 4*x[76]-3*x[75], 3*x[77]-1*x[76], 3*x[78]-2*x[77], 8*x[79]-6*x[78], 2*x[80]-4*x[79], 7*x[81]-1*x[80], 2*x[82]-3*x[81], 7*x[83]-8*x[82], 5*x[84]-1*x[83], 6*x[85]-7*x[84], 1*x[86]-6*x[85], 3*x[87]-9*x[86], 0*x[88]-6*x[87], 4*x[89]-4*x[88], 4*x[90]-3*x[89], 8*x[91]-9*x[90], 2*x[92]-3*x[91], 7*x[93]-0*x[92], 3*x[94]-4*x[93], 2*x[95]-2*x[94], 1*x[96]-7*x[95], 8*x[97]-4*x[96], 9*x[98]-6*x[97], 0*x[99]-6*x[98], 2*x[100]-5*x[99], 1*x[101]-5*x[100]]\n"
   ]
  },
  {
   "cell_type": "code",
   "execution_count": null,
   "metadata": {},
   "outputs": [],
   "source": [
    "# tablica z funkcjami\n",
    "# również generowana z pomocą Excela\n",
    "fn = [func2, func3, func4, func5, func6, func7, func8, func9, func10, func11, func12, func13, func14, func15, func16, func17, func18, func19, func20, func21, func22, func23, func24, func25, func26, func27, func28, func29, func30, func31, func32, func33, func34, func35, func36, func37, func38, func39, func40, func41, func42, func43, func44, func45, func46, func47, func48, func49, func50, func51, func52, func53, func54, func55, func56, func57, func58, func59, func60, func61, func62, func63, func64, func65, func66, func67, func68, func69, func70, func71, func72, func73, func74, func75, func76, func77, func78, func79, func80, func81, func82, func83, func84, func85, func86, func87, func88, func89, func90, func91, func92, func93, func94, func95, func96, func97, func98, func99, func100, func101]"
   ]
  },
  {
   "cell_type": "code",
   "execution_count": null,
   "metadata": {},
   "outputs": [],
   "source": [
    "# puste tablice na wyniki\n",
    "times_forward = []\n",
    "allocs_forward = []\n",
    "times_reverse = []\n",
    "allocs_reverse = []"
   ]
  },
  {
   "cell_type": "code",
   "execution_count": null,
   "metadata": {},
   "outputs": [],
   "source": [
    "# funkcja, za pomocą której przebiegać będzie każde różniczkowanie w przód\n",
    "function goForward(f, iterator)\n",
    "    m = @benchmark ForwardDiff.jacobian(x-> f(x...), u[iterator])\n",
    "    append!(times_forward, mean(m.times))\n",
    "    append!(allocs_forward, m.allocs)\n",
    "end"
   ]
  },
  {
   "cell_type": "code",
   "execution_count": null,
   "metadata": {},
   "outputs": [],
   "source": [
    "# funkcja, za pomocą której przebiegać będzie każde różniczkowanie w tył\n",
    "function goReverse(f, iterator)\n",
    "    m = @benchmark ReverseDiff.jacobian(x-> f(x...), u[iterator])\n",
    "    append!(times_reverse, mean(m.times))\n",
    "    append!(allocs_reverse, m.allocs)\n",
    "end"
   ]
  },
  {
   "cell_type": "code",
   "execution_count": null,
   "metadata": {},
   "outputs": [],
   "source": [
    "#wykonanie obliczeń każdego ze 100 Jakobianów\n",
    "iterator = 2\n",
    "for fff in fn\n",
    "    goForward(fff, iterator)\n",
    "    goReverse(fff, iterator)\n",
    "    iterator = iterator + 1\n",
    "end"
   ]
  },
  {
   "cell_type": "code",
   "execution_count": null,
   "metadata": {},
   "outputs": [],
   "source": [
    "# export do csv w przypadku potrzeby dalszej obróbki danych\n",
    "# writedlm( \"reverse_times.csv\",  times_reverse, ',')\n",
    "# writedlm( \"forward_times.csv\",  times_forward, ',')\n",
    "# writedlm( \"reverse_allocs.csv\",  allocs_reverse, ',')\n",
    "# writedlm( \"forward_allocs.csv\",  allocs_forward, ',')"
   ]
  },
  {
   "cell_type": "code",
   "execution_count": null,
   "metadata": {},
   "outputs": [],
   "source": [
    "# tworzenie wykresu średniego czasu wykonywania obliczeń\n",
    "plot(d, times_reverse/1000, label = \"Różniczkowanie trybem w tył\")\n",
    "plot!(d, times_forward/1000, label = \"Różniczkowanie trybem w przód\")\n",
    "xlabel!(\"Rozmiar macierzy Jacobiego\")\n",
    "ylabel!(\"Czas wykonywania obliczeń [μs]\")\n",
    "#savefig(\"myplot.png\")"
   ]
  },
  {
   "cell_type": "code",
   "execution_count": null,
   "metadata": {},
   "outputs": [],
   "source": [
    "# tworzenie wykresu liczby alokacji\n",
    "plot(d, allocs_reverse, label = \"Liczba alokacji, tryb w tył\")\n",
    "plot!(d, allocs_forward, label = \"Liczba alokacji, tryb w przód\")\n",
    "xlabel!(\"Rozmiar macierzy Jacobiego\")\n",
    "ylabel!(\"Liczba alokacji\")\n",
    "#savefig(\"allocs.png\")"
   ]
  },
  {
   "cell_type": "markdown",
   "metadata": {},
   "source": [
    "# Implementacja prostej sieci neuronowej"
   ]
  },
  {
   "cell_type": "code",
   "execution_count": null,
   "metadata": {},
   "outputs": [],
   "source": [
    "# funkcja do tworzenia macierzy jednostkowej\n",
    "eye(n::Integer) = Matrix(1.0I, n, n);"
   ]
  },
  {
   "cell_type": "code",
   "execution_count": null,
   "metadata": {},
   "outputs": [],
   "source": [
    "# funkcja obliczająca griadienty E względem wag (metoda ręczna, należy znać strukturę sieci)\n",
    "function ∇W(x, x̂, ŷ, y, Wo)\n",
    "    Eŷ  = ŷ - y\n",
    "    ŷȳ  = ŷ  |> length |> eye\n",
    "    ȳWo = x̂  |> transpose\n",
    "    x̄Wh = x  |> transpose\n",
    "    ȳx̂  = Wo |> transpose\n",
    "    x̂x̄  = x̂  .* (1.0 .- x̂) |> diagonal\n",
    "    Eȳ  = ŷȳ * Eŷ\n",
    "    Ex̂  = ȳx̂ * Eȳ\n",
    "    Ex̄  = x̂x̄ * Ex̂\n",
    "    EWo = Eȳ * ȳWo\n",
    "    EWh = Ex̄ * x̄Wh\n",
    "    return EWo, EWh\n",
    "end"
   ]
  },
  {
   "cell_type": "code",
   "execution_count": null,
   "metadata": {},
   "outputs": [],
   "source": [
    "mean_squared_loss(y::Vector, ŷ::Vector) = sum(0.5(y - ŷ).^2) # definicja funkcji błędu\n",
    "fullyconnected(w::Vector, n::Number, m::Number, v::Vector, activation::Function) = activation.(reshape(w, n, m) * v)\n",
    "# Inicjalizacja wag\n",
    "Wh  = randn(10,2)\n",
    "Wo  = randn(1,10)\n",
    "dWh = similar(Wh)\n",
    "dWo = similar(Wo)\n",
    "x = [2.58;4.22]\n",
    "y = [0.125]\n",
    "E = Float64[]\n",
    "\n",
    "# stworzenie sieci\n",
    "function net(x, wh, wo, y)\n",
    "    x̂ = fullyconnected(wh, 10, 2, x, σ)\n",
    "    ŷ = fullyconnected(wo, 1, 10, x̂, u->u)\n",
    "        \n",
    "    E = mean_squared_loss(y, ŷ)\n",
    "end\n",
    "Ei = net(x, Wh[:], Wo[:], y)\n",
    "println(\"Initial loss: \", Ei)"
   ]
  },
  {
   "cell_type": "code",
   "execution_count": null,
   "metadata": {},
   "outputs": [],
   "source": [
    "dnet_Wh(x, wh, wo, y) = J(w -> net(x, w, wo, y), wh);\n",
    "dnet_Wo(x, wh, wo, y) = J(w -> net(x, wh, w, y), wo);"
   ]
  },
  {
   "cell_type": "code",
   "execution_count": null,
   "metadata": {},
   "outputs": [],
   "source": [
    "# przebieg uczenia\n",
    "iterations = 100  # należy określić ilość iteracji\n",
    "\n",
    "for i in 1:iterations\n",
    "    push!(E, Ei)\n",
    "    dWh[:] = dnet_Wh(x, Wh[:], Wo[:], y);\n",
    "    dWo[:] = dnet_Wo(x, Wh[:], Wo[:], y);\n",
    "    Wh -= 0.1dWh\n",
    "    Wo -= 0.1dWo\n",
    "    Ei  = net(x, Wh[:], Wo[:], y)\n",
    "end"
   ]
  },
  {
   "cell_type": "code",
   "execution_count": null,
   "metadata": {},
   "outputs": [],
   "source": [
    "# wyrysowanie wykresu\n",
    "plot(log10.(E), label=\"Loss function\", markersize = 2, marker=:square)\n",
    "xaxis!(\"epoch\")\n",
    "yaxis!(\"log(loss function)\")"
   ]
  },
  {
   "cell_type": "markdown",
   "metadata": {},
   "source": [
    "Źródła\n",
    "\n",
    "- https://github.com/JuliaAcademy/JuliaAcademyMaterials/blob/main/Courses/Foundations%20of%20machine%20learning/20.Automatic-Differentiation-in-10-Minutes.jl\n",
    "- https://eli.thegreenplace.net/2016/the-softmax-function-and-its-derivative/\n",
    "- https://github.com/bchaber/1di2153/blob/main/W03/reverse.ipynb\n",
    "- https://github.com/Roger-luo/YAAD.jl\n",
    "- https://www.youtube.com/watch?v=vAp6nUMrKYg\n",
    "- https://github.com/bchaber\n",
    "- https://www.geeksforgeeks.org/\n",
    "- https://discourse.julialang.org/\n",
    "- https://medium.com/@bowlescompling/m2-1-softmax-in-julia-1498901f741c\n",
    "- https://int8.io/neural-networks-in-julia-hyperbolic-tangent-and-relu/\n",
    "- https://arxiv.org/abs/1811.05031v2\n",
    "- https://github.com/JuliaDiff/ReverseDiff.jl\n",
    "- https://github.com/JuliaDiff/ForwardDiff.jl"
   ]
  }
 ],
 "metadata": {
  "@webio": {
   "lastCommId": null,
   "lastKernelId": null
  },
  "accelerator": "GPU",
  "colab": {
   "collapsed_sections": [],
   "name": "Kopia notatnika Julia_Colab_Notebook_Template.ipynb",
   "provenance": [
    {
     "file_id": "https://github.com/ageron/julia_notebooks/blob/master/Julia_Colab_Notebook_Template.ipynb",
     "timestamp": 1616603695204
    }
   ]
  },
  "kernelspec": {
   "display_name": "Julia 1.5.3",
   "language": "julia",
   "name": "julia-1.5"
  },
  "language_info": {
   "file_extension": ".jl",
   "mimetype": "application/julia",
   "name": "julia",
   "version": "1.5.3"
  }
 },
 "nbformat": 4,
 "nbformat_minor": 1
}
